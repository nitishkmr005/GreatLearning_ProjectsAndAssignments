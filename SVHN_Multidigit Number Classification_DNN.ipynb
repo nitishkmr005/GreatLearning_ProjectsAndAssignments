{
 "cells": [
  {
   "cell_type": "markdown",
   "metadata": {},
   "source": [
    "# The objective of the project is to learn how to implement a simple image classification pipeline based on a deep neural network. The goals of this project are as follows:\n",
    "\n",
    "Understand the basic Image Classification pipeline and the data-driven approach (train/predict stages)<br>\n",
    "Data fetching and understand the train/val/test splits. (5 points)<br>\n",
    "Implement and apply a deep neural network classifier including (feedforward neural network, RELU, activations) (10 points)<br>\n",
    "Understand and be able to implement (vectorized) backpropagation (cost stochastic gradient descent, cross-entropy loss, cost functions) (10 points)<br>\n",
    "Implement batch normalization for training the neural network (5 points)<br>\n",
    "Print the classification accuracy metrics (5 points)<br>"
   ]
  },
  {
   "cell_type": "code",
   "execution_count": 1,
   "metadata": {},
   "outputs": [],
   "source": [
    "import h5py\n",
    "import pandas as pd\n",
    "import numpy as np\n",
    "import matplotlib.pyplot as plt\n",
    "import tensorflow as tf\n",
    "from tensorflow.keras.models import Sequential\n",
    "from tensorflow.keras.layers import BatchNormalization\n",
    "from tensorflow.keras.layers import Activation\n",
    "from tensorflow.keras.layers import Flatten\n",
    "from tensorflow.keras.layers import Dropout\n",
    "from tensorflow.keras.layers import Dense\n",
    "from sklearn.metrics import classification_report"
   ]
  },
  {
   "cell_type": "markdown",
   "metadata": {},
   "source": [
    "An HDF5 file is a container for two kinds of objects: datasets, which are array-like collections of data, and groups, which are folder-like containers that hold datasets and other groups. The most fundamental thing to remember when using h5py is:\n",
    "\n",
    "Groups work like dictionaries, and datasets work like NumPy arrays"
   ]
  },
  {
   "cell_type": "code",
   "execution_count": 2,
   "metadata": {},
   "outputs": [],
   "source": [
    "df = h5py.File('SVHN_single_grey1-2.h5', 'r+')"
   ]
  },
  {
   "cell_type": "code",
   "execution_count": 3,
   "metadata": {},
   "outputs": [
    {
     "data": {
      "text/plain": [
       "['X_test', 'X_train', 'X_val', 'y_test', 'y_train', 'y_val']"
      ]
     },
     "execution_count": 3,
     "metadata": {},
     "output_type": "execute_result"
    }
   ],
   "source": [
    "list(df.keys())"
   ]
  },
  {
   "cell_type": "code",
   "execution_count": 4,
   "metadata": {},
   "outputs": [
    {
     "data": {
      "text/plain": [
       "((42000, 32, 32), (18000, 32, 32), (60000, 32, 32))"
      ]
     },
     "execution_count": 4,
     "metadata": {},
     "output_type": "execute_result"
    }
   ],
   "source": [
    "df['X_train'].shape,df['X_test'].shape,df['X_val'].shape"
   ]
  },
  {
   "cell_type": "code",
   "execution_count": 5,
   "metadata": {},
   "outputs": [],
   "source": [
    "X_train=np.array(df.get('X_train'))\n",
    "X_test=np.array(df.get('X_test'))\n",
    "X_val=np.array(df.get('X_val'))\n",
    "y_train=np.array(df.get('y_train'))\n",
    "ytest=np.array(df.get('y_test'))\n",
    "y_val=np.array(df.get('y_val'))"
   ]
  },
  {
   "cell_type": "code",
   "execution_count": 6,
   "metadata": {},
   "outputs": [
    {
     "data": {
      "text/plain": [
       "array([[[ 33.0704,  30.2601,  26.852 , ...,  71.4471,  58.2204,\n",
       "          42.9939],\n",
       "        [ 25.2283,  25.5533,  29.9765, ..., 113.0209, 103.3639,\n",
       "          84.2949],\n",
       "        [ 26.2775,  22.6137,  40.4763, ..., 113.3028, 121.775 ,\n",
       "         115.4228],\n",
       "        ...,\n",
       "        [ 28.5502,  36.212 ,  45.0801, ...,  24.1359,  25.0927,\n",
       "          26.0603],\n",
       "        [ 38.4352,  26.4733,  23.2717, ...,  28.1094,  29.4683,\n",
       "          30.0661],\n",
       "        [ 50.2984,  26.0773,  24.0389, ...,  49.6682,  50.853 ,\n",
       "          53.0377]],\n",
       "\n",
       "       [[ 86.9591,  87.0685,  88.3735, ...,  91.8014,  89.7477,\n",
       "          92.5302],\n",
       "        [ 86.688 ,  86.9114,  87.4337, ...,  90.7306,  87.204 ,\n",
       "          88.5629],\n",
       "        [ 85.9654,  85.8145,  85.9239, ...,  63.8626,  59.8199,\n",
       "          54.8805],\n",
       "        ...,\n",
       "        [ 90.2236,  91.0448,  93.4637, ...,  55.3535,  48.5822,\n",
       "          44.0557],\n",
       "        [ 90.6427,  90.4039,  90.937 , ...,  78.2696,  77.4977,\n",
       "          74.27  ],\n",
       "        [ 88.0236,  88.1977,  86.6709, ...,  75.2206,  76.6396,\n",
       "          79.2865]],\n",
       "\n",
       "       [[123.125 , 125.8581, 122.0757, ..., 123.5747, 124.1186,\n",
       "         123.3144],\n",
       "        [121.1683, 124.1294, 117.4613, ..., 115.6078, 119.5751,\n",
       "         122.8306],\n",
       "        [124.6132, 121.1019, 109.6623, ..., 111.1783, 119.7923,\n",
       "         124.7595],\n",
       "        ...,\n",
       "        [135.1391, 127.3679, 117.754 , ...,  95.0919, 105.5917,\n",
       "         114.9283],\n",
       "        [134.8402, 131.9545, 124.0415, ...,  93.864 , 105.3036,\n",
       "         115.1132],\n",
       "        [134.8402, 132.0685, 128.34  , ...,  93.9349, 104.7875,\n",
       "         113.8252]],\n",
       "\n",
       "       ...,\n",
       "\n",
       "       [[154.094 , 155.8057, 156.8164, ..., 138.9322, 136.1605,\n",
       "         133.0468],\n",
       "        [145.725 , 147.4367, 150.0343, ..., 145.4477, 140.9751,\n",
       "         136.9647],\n",
       "        [144.9531, 144.8391, 143.85  , ..., 143.263 , 143.263 ,\n",
       "         146.4799],\n",
       "        ...,\n",
       "        [150.2237, 150.8107, 150.1097, ...,  96.8207,  96.9239,\n",
       "          97.2228],\n",
       "        [151.6365, 152.2235, 151.1096, ..., 120.8892, 121.8891,\n",
       "         123.1771],\n",
       "        [146.5769, 147.9358, 147.9358, ..., 135.1328, 136.6596,\n",
       "         137.6595]],\n",
       "\n",
       "       [[207.4954, 208.4953, 213.0218, ..., 210.1361, 208.4244,\n",
       "         203.4357],\n",
       "        [204.4957, 207.6094, 213.6088, ..., 209.4243, 207.8374,\n",
       "         202.5498],\n",
       "        [204.3216, 208.3212, 212.9078, ..., 209.0222, 207.1364,\n",
       "         201.4359],\n",
       "        ...,\n",
       "        [199.1372, 202.083 , 207.4523, ..., 212.8477, 211.8478,\n",
       "         209.5491],\n",
       "        [201.137 , 201.61  , 205.2676, ..., 213.9616, 213.5487,\n",
       "         209.1362],\n",
       "        [202.9088, 202.9088, 206.9084, ..., 214.1357, 212.1359,\n",
       "         209.1362]],\n",
       "\n",
       "       [[ 95.0784,  96.0783, 100.0779, ..., 122.7551, 122.8691,\n",
       "         122.8691],\n",
       "        [ 95.0784,  96.0783, 100.0779, ..., 122.8691, 122.9831,\n",
       "         122.9831],\n",
       "        [ 95.0784,  96.0783, 101.0778, ..., 126.5698, 126.9827,\n",
       "         126.9827],\n",
       "        ...,\n",
       "        [ 98.833 ,  99.8329, 103.8325, ..., 129.8962, 131.896 ,\n",
       "         131.896 ],\n",
       "        [ 98.833 ,  99.8329, 103.8325, ..., 136.0805, 138.1943,\n",
       "         138.1943],\n",
       "        [ 98.833 ,  99.8329, 103.8325, ..., 138.0803, 140.493 ,\n",
       "         140.493 ]]], dtype=float32)"
      ]
     },
     "execution_count": 6,
     "metadata": {},
     "output_type": "execute_result"
    }
   ],
   "source": [
    "X_train"
   ]
  },
  {
   "cell_type": "code",
   "execution_count": 7,
   "metadata": {},
   "outputs": [
    {
     "data": {
      "image/png": "[encoded data removed]",
      "text/plain": [
       "<Figure size 720x720 with 20 Axes>"
      ]
     },
     "metadata": {},
     "output_type": "display_data"
    }
   ],
   "source": [
    "plt.figure(figsize=(10,10))\n",
    "for i in range(20):\n",
    "    plt.subplot(1,20,i+1)\n",
    "    plt.xticks([])\n",
    "    plt.yticks([])\n",
    "    plt.grid(False)\n",
    "    plt.imshow(X_train[i], cmap='gray')\n",
    "    plt.xlabel(y_train[i])\n",
    "plt.show()"
   ]
  },
  {
   "cell_type": "code",
   "execution_count": 8,
   "metadata": {},
   "outputs": [],
   "source": [
    "X_train=X_train.reshape(X_train.shape[0],1024).astype('float32')\n",
    "X_test=X_test.reshape(X_test.shape[0],1024).astype('float32')\n",
    "X_val=X_val.reshape(X_val.shape[0],1024).astype('float32')"
   ]
  },
  {
   "cell_type": "code",
   "execution_count": 9,
   "metadata": {},
   "outputs": [
    {
     "data": {
      "text/plain": [
       "(42000,)"
      ]
     },
     "execution_count": 9,
     "metadata": {},
     "output_type": "execute_result"
    }
   ],
   "source": [
    "y_train.shape"
   ]
  },
  {
   "cell_type": "code",
   "execution_count": 10,
   "metadata": {},
   "outputs": [
    {
     "data": {
      "text/plain": [
       "3    4281\n",
       "5    4232\n",
       "2    4197\n",
       "9    4196\n",
       "7    4192\n",
       "8    4188\n",
       "4    4188\n",
       "0    4186\n",
       "1    4172\n",
       "6    4168\n",
       "Name: 0, dtype: int64"
      ]
     },
     "execution_count": 10,
     "metadata": {},
     "output_type": "execute_result"
    }
   ],
   "source": [
    "L=pd.DataFrame(y_train)\n",
    "L[0].value_counts()"
   ]
  },
  {
   "cell_type": "code",
   "execution_count": 11,
   "metadata": {},
   "outputs": [
    {
     "data": {
      "text/plain": [
       "array([[0., 0., 1., ..., 0., 0., 0.],\n",
       "       [0., 0., 0., ..., 0., 0., 0.],\n",
       "       [0., 0., 0., ..., 1., 0., 0.],\n",
       "       ...,\n",
       "       [0., 0., 0., ..., 1., 0., 0.],\n",
       "       [1., 0., 0., ..., 0., 0., 0.],\n",
       "       [0., 0., 0., ..., 0., 0., 0.]], dtype=float32)"
      ]
     },
     "execution_count": 11,
     "metadata": {},
     "output_type": "execute_result"
    }
   ],
   "source": [
    "#Encoding the output class label (One-Hot Encoding)\n",
    "y_train=tf.keras.utils.to_categorical(y_train,10)\n",
    "y_test=tf.keras.utils.to_categorical(ytest,10)\n",
    "y_val=tf.keras.utils.to_categorical(y_val,10)\n",
    "y_train"
   ]
  },
  {
   "cell_type": "code",
   "execution_count": 12,
   "metadata": {},
   "outputs": [
    {
     "data": {
      "text/plain": [
       "((42000, 1024), (42000, 10))"
      ]
     },
     "execution_count": 12,
     "metadata": {},
     "output_type": "execute_result"
    }
   ],
   "source": [
    "X_train.shape,y_train.shape"
   ]
  },
  {
   "cell_type": "code",
   "execution_count": 13,
   "metadata": {},
   "outputs": [],
   "source": [
    "# Data Normalization\n",
    "X_train/=255\n",
    "X_val/=255\n",
    "X_test/=255"
   ]
  },
  {
   "cell_type": "markdown",
   "metadata": {},
   "source": [
    "# Implement and apply a deep neural network classifier including (feedforward neural network, RELU, activations) (10 points)"
   ]
  },
  {
   "cell_type": "code",
   "execution_count": 14,
   "metadata": {},
   "outputs": [
    {
     "name": "stdout",
     "output_type": "stream",
     "text": [
      "Model: \"sequential\"\n",
      "_________________________________________________________________\n",
      "Layer (type)                 Output Shape              Param #   \n",
      "=================================================================\n",
      "dense (Dense)                (None, 1024)              1049600   \n",
      "_________________________________________________________________\n",
      "dense_1 (Dense)              (None, 2048)              2099200   \n",
      "_________________________________________________________________\n",
      "dense_2 (Dense)              (None, 512)               1049088   \n",
      "_________________________________________________________________\n",
      "dense_3 (Dense)              (None, 256)               131328    \n",
      "_________________________________________________________________\n",
      "dense_4 (Dense)              (None, 128)               32896     \n",
      "_________________________________________________________________\n",
      "dense_5 (Dense)              (None, 64)                8256      \n",
      "_________________________________________________________________\n",
      "dense_6 (Dense)              (None, 10)                650       \n",
      "=================================================================\n",
      "Total params: 4,371,018\n",
      "Trainable params: 4,371,018\n",
      "Non-trainable params: 0\n",
      "_________________________________________________________________\n",
      "None\n"
     ]
    }
   ],
   "source": [
    "# Define model architecture\n",
    "model = Sequential()\n",
    "model.add(Dense(1024, activation='relu', input_shape=(1024,)))   #First input layer of 1024  neurons, each neuron takes input \n",
    "                                                               # vector of size 1024\n",
    "model.add(Dense(2048, activation='relu'))                # adding hidden Layer 1\n",
    "model.add(Dense(512, activation='relu'))                # adding hidden Layer 2\n",
    "model.add(Dense(256, activation='relu'))                # adding hidden Layer 3\n",
    "model.add(Dense(128, activation='relu'))                # adding hidden Layer 4\n",
    "model.add(Dense(64, activation='relu'))                # adding hidden Layer 5\n",
    "model.add(Dense(10, activation='softmax'))            # Adding a softmax layer for output which contains as many \n",
    "                                                               # neurons as the number of classes (10) which is also the \n",
    "                                                               # the shape of each output vector ( one hot coded)\n",
    "\n",
    "                                                               # output layer also uses softmax. This normalizes the values \n",
    "                                                               # from the ten output nodes such that: \n",
    "                                                               #        all the values are between 0 and 1, and\n",
    "                                                               #        the sum of all ten values is 1.  \n",
    "                                                               # prediction is the lable of the node that gets highest fraction, is \n",
    "        \n",
    "        \n",
    "print (model.summary())"
   ]
  },
  {
   "cell_type": "code",
   "execution_count": 15,
   "metadata": {},
   "outputs": [],
   "source": [
    "model.compile(loss='categorical_crossentropy',\n",
    "             optimizer='adam',\n",
    "             metrics=['accuracy'])\n",
    "\n",
    "#model.compile(loss='categorical_crossentropy',\n",
    "#             optimizer='rmsprop',\n",
    "#             metrics=['accuracy'])"
   ]
  },
  {
   "cell_type": "code",
   "execution_count": 16,
   "metadata": {},
   "outputs": [
    {
     "name": "stdout",
     "output_type": "stream",
     "text": [
      "Train on 42000 samples, validate on 60000 samples\n",
      "Epoch 1/65\n",
      "42000/42000 [==============================] - 19s 451us/sample - loss: 2.2982 - accuracy: 0.1102 - val_loss: 2.2903 - val_accuracy: 0.1116\n",
      "Epoch 2/65\n",
      "42000/42000 [==============================] - 20s 475us/sample - loss: 1.9461 - accuracy: 0.2656 - val_loss: 1.6236 - val_accuracy: 0.4207\n",
      "Epoch 3/65\n",
      "42000/42000 [==============================] - 19s 463us/sample - loss: 1.5335 - accuracy: 0.4628 - val_loss: 1.5369 - val_accuracy: 0.4596\n",
      "Epoch 4/65\n",
      "42000/42000 [==============================] - 20s 466us/sample - loss: 1.3341 - accuracy: 0.5480 - val_loss: 1.4182 - val_accuracy: 0.5213\n",
      "Epoch 5/65\n",
      "42000/42000 [==============================] - 19s 457us/sample - loss: 1.2227 - accuracy: 0.5950 - val_loss: 1.3158 - val_accuracy: 0.5662\n",
      "Epoch 6/65\n",
      "42000/42000 [==============================] - 20s 467us/sample - loss: 1.1092 - accuracy: 0.6393 - val_loss: 1.4671 - val_accuracy: 0.5280\n",
      "Epoch 7/65\n",
      "42000/42000 [==============================] - 19s 456us/sample - loss: 1.0450 - accuracy: 0.6618 - val_loss: 1.0662 - val_accuracy: 0.6481\n",
      "Epoch 8/65\n",
      "42000/42000 [==============================] - 19s 462us/sample - loss: 0.9911 - accuracy: 0.6798 - val_loss: 1.0266 - val_accuracy: 0.6691\n",
      "Epoch 9/65\n",
      "42000/42000 [==============================] - 19s 451us/sample - loss: 0.9326 - accuracy: 0.7006 - val_loss: 0.9735 - val_accuracy: 0.6862\n",
      "Epoch 10/65\n",
      "42000/42000 [==============================] - 20s 475us/sample - loss: 0.8844 - accuracy: 0.7178 - val_loss: 0.8309 - val_accuracy: 0.7363\n",
      "Epoch 11/65\n",
      "42000/42000 [==============================] - 19s 464us/sample - loss: 0.8237 - accuracy: 0.7350 - val_loss: 0.9938 - val_accuracy: 0.6777\n",
      "Epoch 12/65\n",
      "42000/42000 [==============================] - 19s 455us/sample - loss: 0.8077 - accuracy: 0.7391 - val_loss: 0.9229 - val_accuracy: 0.6982\n",
      "Epoch 13/65\n",
      "42000/42000 [==============================] - 20s 465us/sample - loss: 0.7569 - accuracy: 0.7557 - val_loss: 0.8021 - val_accuracy: 0.7409\n",
      "Epoch 14/65\n",
      "42000/42000 [==============================] - 21s 498us/sample - loss: 0.7208 - accuracy: 0.7673 - val_loss: 0.7424 - val_accuracy: 0.7592\n",
      "Epoch 15/65\n",
      "42000/42000 [==============================] - 21s 495us/sample - loss: 0.7034 - accuracy: 0.7744 - val_loss: 0.7494 - val_accuracy: 0.7583\n",
      "Epoch 16/65\n",
      "42000/42000 [==============================] - 20s 467us/sample - loss: 0.6748 - accuracy: 0.7844 - val_loss: 0.8118 - val_accuracy: 0.7366\n",
      "Epoch 17/65\n",
      "42000/42000 [==============================] - 21s 501us/sample - loss: 0.6607 - accuracy: 0.7888 - val_loss: 0.8276 - val_accuracy: 0.7304\n",
      "Epoch 18/65\n",
      "42000/42000 [==============================] - 20s 477us/sample - loss: 0.6350 - accuracy: 0.7974 - val_loss: 0.9167 - val_accuracy: 0.7083\n",
      "Epoch 19/65\n",
      "42000/42000 [==============================] - 19s 445us/sample - loss: 0.6037 - accuracy: 0.8069 - val_loss: 0.9317 - val_accuracy: 0.7070\n",
      "Epoch 20/65\n",
      "42000/42000 [==============================] - 19s 450us/sample - loss: 0.6020 - accuracy: 0.8081 - val_loss: 0.7149 - val_accuracy: 0.7723\n",
      "Epoch 21/65\n",
      "42000/42000 [==============================] - 19s 461us/sample - loss: 0.5762 - accuracy: 0.8150 - val_loss: 0.5572 - val_accuracy: 0.8243\n",
      "Epoch 22/65\n",
      "42000/42000 [==============================] - 18s 437us/sample - loss: 0.5294 - accuracy: 0.8285 - val_loss: 0.7602 - val_accuracy: 0.7544\n",
      "Epoch 23/65\n",
      "42000/42000 [==============================] - 19s 447us/sample - loss: 0.5339 - accuracy: 0.8277 - val_loss: 0.5752 - val_accuracy: 0.8154\n",
      "Epoch 24/65\n",
      "42000/42000 [==============================] - 20s 466us/sample - loss: 0.4980 - accuracy: 0.8388 - val_loss: 0.6292 - val_accuracy: 0.7999\n",
      "Epoch 25/65\n",
      "42000/42000 [==============================] - 20s 485us/sample - loss: 0.4894 - accuracy: 0.8407 - val_loss: 0.5249 - val_accuracy: 0.8347\n",
      "Epoch 26/65\n",
      "42000/42000 [==============================] - 21s 499us/sample - loss: 0.4515 - accuracy: 0.8527 - val_loss: 0.5730 - val_accuracy: 0.8202\n",
      "Epoch 27/65\n",
      "42000/42000 [==============================] - 21s 490us/sample - loss: 0.4524 - accuracy: 0.8536 - val_loss: 0.5833 - val_accuracy: 0.8111\n",
      "Epoch 28/65\n",
      "42000/42000 [==============================] - 20s 484us/sample - loss: 0.4342 - accuracy: 0.8592 - val_loss: 0.5181 - val_accuracy: 0.8383\n",
      "Epoch 29/65\n",
      "42000/42000 [==============================] - 20s 485us/sample - loss: 0.4110 - accuracy: 0.8671 - val_loss: 0.4901 - val_accuracy: 0.8453\n",
      "Epoch 30/65\n",
      "42000/42000 [==============================] - 20s 484us/sample - loss: 0.3976 - accuracy: 0.8691 - val_loss: 0.4966 - val_accuracy: 0.8476\n",
      "Epoch 31/65\n",
      "42000/42000 [==============================] - 21s 498us/sample - loss: 0.3990 - accuracy: 0.8674 - val_loss: 0.5429 - val_accuracy: 0.8329\n",
      "Epoch 32/65\n",
      "42000/42000 [==============================] - 21s 494us/sample - loss: 0.3612 - accuracy: 0.8808 - val_loss: 0.4329 - val_accuracy: 0.8694\n",
      "Epoch 33/65\n",
      "42000/42000 [==============================] - 21s 489us/sample - loss: 0.3529 - accuracy: 0.8833 - val_loss: 0.5364 - val_accuracy: 0.8332\n",
      "Epoch 34/65\n",
      "42000/42000 [==============================] - 21s 492us/sample - loss: 0.3581 - accuracy: 0.8802 - val_loss: 0.5228 - val_accuracy: 0.8418\n",
      "Epoch 35/65\n",
      "42000/42000 [==============================] - 20s 477us/sample - loss: 0.3460 - accuracy: 0.8847 - val_loss: 0.5256 - val_accuracy: 0.8390\n",
      "Epoch 36/65\n",
      "42000/42000 [==============================] - 20s 484us/sample - loss: 0.3111 - accuracy: 0.8963 - val_loss: 0.4806 - val_accuracy: 0.8545\n",
      "Epoch 37/65\n",
      "42000/42000 [==============================] - 21s 488us/sample - loss: 0.3389 - accuracy: 0.8882 - val_loss: 0.4725 - val_accuracy: 0.8565\n",
      "Epoch 38/65\n",
      "42000/42000 [==============================] - 20s 471us/sample - loss: 0.3050 - accuracy: 0.8985 - val_loss: 0.4347 - val_accuracy: 0.8731\n",
      "Epoch 39/65\n",
      "42000/42000 [==============================] - 20s 487us/sample - loss: 0.2644 - accuracy: 0.9121 - val_loss: 0.3867 - val_accuracy: 0.8889\n",
      "Epoch 40/65\n",
      "42000/42000 [==============================] - 21s 496us/sample - loss: 0.2674 - accuracy: 0.9101 - val_loss: 0.4436 - val_accuracy: 0.8704\n",
      "Epoch 41/65\n",
      "42000/42000 [==============================] - 23s 553us/sample - loss: 0.2687 - accuracy: 0.9104 - val_loss: 0.4424 - val_accuracy: 0.8730\n",
      "Epoch 42/65\n",
      "42000/42000 [==============================] - 27s 654us/sample - loss: 0.2637 - accuracy: 0.9127 - val_loss: 0.4203 - val_accuracy: 0.8818\n",
      "Epoch 43/65\n",
      "42000/42000 [==============================] - 26s 615us/sample - loss: 0.2397 - accuracy: 0.9199 - val_loss: 0.4385 - val_accuracy: 0.8736\n",
      "Epoch 44/65\n",
      "42000/42000 [==============================] - 25s 589us/sample - loss: 0.2502 - accuracy: 0.9156 - val_loss: 0.4534 - val_accuracy: 0.8789\n",
      "Epoch 45/65\n",
      "42000/42000 [==============================] - 25s 598us/sample - loss: 0.2424 - accuracy: 0.9182 - val_loss: 0.4491 - val_accuracy: 0.8750\n",
      "Epoch 46/65\n",
      "42000/42000 [==============================] - 22s 518us/sample - loss: 0.2128 - accuracy: 0.9295 - val_loss: 0.4135 - val_accuracy: 0.8923\n",
      "Epoch 47/65\n",
      "42000/42000 [==============================] - 24s 581us/sample - loss: 0.2183 - accuracy: 0.9269 - val_loss: 0.4155 - val_accuracy: 0.8910\n",
      "Epoch 48/65\n",
      "42000/42000 [==============================] - 25s 584us/sample - loss: 0.2194 - accuracy: 0.9250 - val_loss: 0.4393 - val_accuracy: 0.8828\n",
      "Epoch 49/65\n",
      "42000/42000 [==============================] - 22s 525us/sample - loss: 0.2050 - accuracy: 0.9308 - val_loss: 0.3510 - val_accuracy: 0.9093\n",
      "Epoch 50/65\n",
      "42000/42000 [==============================] - 22s 517us/sample - loss: 0.1747 - accuracy: 0.9421 - val_loss: 0.4641 - val_accuracy: 0.8842\n",
      "Epoch 51/65\n",
      "42000/42000 [==============================] - 23s 541us/sample - loss: 0.1793 - accuracy: 0.9398 - val_loss: 0.4938 - val_accuracy: 0.8745\n",
      "Epoch 52/65\n",
      "42000/42000 [==============================] - 21s 510us/sample - loss: 0.1927 - accuracy: 0.9347 - val_loss: 0.3821 - val_accuracy: 0.9082\n",
      "Epoch 53/65\n",
      "42000/42000 [==============================] - 23s 552us/sample - loss: 0.1578 - accuracy: 0.9464 - val_loss: 0.4193 - val_accuracy: 0.9002\n",
      "Epoch 54/65\n"
     ]
    },
    {
     "name": "stdout",
     "output_type": "stream",
     "text": [
      "42000/42000 [==============================] - 23s 540us/sample - loss: 0.1544 - accuracy: 0.9473 - val_loss: 0.4035 - val_accuracy: 0.9086\n",
      "Epoch 55/65\n",
      "42000/42000 [==============================] - 24s 563us/sample - loss: 0.1843 - accuracy: 0.9377 - val_loss: 0.4616 - val_accuracy: 0.8841\n",
      "Epoch 56/65\n",
      "42000/42000 [==============================] - 23s 559us/sample - loss: 0.1804 - accuracy: 0.9391 - val_loss: 0.6275 - val_accuracy: 0.8471\n",
      "Epoch 57/65\n",
      "42000/42000 [==============================] - 22s 527us/sample - loss: 0.2040 - accuracy: 0.9327 - val_loss: 0.3891 - val_accuracy: 0.9118\n",
      "Epoch 58/65\n",
      "42000/42000 [==============================] - 21s 511us/sample - loss: 0.1285 - accuracy: 0.9561 - val_loss: 0.5112 - val_accuracy: 0.8808\n",
      "Epoch 59/65\n",
      "42000/42000 [==============================] - 22s 531us/sample - loss: 0.2053 - accuracy: 0.9312 - val_loss: 0.4472 - val_accuracy: 0.8957\n",
      "Epoch 60/65\n",
      "42000/42000 [==============================] - 22s 524us/sample - loss: 0.1286 - accuracy: 0.9558 - val_loss: 0.4247 - val_accuracy: 0.9048\n",
      "Epoch 61/65\n",
      "42000/42000 [==============================] - 22s 519us/sample - loss: 0.1596 - accuracy: 0.9454 - val_loss: 0.3948 - val_accuracy: 0.9108\n",
      "Epoch 62/65\n",
      "42000/42000 [==============================] - 22s 520us/sample - loss: 0.1303 - accuracy: 0.9556 - val_loss: 0.5325 - val_accuracy: 0.8849\n",
      "Epoch 63/65\n",
      "42000/42000 [==============================] - 23s 550us/sample - loss: 0.1389 - accuracy: 0.9537 - val_loss: 0.4199 - val_accuracy: 0.9113\n",
      "Epoch 64/65\n",
      "42000/42000 [==============================] - 23s 553us/sample - loss: 0.1483 - accuracy: 0.9488 - val_loss: 0.3717 - val_accuracy: 0.9234\n",
      "Epoch 65/65\n",
      "42000/42000 [==============================] - 21s 497us/sample - loss: 0.1164 - accuracy: 0.9611 - val_loss: 0.3641 - val_accuracy: 0.9287\n"
     ]
    }
   ],
   "source": [
    "tensorboard = tf.keras.callbacks.TensorBoard(log_dir='/tmp/mnist/dnn_v1',profile_batch = 100000000)\n",
    "history=model.fit(X_train, y_train ,batch_size=256,epochs=65,verbose=1,validation_data=(X_val, y_val),callbacks=[tensorboard])\n",
    "model.save('/tmp/mnist/v5.h5')"
   ]
  },
  {
   "cell_type": "code",
   "execution_count": 17,
   "metadata": {},
   "outputs": [],
   "source": [
    "val_accuracy  = model.evaluate(X_val, y_val, verbose=False)"
   ]
  },
  {
   "cell_type": "code",
   "execution_count": 18,
   "metadata": {},
   "outputs": [
    {
     "name": "stdout",
     "output_type": "stream",
     "text": [
      "\n",
      " Validation accuracy: 0.92866665\n"
     ]
    }
   ],
   "source": [
    "print('\\n', 'Validation accuracy:', val_accuracy[1])"
   ]
  },
  {
   "cell_type": "code",
   "execution_count": 19,
   "metadata": {},
   "outputs": [
    {
     "name": "stdout",
     "output_type": "stream",
     "text": [
      "\n",
      " Test accuracy: 0.8157778\n"
     ]
    }
   ],
   "source": [
    "# Evaluate the model on test set\n",
    "score = model.evaluate(X_test, y_test, verbose=0)\n",
    "# Print test accuracy\n",
    "print('\\n', 'Test accuracy:', score[1])"
   ]
  },
  {
   "cell_type": "code",
   "execution_count": 32,
   "metadata": {},
   "outputs": [
    {
     "name": "stdout",
     "output_type": "stream",
     "text": [
      "[[1538   35   13   20   35   20   39   25   41   48]\n",
      " [  21 1497   25   48   75   19   31   38   51   23]\n",
      " [  21   27 1496   43   41   15   19   67   31   43]\n",
      " [  15   32   44 1356   23  119   28   33   42   27]\n",
      " [  18   32   34   27 1555   22   37   15   37   35]\n",
      " [  16   26   18  113   16 1395   70    4   73   37]\n",
      " [  37   23   22   24   42   75 1512    9   74   14]\n",
      " [  25   84   78   41   18   19   12 1486   15   30]\n",
      " [  25   36   19   45   41   57   93   10 1435   51]\n",
      " [  45   36   26   47   35   75   20   26   80 1414]]\n",
      "              precision    recall  f1-score   support\n",
      "\n",
      "           0       0.87      0.85      0.86      1814\n",
      "           1       0.82      0.82      0.82      1828\n",
      "           2       0.84      0.83      0.84      1803\n",
      "           3       0.77      0.79      0.78      1719\n",
      "           4       0.83      0.86      0.84      1812\n",
      "           5       0.77      0.79      0.78      1768\n",
      "           6       0.81      0.83      0.82      1832\n",
      "           7       0.87      0.82      0.84      1808\n",
      "           8       0.76      0.79      0.78      1812\n",
      "           9       0.82      0.78      0.80      1804\n",
      "\n",
      "    accuracy                           0.82     18000\n",
      "   macro avg       0.82      0.82      0.82     18000\n",
      "weighted avg       0.82      0.82      0.82     18000\n",
      "\n"
     ]
    }
   ],
   "source": [
    "from sklearn import metrics\n",
    "predictions = model.predict(X_test)\n",
    "y_pred = []\n",
    "for val in predictions:\n",
    "    y_pred.append(np.argmax(val))\n",
    "cm = metrics.confusion_matrix(ytest,y_pred)\n",
    "print(cm)\n",
    "cr=metrics.classification_report(ytest,y_pred)\n",
    "print(cr)"
   ]
  },
  {
   "cell_type": "code",
   "execution_count": 33,
   "metadata": {},
   "outputs": [
    {
     "data": {
      "text/plain": [
       "<matplotlib.legend.Legend at 0x2a34e1cfb48>"
      ]
     },
     "execution_count": 33,
     "metadata": {},
     "output_type": "execute_result"
    },
    {
     "data": {
      "image/png": "[encoded data removed]",
      "text/plain": [
       "<Figure size 432x288 with 1 Axes>"
      ]
     },
     "metadata": {
      "needs_background": "light"
     },
     "output_type": "display_data"
    }
   ],
   "source": [
    "plt.plot(history.history['loss'])\n",
    "plt.plot(history.history['val_loss'])\n",
    "plt.title('model loss')\n",
    "plt.ylabel('loss')\n",
    "plt.xlabel('epoch')\n",
    "plt.legend(['train', 'test'], loc='upper left')"
   ]
  },
  {
   "cell_type": "code",
   "execution_count": 34,
   "metadata": {
    "scrolled": true
   },
   "outputs": [
    {
     "data": {
      "text/plain": [
       "<matplotlib.legend.Legend at 0x2a34e23d888>"
      ]
     },
     "execution_count": 34,
     "metadata": {},
     "output_type": "execute_result"
    },
    {
     "data": {
      "image/png": "[encoded data removed]",
      "text/plain": [
       "<Figure size 432x288 with 1 Axes>"
      ]
     },
     "metadata": {
      "needs_background": "light"
     },
     "output_type": "display_data"
    }
   ],
   "source": [
    "plt.plot(history.history['accuracy'])\n",
    "plt.plot(history.history['val_accuracy'])\n",
    "plt.title('model Accuracy')\n",
    "plt.ylabel('Accuracy')\n",
    "plt.xlabel('epoch')\n",
    "plt.legend(['train', 'test'], loc='upper left')"
   ]
  },
  {
   "cell_type": "markdown",
   "metadata": {},
   "source": [
    "# Understand and be able to implement (vectorized) backpropagation (cost stochastic gradient descent, cross-entropy loss, cost functions) (10 points)\n"
   ]
  },
  {
   "cell_type": "code",
   "execution_count": 44,
   "metadata": {},
   "outputs": [
    {
     "name": "stdout",
     "output_type": "stream",
     "text": [
      "Model: \"sequential_3\"\n",
      "_________________________________________________________________\n",
      "Layer (type)                 Output Shape              Param #   \n",
      "=================================================================\n",
      "dense_21 (Dense)             (None, 1024)              1049600   \n",
      "_________________________________________________________________\n",
      "dense_22 (Dense)             (None, 2048)              2099200   \n",
      "_________________________________________________________________\n",
      "dense_23 (Dense)             (None, 512)               1049088   \n",
      "_________________________________________________________________\n",
      "dense_24 (Dense)             (None, 256)               131328    \n",
      "_________________________________________________________________\n",
      "dense_25 (Dense)             (None, 128)               32896     \n",
      "_________________________________________________________________\n",
      "dense_26 (Dense)             (None, 64)                8256      \n",
      "_________________________________________________________________\n",
      "dense_27 (Dense)             (None, 10)                650       \n",
      "=================================================================\n",
      "Total params: 4,371,018\n",
      "Trainable params: 4,371,018\n",
      "Non-trainable params: 0\n",
      "_________________________________________________________________\n",
      "None\n"
     ]
    }
   ],
   "source": [
    "# Define model architecture\n",
    "model1 = Sequential()\n",
    "model1.add(Dense(1024, activation='relu', input_shape=(1024,)))   #First input layer of 1024  neurons, each neuron takes input \n",
    "                                                               # vector of size 1024\n",
    "model1.add(Dense(2048, activation='relu'))                # adding hidden Layer 1\n",
    "model1.add(Dense(512, activation='relu'))                # adding hidden Layer 2\n",
    "model1.add(Dense(256, activation='relu'))                # adding hidden Layer 3\n",
    "model1.add(Dense(128, activation='relu'))                # adding hidden Layer 4\n",
    "model1.add(Dense(64, activation='relu'))                # adding hidden Layer 5\n",
    "model1.add(Dense(10, activation='softmax'))            # Adding a softmax layer for output which contains as many \n",
    "                                                               # neurons as the number of classes (10) which is also the \n",
    "                                                               # the shape of each output vector ( one hot coded)\n",
    "\n",
    "                                                               # output layer also uses softmax. This normalizes the values \n",
    "                                                               # from the ten output nodes such that: \n",
    "                                                               #        all the values are between 0 and 1, and\n",
    "                                                               #        the sum of all ten values is 1.  \n",
    "                                                               # prediction is the lable of the node that gets highest fraction, is \n",
    "        \n",
    "        \n",
    "print (model1.summary())"
   ]
  },
  {
   "cell_type": "code",
   "execution_count": 45,
   "metadata": {},
   "outputs": [],
   "source": [
    "sgd = tf.keras.optimizers.Adam(learning_rate=0.001,decay=1e-6)\n",
    "model1.compile(loss='categorical_crossentropy',\n",
    "             optimizer=sgd,\n",
    "             metrics=['accuracy'])\n",
    "\n",
    "#model.compile(loss='categorical_crossentropy',\n",
    "#             optimizer='rmsprop',\n",
    "#             metrics=['accuracy'])"
   ]
  },
  {
   "cell_type": "code",
   "execution_count": 46,
   "metadata": {},
   "outputs": [
    {
     "name": "stdout",
     "output_type": "stream",
     "text": [
      "Train on 42000 samples, validate on 60000 samples\n",
      "Epoch 1/65\n",
      "42000/42000 [==============================] - 17s 408us/sample - loss: 2.2690 - accuracy: 0.1301 - val_loss: 2.0515 - val_accuracy: 0.1945\n",
      "Epoch 2/65\n",
      "42000/42000 [==============================] - 19s 456us/sample - loss: 1.7946 - accuracy: 0.3384 - val_loss: 1.5967 - val_accuracy: 0.4275\n",
      "Epoch 3/65\n",
      "42000/42000 [==============================] - 19s 464us/sample - loss: 1.4318 - accuracy: 0.5063 - val_loss: 1.2759 - val_accuracy: 0.5723\n",
      "Epoch 4/65\n",
      "42000/42000 [==============================] - 19s 445us/sample - loss: 1.2724 - accuracy: 0.5719 - val_loss: 1.2390 - val_accuracy: 0.5806\n",
      "Epoch 5/65\n",
      "42000/42000 [==============================] - 18s 437us/sample - loss: 1.1891 - accuracy: 0.6075 - val_loss: 1.1166 - val_accuracy: 0.6387\n",
      "Epoch 6/65\n",
      "42000/42000 [==============================] - 18s 419us/sample - loss: 1.0682 - accuracy: 0.6531 - val_loss: 1.0634 - val_accuracy: 0.6540\n",
      "Epoch 7/65\n",
      "42000/42000 [==============================] - 18s 437us/sample - loss: 0.9546 - accuracy: 0.6931 - val_loss: 0.9030 - val_accuracy: 0.7081\n",
      "Epoch 8/65\n",
      "42000/42000 [==============================] - 16s 384us/sample - loss: 0.8667 - accuracy: 0.7242 - val_loss: 0.8160 - val_accuracy: 0.7435\n",
      "Epoch 9/65\n",
      "42000/42000 [==============================] - 16s 383us/sample - loss: 0.8115 - accuracy: 0.7419 - val_loss: 0.7858 - val_accuracy: 0.7474\n",
      "Epoch 10/65\n",
      "42000/42000 [==============================] - 16s 384us/sample - loss: 0.7613 - accuracy: 0.7580 - val_loss: 0.7742 - val_accuracy: 0.7517\n",
      "Epoch 11/65\n",
      "42000/42000 [==============================] - 17s 394us/sample - loss: 0.7288 - accuracy: 0.7668 - val_loss: 0.7190 - val_accuracy: 0.7703\n",
      "Epoch 12/65\n",
      "42000/42000 [==============================] - 17s 408us/sample - loss: 0.6882 - accuracy: 0.7798 - val_loss: 0.7291 - val_accuracy: 0.7628\n",
      "Epoch 13/65\n",
      "42000/42000 [==============================] - 16s 385us/sample - loss: 0.6694 - accuracy: 0.7854 - val_loss: 0.6670 - val_accuracy: 0.7850\n",
      "Epoch 14/65\n",
      "42000/42000 [==============================] - 16s 386us/sample - loss: 0.6298 - accuracy: 0.8003 - val_loss: 0.6733 - val_accuracy: 0.7816\n",
      "Epoch 15/65\n",
      "42000/42000 [==============================] - 16s 386us/sample - loss: 0.6256 - accuracy: 0.7991 - val_loss: 0.6052 - val_accuracy: 0.8096\n",
      "Epoch 16/65\n",
      "42000/42000 [==============================] - 16s 388us/sample - loss: 0.5858 - accuracy: 0.8126 - val_loss: 0.6423 - val_accuracy: 0.7937\n",
      "Epoch 17/65\n",
      "42000/42000 [==============================] - 17s 405us/sample - loss: 0.5672 - accuracy: 0.8179 - val_loss: 0.5775 - val_accuracy: 0.8163\n",
      "Epoch 18/65\n",
      "42000/42000 [==============================] - 17s 394us/sample - loss: 0.5694 - accuracy: 0.8171 - val_loss: 0.5555 - val_accuracy: 0.8248\n",
      "Epoch 19/65\n",
      "42000/42000 [==============================] - 16s 391us/sample - loss: 0.5151 - accuracy: 0.8345 - val_loss: 0.5340 - val_accuracy: 0.8333\n",
      "Epoch 20/65\n",
      "42000/42000 [==============================] - 16s 392us/sample - loss: 0.4974 - accuracy: 0.8420 - val_loss: 0.5158 - val_accuracy: 0.8383\n",
      "Epoch 21/65\n",
      "42000/42000 [==============================] - 16s 386us/sample - loss: 0.4830 - accuracy: 0.8441 - val_loss: 0.5781 - val_accuracy: 0.8151\n",
      "Epoch 22/65\n",
      "42000/42000 [==============================] - 16s 386us/sample - loss: 0.4771 - accuracy: 0.8462 - val_loss: 0.5446 - val_accuracy: 0.8263\n",
      "Epoch 23/65\n",
      "42000/42000 [==============================] - 16s 385us/sample - loss: 0.4446 - accuracy: 0.8580 - val_loss: 0.4451 - val_accuracy: 0.8604\n",
      "Epoch 24/65\n",
      "42000/42000 [==============================] - 16s 385us/sample - loss: 0.4311 - accuracy: 0.8584 - val_loss: 0.4426 - val_accuracy: 0.8632\n",
      "Epoch 25/65\n",
      "42000/42000 [==============================] - 16s 387us/sample - loss: 0.4075 - accuracy: 0.8677 - val_loss: 0.4538 - val_accuracy: 0.8591\n",
      "Epoch 26/65\n",
      "42000/42000 [==============================] - 16s 385us/sample - loss: 0.3899 - accuracy: 0.8735 - val_loss: 0.4091 - val_accuracy: 0.8740\n",
      "Epoch 27/65\n",
      "42000/42000 [==============================] - 16s 388us/sample - loss: 0.3684 - accuracy: 0.8795 - val_loss: 0.4408 - val_accuracy: 0.8620\n",
      "Epoch 28/65\n",
      "42000/42000 [==============================] - 16s 386us/sample - loss: 0.3632 - accuracy: 0.8832 - val_loss: 0.3951 - val_accuracy: 0.8787\n",
      "Epoch 29/65\n",
      "42000/42000 [==============================] - 16s 385us/sample - loss: 0.3543 - accuracy: 0.8854 - val_loss: 0.4368 - val_accuracy: 0.8662\n",
      "Epoch 30/65\n",
      "42000/42000 [==============================] - 16s 385us/sample - loss: 0.3443 - accuracy: 0.8875 - val_loss: 0.4449 - val_accuracy: 0.8629\n",
      "Epoch 31/65\n",
      "42000/42000 [==============================] - 16s 385us/sample - loss: 0.3308 - accuracy: 0.8921 - val_loss: 0.4467 - val_accuracy: 0.8608\n",
      "Epoch 32/65\n",
      "42000/42000 [==============================] - 16s 388us/sample - loss: 0.3168 - accuracy: 0.8964 - val_loss: 0.3650 - val_accuracy: 0.8909\n",
      "Epoch 33/65\n",
      "42000/42000 [==============================] - 16s 388us/sample - loss: 0.2887 - accuracy: 0.9050 - val_loss: 0.4315 - val_accuracy: 0.8712\n",
      "Epoch 34/65\n",
      "42000/42000 [==============================] - 16s 387us/sample - loss: 0.2771 - accuracy: 0.9085 - val_loss: 0.3719 - val_accuracy: 0.8913\n",
      "Epoch 35/65\n",
      "42000/42000 [==============================] - 16s 386us/sample - loss: 0.2723 - accuracy: 0.9105 - val_loss: 0.3536 - val_accuracy: 0.8982\n",
      "Epoch 36/65\n",
      "42000/42000 [==============================] - 16s 388us/sample - loss: 0.2418 - accuracy: 0.9211 - val_loss: 0.3444 - val_accuracy: 0.9017\n",
      "Epoch 37/65\n",
      "42000/42000 [==============================] - 16s 388us/sample - loss: 0.2619 - accuracy: 0.9125 - val_loss: 0.3438 - val_accuracy: 0.9031\n",
      "Epoch 38/65\n",
      "42000/42000 [==============================] - 16s 385us/sample - loss: 0.2411 - accuracy: 0.9199 - val_loss: 0.4115 - val_accuracy: 0.8786\n",
      "Epoch 39/65\n",
      "42000/42000 [==============================] - 17s 412us/sample - loss: 0.2469 - accuracy: 0.9181 - val_loss: 0.3685 - val_accuracy: 0.8949\n",
      "Epoch 40/65\n",
      "42000/42000 [==============================] - 18s 418us/sample - loss: 0.2198 - accuracy: 0.9273 - val_loss: 0.3452 - val_accuracy: 0.9059\n",
      "Epoch 41/65\n",
      "42000/42000 [==============================] - 16s 393us/sample - loss: 0.2030 - accuracy: 0.9332 - val_loss: 0.3171 - val_accuracy: 0.9188\n",
      "Epoch 42/65\n",
      "42000/42000 [==============================] - 16s 385us/sample - loss: 0.1840 - accuracy: 0.9389 - val_loss: 0.3593 - val_accuracy: 0.9048\n",
      "Epoch 43/65\n",
      "42000/42000 [==============================] - 17s 395us/sample - loss: 0.2017 - accuracy: 0.9335 - val_loss: 0.3367 - val_accuracy: 0.9115\n",
      "Epoch 44/65\n",
      "42000/42000 [==============================] - 16s 385us/sample - loss: 0.1990 - accuracy: 0.9345 - val_loss: 0.3189 - val_accuracy: 0.9196\n",
      "Epoch 45/65\n",
      "42000/42000 [==============================] - 16s 386us/sample - loss: 0.1796 - accuracy: 0.9398 - val_loss: 0.3751 - val_accuracy: 0.9036\n",
      "Epoch 46/65\n",
      "42000/42000 [==============================] - 17s 398us/sample - loss: 0.1436 - accuracy: 0.9526 - val_loss: 0.3705 - val_accuracy: 0.9107\n",
      "Epoch 47/65\n",
      "42000/42000 [==============================] - 17s 397us/sample - loss: 0.1711 - accuracy: 0.9427 - val_loss: 0.3627 - val_accuracy: 0.9098\n",
      "Epoch 48/65\n",
      "42000/42000 [==============================] - 17s 408us/sample - loss: 0.1608 - accuracy: 0.9465 - val_loss: 0.3588 - val_accuracy: 0.9098\n",
      "Epoch 49/65\n",
      "42000/42000 [==============================] - 18s 436us/sample - loss: 0.1579 - accuracy: 0.9480 - val_loss: 0.3356 - val_accuracy: 0.9230\n",
      "Epoch 50/65\n",
      "42000/42000 [==============================] - 17s 401us/sample - loss: 0.1238 - accuracy: 0.9580 - val_loss: 0.3587 - val_accuracy: 0.9198\n",
      "Epoch 51/65\n",
      "42000/42000 [==============================] - 16s 387us/sample - loss: 0.1286 - accuracy: 0.9563 - val_loss: 0.3642 - val_accuracy: 0.9167\n",
      "Epoch 52/65\n",
      "42000/42000 [==============================] - 16s 391us/sample - loss: 0.1410 - accuracy: 0.9534 - val_loss: 0.4286 - val_accuracy: 0.8971\n",
      "Epoch 53/65\n",
      "42000/42000 [==============================] - 16s 392us/sample - loss: 0.1619 - accuracy: 0.9462 - val_loss: 0.3833 - val_accuracy: 0.9112\n",
      "Epoch 54/65\n"
     ]
    },
    {
     "name": "stdout",
     "output_type": "stream",
     "text": [
      "42000/42000 [==============================] - 16s 387us/sample - loss: 0.1410 - accuracy: 0.9521 - val_loss: 0.3743 - val_accuracy: 0.9123\n",
      "Epoch 55/65\n",
      "42000/42000 [==============================] - 16s 380us/sample - loss: 0.1199 - accuracy: 0.9593 - val_loss: 0.3538 - val_accuracy: 0.9224\n",
      "Epoch 56/65\n",
      "42000/42000 [==============================] - 16s 381us/sample - loss: 0.1090 - accuracy: 0.9625 - val_loss: 0.3781 - val_accuracy: 0.9173\n",
      "Epoch 57/65\n",
      "42000/42000 [==============================] - 16s 381us/sample - loss: 0.1156 - accuracy: 0.9600 - val_loss: 0.3856 - val_accuracy: 0.9199\n",
      "Epoch 58/65\n",
      "42000/42000 [==============================] - 16s 384us/sample - loss: 0.1413 - accuracy: 0.9532 - val_loss: 0.4050 - val_accuracy: 0.9071\n",
      "Epoch 59/65\n",
      "42000/42000 [==============================] - 16s 383us/sample - loss: 0.0963 - accuracy: 0.9682 - val_loss: 0.3534 - val_accuracy: 0.9300\n",
      "Epoch 60/65\n",
      "42000/42000 [==============================] - 16s 383us/sample - loss: 0.1260 - accuracy: 0.9571 - val_loss: 0.3653 - val_accuracy: 0.9180\n",
      "Epoch 61/65\n",
      "42000/42000 [==============================] - 17s 405us/sample - loss: 0.0937 - accuracy: 0.9682 - val_loss: 0.3710 - val_accuracy: 0.9231\n",
      "Epoch 62/65\n",
      "42000/42000 [==============================] - 16s 386us/sample - loss: 0.1125 - accuracy: 0.9621 - val_loss: 0.3208 - val_accuracy: 0.9377\n",
      "Epoch 63/65\n",
      "42000/42000 [==============================] - 16s 384us/sample - loss: 0.0792 - accuracy: 0.9732 - val_loss: 0.3705 - val_accuracy: 0.9312\n",
      "Epoch 64/65\n",
      "42000/42000 [==============================] - 16s 386us/sample - loss: 0.1025 - accuracy: 0.9662 - val_loss: 0.3978 - val_accuracy: 0.9248\n",
      "Epoch 65/65\n",
      "42000/42000 [==============================] - 16s 385us/sample - loss: 0.0883 - accuracy: 0.9698 - val_loss: 0.3637 - val_accuracy: 0.9344\n"
     ]
    }
   ],
   "source": [
    "tensorboard = tf.keras.callbacks.TensorBoard(log_dir='/tmp/mnist/dnn_v1',profile_batch = 100000000)\n",
    "history1=model1.fit(X_train, y_train ,batch_size=420,epochs=65,verbose=1,validation_data=(X_val, y_val),callbacks=[tensorboard])\n",
    "model1.save('/tmp/mnist/v6.h5') "
   ]
  },
  {
   "cell_type": "code",
   "execution_count": 47,
   "metadata": {},
   "outputs": [],
   "source": [
    "val_accuracy1  = model.evaluate(X_val, y_val, verbose=False)"
   ]
  },
  {
   "cell_type": "code",
   "execution_count": 48,
   "metadata": {},
   "outputs": [
    {
     "name": "stdout",
     "output_type": "stream",
     "text": [
      "\n",
      " Validation accuracy: 0.92866665\n"
     ]
    }
   ],
   "source": [
    "print('\\n', 'Validation accuracy:', val_accuracy1[1])"
   ]
  },
  {
   "cell_type": "code",
   "execution_count": 49,
   "metadata": {},
   "outputs": [
    {
     "name": "stdout",
     "output_type": "stream",
     "text": [
      "\n",
      " Test accuracy: 0.82827777\n"
     ]
    }
   ],
   "source": [
    "# Evaluate the model on test set\n",
    "score1 = model1.evaluate(X_test, y_test, verbose=0)\n",
    "# Print test accuracy\n",
    "print('\\n', 'Test accuracy:', score1[1])"
   ]
  },
  {
   "cell_type": "code",
   "execution_count": 50,
   "metadata": {},
   "outputs": [
    {
     "name": "stdout",
     "output_type": "stream",
     "text": [
      "[[1530   36    6   26   26   18   47   36   22   67]\n",
      " [  26 1539   17   43   44   15   27   68   20   29]\n",
      " [  14   37 1447   61   26   28   17  122   23   28]\n",
      " [  12   36   18 1382   12  131   21   49   29   29]\n",
      " [  17   43   24   29 1566   20   38   22   18   35]\n",
      " [  14   25    9   86    9 1480   52   16   47   30]\n",
      " [  32   25   10   29   22   89 1519   29   57   20]\n",
      " [  13   43   32   25   14    6    6 1640    9   20]\n",
      " [  28   37   18   61   21   67  127   27 1373   53]\n",
      " [  47   38   16   57   18   80   24   41   50 1433]]\n",
      "              precision    recall  f1-score   support\n",
      "\n",
      "           0       0.88      0.84      0.86      1814\n",
      "           1       0.83      0.84      0.83      1828\n",
      "           2       0.91      0.80      0.85      1803\n",
      "           3       0.77      0.80      0.79      1719\n",
      "           4       0.89      0.86      0.88      1812\n",
      "           5       0.77      0.84      0.80      1768\n",
      "           6       0.81      0.83      0.82      1832\n",
      "           7       0.80      0.91      0.85      1808\n",
      "           8       0.83      0.76      0.79      1812\n",
      "           9       0.82      0.79      0.81      1804\n",
      "\n",
      "    accuracy                           0.83     18000\n",
      "   macro avg       0.83      0.83      0.83     18000\n",
      "weighted avg       0.83      0.83      0.83     18000\n",
      "\n"
     ]
    }
   ],
   "source": [
    "from sklearn import metrics\n",
    "predictions = model1.predict(X_test)\n",
    "y_pred = []\n",
    "for val in predictions:\n",
    "    y_pred.append(np.argmax(val))\n",
    "cm = metrics.confusion_matrix(ytest,y_pred)\n",
    "print(cm)\n",
    "cr=metrics.classification_report(ytest,y_pred)\n",
    "print(cr)"
   ]
  },
  {
   "cell_type": "code",
   "execution_count": 51,
   "metadata": {},
   "outputs": [
    {
     "data": {
      "text/plain": [
       "<matplotlib.legend.Legend at 0x2a34e17da08>"
      ]
     },
     "execution_count": 51,
     "metadata": {},
     "output_type": "execute_result"
    },
    {
     "data": {
      "image/png": "[encoded data removed]",
      "text/plain": [
       "<Figure size 432x288 with 1 Axes>"
      ]
     },
     "metadata": {
      "needs_background": "light"
     },
     "output_type": "display_data"
    }
   ],
   "source": [
    "plt.plot(history1.history['loss'])\n",
    "plt.plot(history1.history['val_loss'])\n",
    "plt.title('model loss')\n",
    "plt.ylabel('loss')\n",
    "plt.xlabel('epoch')\n",
    "plt.legend(['train', 'test'], loc='upper left')"
   ]
  },
  {
   "cell_type": "code",
   "execution_count": 52,
   "metadata": {
    "scrolled": false
   },
   "outputs": [
    {
     "data": {
      "text/plain": [
       "<matplotlib.legend.Legend at 0x2a351840688>"
      ]
     },
     "execution_count": 52,
     "metadata": {},
     "output_type": "execute_result"
    },
    {
     "data": {
      "image/png": "[encoded data removed]",
      "text/plain": [
       "<Figure size 432x288 with 1 Axes>"
      ]
     },
     "metadata": {
      "needs_background": "light"
     },
     "output_type": "display_data"
    }
   ],
   "source": [
    "plt.plot(history1.history['accuracy'])\n",
    "plt.plot(history1.history['val_accuracy'])\n",
    "plt.title('model Accuracy')\n",
    "plt.ylabel('Accuracy')\n",
    "plt.xlabel('epoch')\n",
    "plt.legend(['train', 'test'], loc='upper left')"
   ]
  },
  {
   "cell_type": "markdown",
   "metadata": {},
   "source": [
    "# Implement batch normalization for training the neural network (5 points)"
   ]
  },
  {
   "cell_type": "code",
   "execution_count": 99,
   "metadata": {},
   "outputs": [
    {
     "name": "stdout",
     "output_type": "stream",
     "text": [
      "Model: \"sequential_14\"\n",
      "_________________________________________________________________\n",
      "Layer (type)                 Output Shape              Param #   \n",
      "=================================================================\n",
      "dense_102 (Dense)            (None, 1024)              1049600   \n",
      "_________________________________________________________________\n",
      "batch_normalization_60 (Batc (None, 1024)              4096      \n",
      "_________________________________________________________________\n",
      "dense_103 (Dense)            (None, 2048)              2099200   \n",
      "_________________________________________________________________\n",
      "batch_normalization_61 (Batc (None, 2048)              8192      \n",
      "_________________________________________________________________\n",
      "dropout_27 (Dropout)         (None, 2048)              0         \n",
      "_________________________________________________________________\n",
      "dense_104 (Dense)            (None, 512)               1049088   \n",
      "_________________________________________________________________\n",
      "batch_normalization_62 (Batc (None, 512)               2048      \n",
      "_________________________________________________________________\n",
      "dropout_28 (Dropout)         (None, 512)               0         \n",
      "_________________________________________________________________\n",
      "dense_105 (Dense)            (None, 256)               131328    \n",
      "_________________________________________________________________\n",
      "batch_normalization_63 (Batc (None, 256)               1024      \n",
      "_________________________________________________________________\n",
      "dropout_29 (Dropout)         (None, 256)               0         \n",
      "_________________________________________________________________\n",
      "dense_106 (Dense)            (None, 128)               32896     \n",
      "_________________________________________________________________\n",
      "batch_normalization_64 (Batc (None, 128)               512       \n",
      "_________________________________________________________________\n",
      "dropout_30 (Dropout)         (None, 128)               0         \n",
      "_________________________________________________________________\n",
      "dense_107 (Dense)            (None, 64)                8256      \n",
      "_________________________________________________________________\n",
      "batch_normalization_65 (Batc (None, 64)                256       \n",
      "_________________________________________________________________\n",
      "dropout_31 (Dropout)         (None, 64)                0         \n",
      "_________________________________________________________________\n",
      "dense_108 (Dense)            (None, 32)                2080      \n",
      "_________________________________________________________________\n",
      "batch_normalization_66 (Batc (None, 32)                128       \n",
      "_________________________________________________________________\n",
      "dropout_32 (Dropout)         (None, 32)                0         \n",
      "_________________________________________________________________\n",
      "dense_109 (Dense)            (None, 16)                528       \n",
      "_________________________________________________________________\n",
      "batch_normalization_67 (Batc (None, 16)                64        \n",
      "_________________________________________________________________\n",
      "dropout_33 (Dropout)         (None, 16)                0         \n",
      "_________________________________________________________________\n",
      "dense_110 (Dense)            (None, 10)                170       \n",
      "=================================================================\n",
      "Total params: 4,389,466\n",
      "Trainable params: 4,381,306\n",
      "Non-trainable params: 8,160\n",
      "_________________________________________________________________\n",
      "None\n"
     ]
    }
   ],
   "source": [
    "# Define model architecture\n",
    "from tensorflow.keras.constraints import max_norm\n",
    "model2 = Sequential()\n",
    "\n",
    "wt_init=tf.keras.initializers.he_normal(seed=None)\n",
    "\n",
    "model2.add(Dense(1024, activation='relu', input_shape=(1024,),kernel_initializer = wt_init, kernel_constraint = max_norm(2) ))   #First input layer of 1024  neurons, each neuron takes input \n",
    "# vector of size 1024\n",
    "model2.add(BatchNormalization())  \n",
    "model2.add(Dense(2048, activation='relu',kernel_initializer = wt_init, kernel_constraint = max_norm(2) ))                # adding hidden Layer 1\n",
    "model2.add(BatchNormalization())                          # adding BatchNormalization\n",
    "model2.add(Dropout(0.2)) \n",
    "model2.add(Dense(512, activation='relu',kernel_initializer = wt_init, kernel_constraint = max_norm(2) ))                # adding hidden Layer 2\n",
    "model2.add(BatchNormalization())                          # adding BatchNormalization\n",
    "model2.add(Dropout(0.2)) \n",
    "model2.add(Dense(256, activation='relu',kernel_initializer = wt_init, kernel_constraint = max_norm(2) ))                # adding hidden Layer 3\n",
    "model2.add(BatchNormalization())                          # adding BatchNormalization\n",
    "model2.add(Dropout(0.2))\n",
    "model2.add(Dense(128, activation='relu',kernel_initializer = wt_init, kernel_constraint = max_norm(2) ))                # adding hidden Layer 4\n",
    "model2.add(BatchNormalization())                          # adding BatchNormalization\n",
    "model2.add(Dropout(0.2))\n",
    "model2.add(Dense(64, activation='relu',kernel_initializer = wt_init, kernel_constraint = max_norm(2) ))                # adding hidden Layer 5\n",
    "model2.add(BatchNormalization())                          # adding BatchNormalization\n",
    "model2.add(Dropout(0.2))\n",
    "model2.add(Dense(32, activation='relu',kernel_initializer = wt_init, kernel_constraint = max_norm(2) ))                # adding hidden Layer 5\n",
    "model2.add(BatchNormalization())\n",
    "model2.add(Dropout(0.2))\n",
    "model2.add(Dense(16, activation='relu',kernel_initializer = wt_init, kernel_constraint = max_norm(2) ))                # adding hidden Layer 5\n",
    "model2.add(BatchNormalization())\n",
    "model2.add(Dropout(0.2))\n",
    "model2.add(Dense(10, activation='softmax'))            # Adding a softmax layer for output  \n",
    "        \n",
    "        \n",
    "print (model2.summary())"
   ]
  },
  {
   "cell_type": "code",
   "execution_count": 100,
   "metadata": {},
   "outputs": [],
   "source": [
    "sgd = tf.keras.optimizers.Adam(learning_rate=0.0005,decay=1e-6)\n",
    "model2.compile(loss='categorical_crossentropy',\n",
    "             optimizer=sgd,\n",
    "             metrics=['accuracy'])\n",
    "\n",
    "#model.compile(loss='categorical_crossentropy',\n",
    "#             optimizer='rmsprop',\n",
    "#             metrics=['accuracy'])"
   ]
  },
  {
   "cell_type": "code",
   "execution_count": 101,
   "metadata": {},
   "outputs": [
    {
     "name": "stdout",
     "output_type": "stream",
     "text": [
      "Train on 42000 samples, validate on 60000 samples\n",
      "Epoch 1/100\n",
      "42000/42000 [==============================] - 24s 561us/sample - loss: 2.5962 - accuracy: 0.1296 - val_loss: 2.3260 - val_accuracy: 0.1416\n",
      "Epoch 2/100\n",
      "42000/42000 [==============================] - 23s 547us/sample - loss: 2.2290 - accuracy: 0.2011 - val_loss: 2.0206 - val_accuracy: 0.2888\n",
      "Epoch 3/100\n",
      "42000/42000 [==============================] - 24s 576us/sample - loss: 1.9630 - accuracy: 0.2963 - val_loss: 1.7401 - val_accuracy: 0.4221\n",
      "Epoch 4/100\n",
      "42000/42000 [==============================] - 25s 591us/sample - loss: 1.7575 - accuracy: 0.3894 - val_loss: 1.5787 - val_accuracy: 0.4629\n",
      "Epoch 5/100\n",
      "42000/42000 [==============================] - 23s 544us/sample - loss: 1.6118 - accuracy: 0.4549 - val_loss: 1.6134 - val_accuracy: 0.4617\n",
      "Epoch 6/100\n",
      "42000/42000 [==============================] - 24s 560us/sample - loss: 1.4547 - accuracy: 0.5180 - val_loss: 1.6443 - val_accuracy: 0.4428\n",
      "Epoch 7/100\n",
      "42000/42000 [==============================] - 22s 523us/sample - loss: 1.3636 - accuracy: 0.5507 - val_loss: 1.7230 - val_accuracy: 0.4153\n",
      "Epoch 8/100\n",
      "42000/42000 [==============================] - 22s 523us/sample - loss: 1.3204 - accuracy: 0.5724 - val_loss: 1.9235 - val_accuracy: 0.3742\n",
      "Epoch 9/100\n",
      "42000/42000 [==============================] - 22s 523us/sample - loss: 1.2204 - accuracy: 0.6086 - val_loss: 1.6534 - val_accuracy: 0.4709\n",
      "Epoch 10/100\n",
      "42000/42000 [==============================] - 22s 523us/sample - loss: 1.1681 - accuracy: 0.6266 - val_loss: 2.0172 - val_accuracy: 0.3386\n",
      "Epoch 11/100\n",
      "42000/42000 [==============================] - 22s 522us/sample - loss: 1.1729 - accuracy: 0.6301 - val_loss: 1.9082 - val_accuracy: 0.3971\n",
      "Epoch 12/100\n",
      "42000/42000 [==============================] - 22s 530us/sample - loss: 1.0946 - accuracy: 0.6595 - val_loss: 1.3460 - val_accuracy: 0.5524\n",
      "Epoch 13/100\n",
      "42000/42000 [==============================] - 24s 573us/sample - loss: 1.0115 - accuracy: 0.6919 - val_loss: 1.7294 - val_accuracy: 0.4733\n",
      "Epoch 14/100\n",
      "42000/42000 [==============================] - 23s 551us/sample - loss: 0.9979 - accuracy: 0.7015 - val_loss: 1.4549 - val_accuracy: 0.5278\n",
      "Epoch 15/100\n",
      "42000/42000 [==============================] - 23s 549us/sample - loss: 0.9468 - accuracy: 0.7180 - val_loss: 1.2482 - val_accuracy: 0.6113\n",
      "Epoch 16/100\n",
      "42000/42000 [==============================] - 24s 560us/sample - loss: 0.9153 - accuracy: 0.7319 - val_loss: 0.9785 - val_accuracy: 0.6940\n",
      "Epoch 17/100\n",
      "42000/42000 [==============================] - 24s 583us/sample - loss: 0.8592 - accuracy: 0.7509 - val_loss: 1.2783 - val_accuracy: 0.5973\n",
      "Epoch 18/100\n",
      "42000/42000 [==============================] - 22s 530us/sample - loss: 0.8126 - accuracy: 0.7687 - val_loss: 1.0713 - val_accuracy: 0.6750\n",
      "Epoch 19/100\n",
      "42000/42000 [==============================] - 23s 542us/sample - loss: 0.8263 - accuracy: 0.7623 - val_loss: 1.2322 - val_accuracy: 0.6108\n",
      "Epoch 20/100\n",
      "42000/42000 [==============================] - 24s 569us/sample - loss: 0.7656 - accuracy: 0.7846 - val_loss: 1.5310 - val_accuracy: 0.5576\n",
      "Epoch 21/100\n",
      "42000/42000 [==============================] - 23s 543us/sample - loss: 0.7676 - accuracy: 0.7808 - val_loss: 0.9556 - val_accuracy: 0.7074\n",
      "Epoch 22/100\n",
      "42000/42000 [==============================] - 22s 531us/sample - loss: 0.7821 - accuracy: 0.7762 - val_loss: 1.1812 - val_accuracy: 0.6403\n",
      "Epoch 23/100\n",
      "42000/42000 [==============================] - 22s 532us/sample - loss: 0.7009 - accuracy: 0.8026 - val_loss: 1.0392 - val_accuracy: 0.6823\n",
      "Epoch 24/100\n",
      "42000/42000 [==============================] - 22s 530us/sample - loss: 0.7062 - accuracy: 0.8004 - val_loss: 0.9666 - val_accuracy: 0.7135\n",
      "Epoch 25/100\n",
      "42000/42000 [==============================] - 22s 532us/sample - loss: 0.7402 - accuracy: 0.7917 - val_loss: 0.9818 - val_accuracy: 0.7076\n",
      "Epoch 26/100\n",
      "42000/42000 [==============================] - 22s 535us/sample - loss: 0.7666 - accuracy: 0.7827 - val_loss: 1.6335 - val_accuracy: 0.5656\n",
      "Epoch 27/100\n",
      "42000/42000 [==============================] - 23s 537us/sample - loss: 0.7829 - accuracy: 0.7773 - val_loss: 1.0465 - val_accuracy: 0.6794\n",
      "Epoch 28/100\n",
      "42000/42000 [==============================] - 23s 540us/sample - loss: 0.6852 - accuracy: 0.8073 - val_loss: 0.7272 - val_accuracy: 0.7783\n",
      "Epoch 29/100\n",
      "42000/42000 [==============================] - 26s 611us/sample - loss: 0.6495 - accuracy: 0.8177 - val_loss: 0.7861 - val_accuracy: 0.7625\n",
      "Epoch 30/100\n",
      "42000/42000 [==============================] - 25s 592us/sample - loss: 0.6451 - accuracy: 0.8180 - val_loss: 1.1095 - val_accuracy: 0.6725\n",
      "Epoch 31/100\n",
      "42000/42000 [==============================] - 23s 556us/sample - loss: 0.6309 - accuracy: 0.8229 - val_loss: 1.1694 - val_accuracy: 0.6750\n",
      "Epoch 32/100\n",
      "42000/42000 [==============================] - 28s 656us/sample - loss: 0.6867 - accuracy: 0.8065 - val_loss: 0.9460 - val_accuracy: 0.7206\n",
      "Epoch 33/100\n",
      "42000/42000 [==============================] - 23s 556us/sample - loss: 0.7080 - accuracy: 0.8004 - val_loss: 1.1124 - val_accuracy: 0.6684\n",
      "Epoch 34/100\n",
      "42000/42000 [==============================] - 23s 559us/sample - loss: 0.6204 - accuracy: 0.8275 - val_loss: 1.1480 - val_accuracy: 0.6863\n",
      "Epoch 35/100\n",
      "42000/42000 [==============================] - 22s 535us/sample - loss: 0.6256 - accuracy: 0.8251 - val_loss: 0.8006 - val_accuracy: 0.7671\n",
      "Epoch 36/100\n",
      "42000/42000 [==============================] - 24s 571us/sample - loss: 0.5822 - accuracy: 0.8388 - val_loss: 1.1195 - val_accuracy: 0.6729\n",
      "Epoch 37/100\n",
      "42000/42000 [==============================] - 23s 540us/sample - loss: 0.6620 - accuracy: 0.8147 - val_loss: 0.9552 - val_accuracy: 0.7190\n",
      "Epoch 38/100\n",
      "42000/42000 [==============================] - 23s 541us/sample - loss: 0.6373 - accuracy: 0.8209 - val_loss: 0.9872 - val_accuracy: 0.7181\n",
      "Epoch 39/100\n",
      "42000/42000 [==============================] - 22s 535us/sample - loss: 0.5805 - accuracy: 0.8374 - val_loss: 0.6860 - val_accuracy: 0.7972\n",
      "Epoch 40/100\n",
      "42000/42000 [==============================] - 23s 539us/sample - loss: 0.5499 - accuracy: 0.8483 - val_loss: 0.6531 - val_accuracy: 0.8023\n",
      "Epoch 41/100\n",
      "42000/42000 [==============================] - 23s 536us/sample - loss: 0.5421 - accuracy: 0.8502 - val_loss: 0.6591 - val_accuracy: 0.8025\n",
      "Epoch 42/100\n",
      "42000/42000 [==============================] - 23s 549us/sample - loss: 0.5355 - accuracy: 0.8510 - val_loss: 0.7295 - val_accuracy: 0.7840\n",
      "Epoch 43/100\n",
      "42000/42000 [==============================] - 24s 563us/sample - loss: 0.5143 - accuracy: 0.8590 - val_loss: 0.8654 - val_accuracy: 0.7491\n",
      "Epoch 44/100\n",
      "42000/42000 [==============================] - 23s 555us/sample - loss: 0.5340 - accuracy: 0.8518 - val_loss: 0.6365 - val_accuracy: 0.8160\n",
      "Epoch 45/100\n",
      "42000/42000 [==============================] - 25s 601us/sample - loss: 0.4959 - accuracy: 0.8626 - val_loss: 0.6712 - val_accuracy: 0.8032\n",
      "Epoch 46/100\n",
      "42000/42000 [==============================] - 26s 608us/sample - loss: 0.4928 - accuracy: 0.8634 - val_loss: 0.7833 - val_accuracy: 0.7776\n",
      "Epoch 47/100\n",
      "42000/42000 [==============================] - 24s 565us/sample - loss: 0.5037 - accuracy: 0.8601 - val_loss: 0.6137 - val_accuracy: 0.8189\n",
      "Epoch 48/100\n",
      "42000/42000 [==============================] - 23s 558us/sample - loss: 0.4823 - accuracy: 0.8672 - val_loss: 0.6930 - val_accuracy: 0.7919\n",
      "Epoch 49/100\n",
      "42000/42000 [==============================] - 23s 559us/sample - loss: 0.4668 - accuracy: 0.8715 - val_loss: 0.5766 - val_accuracy: 0.8304\n",
      "Epoch 50/100\n",
      "42000/42000 [==============================] - 24s 561us/sample - loss: 0.4661 - accuracy: 0.8720 - val_loss: 0.5633 - val_accuracy: 0.8360\n",
      "Epoch 51/100\n",
      "42000/42000 [==============================] - 24s 576us/sample - loss: 0.4436 - accuracy: 0.8789 - val_loss: 0.6631 - val_accuracy: 0.8111\n",
      "Epoch 52/100\n",
      "42000/42000 [==============================] - 25s 598us/sample - loss: 0.4338 - accuracy: 0.8794 - val_loss: 0.5560 - val_accuracy: 0.8379\n",
      "Epoch 53/100\n",
      "42000/42000 [==============================] - 24s 570us/sample - loss: 0.4170 - accuracy: 0.8848 - val_loss: 0.6890 - val_accuracy: 0.8068\n",
      "Epoch 54/100\n"
     ]
    },
    {
     "name": "stdout",
     "output_type": "stream",
     "text": [
      "42000/42000 [==============================] - 25s 599us/sample - loss: 0.4686 - accuracy: 0.8725 - val_loss: 0.5269 - val_accuracy: 0.8476\n",
      "Epoch 55/100\n",
      "42000/42000 [==============================] - 24s 574us/sample - loss: 0.4300 - accuracy: 0.8810 - val_loss: 0.6726 - val_accuracy: 0.8092\n",
      "Epoch 56/100\n",
      "42000/42000 [==============================] - 24s 581us/sample - loss: 0.4824 - accuracy: 0.8660 - val_loss: 0.6357 - val_accuracy: 0.8172\n",
      "Epoch 57/100\n",
      "42000/42000 [==============================] - 24s 565us/sample - loss: 0.4324 - accuracy: 0.8803 - val_loss: 0.8934 - val_accuracy: 0.7428\n",
      "Epoch 58/100\n",
      "42000/42000 [==============================] - 24s 563us/sample - loss: 0.5100 - accuracy: 0.8567 - val_loss: 0.6950 - val_accuracy: 0.7982\n",
      "Epoch 59/100\n",
      "42000/42000 [==============================] - 24s 566us/sample - loss: 0.4546 - accuracy: 0.8739 - val_loss: 0.8758 - val_accuracy: 0.7451\n",
      "Epoch 60/100\n",
      "42000/42000 [==============================] - 24s 566us/sample - loss: 0.5251 - accuracy: 0.8522 - val_loss: 0.5233 - val_accuracy: 0.8500\n",
      "Epoch 61/100\n",
      "42000/42000 [==============================] - 24s 567us/sample - loss: 0.4314 - accuracy: 0.8813 - val_loss: 0.4321 - val_accuracy: 0.8706\n",
      "Epoch 62/100\n",
      "42000/42000 [==============================] - 24s 576us/sample - loss: 0.4381 - accuracy: 0.8791 - val_loss: 0.7165 - val_accuracy: 0.7950\n",
      "Epoch 63/100\n",
      "42000/42000 [==============================] - 24s 566us/sample - loss: 0.4196 - accuracy: 0.8847 - val_loss: 0.4955 - val_accuracy: 0.8575\n",
      "Epoch 64/100\n",
      "42000/42000 [==============================] - 24s 565us/sample - loss: 0.4024 - accuracy: 0.8899 - val_loss: 0.6370 - val_accuracy: 0.8156\n",
      "Epoch 65/100\n",
      "42000/42000 [==============================] - 24s 568us/sample - loss: 0.4204 - accuracy: 0.8819 - val_loss: 0.4700 - val_accuracy: 0.8667\n",
      "Epoch 66/100\n",
      "42000/42000 [==============================] - 24s 580us/sample - loss: 0.3989 - accuracy: 0.8895 - val_loss: 0.5687 - val_accuracy: 0.8443\n",
      "Epoch 67/100\n",
      "42000/42000 [==============================] - 24s 570us/sample - loss: 0.3733 - accuracy: 0.8986 - val_loss: 0.9427 - val_accuracy: 0.7378\n",
      "Epoch 68/100\n",
      "42000/42000 [==============================] - 24s 577us/sample - loss: 0.4359 - accuracy: 0.8783 - val_loss: 1.1351 - val_accuracy: 0.6977\n",
      "Epoch 69/100\n",
      "42000/42000 [==============================] - 24s 574us/sample - loss: 0.5849 - accuracy: 0.8375 - val_loss: 0.9480 - val_accuracy: 0.7215\n",
      "Epoch 70/100\n",
      "42000/42000 [==============================] - 25s 589us/sample - loss: 0.4254 - accuracy: 0.8825 - val_loss: 0.6203 - val_accuracy: 0.8185\n",
      "Epoch 71/100\n",
      "42000/42000 [==============================] - 25s 601us/sample - loss: 0.3873 - accuracy: 0.8928 - val_loss: 0.7196 - val_accuracy: 0.7981\n",
      "Epoch 72/100\n",
      "42000/42000 [==============================] - 24s 572us/sample - loss: 0.4237 - accuracy: 0.8833 - val_loss: 0.4587 - val_accuracy: 0.8678\n",
      "Epoch 73/100\n",
      "42000/42000 [==============================] - 24s 567us/sample - loss: 0.3739 - accuracy: 0.8962 - val_loss: 0.4534 - val_accuracy: 0.8689\n",
      "Epoch 74/100\n",
      "42000/42000 [==============================] - 24s 573us/sample - loss: 0.3547 - accuracy: 0.9020 - val_loss: 0.6278 - val_accuracy: 0.8153\n",
      "Epoch 75/100\n",
      "42000/42000 [==============================] - 24s 570us/sample - loss: 0.3968 - accuracy: 0.8890 - val_loss: 0.4705 - val_accuracy: 0.8680\n",
      "Epoch 76/100\n",
      "42000/42000 [==============================] - 24s 571us/sample - loss: 0.3464 - accuracy: 0.9044 - val_loss: 0.8090 - val_accuracy: 0.7816\n",
      "Epoch 77/100\n",
      "42000/42000 [==============================] - 28s 672us/sample - loss: 0.4536 - accuracy: 0.8741 - val_loss: 0.8542 - val_accuracy: 0.7645\n",
      "Epoch 78/100\n",
      "42000/42000 [==============================] - 28s 669us/sample - loss: 0.4253 - accuracy: 0.8822 - val_loss: 1.1708 - val_accuracy: 0.6960\n",
      "Epoch 79/100\n",
      "42000/42000 [==============================] - 29s 681us/sample - loss: 0.5031 - accuracy: 0.8600 - val_loss: 0.6183 - val_accuracy: 0.8192\n",
      "Epoch 80/100\n",
      "42000/42000 [==============================] - 27s 634us/sample - loss: 0.4095 - accuracy: 0.8869 - val_loss: 0.4567 - val_accuracy: 0.8633\n",
      "Epoch 81/100\n",
      "42000/42000 [==============================] - 28s 666us/sample - loss: 0.3834 - accuracy: 0.8947 - val_loss: 0.6595 - val_accuracy: 0.8144\n",
      "Epoch 82/100\n",
      "42000/42000 [==============================] - 31s 739us/sample - loss: 0.3969 - accuracy: 0.8902 - val_loss: 0.3933 - val_accuracy: 0.8861\n",
      "Epoch 83/100\n",
      "42000/42000 [==============================] - 27s 647us/sample - loss: 0.3552 - accuracy: 0.9024 - val_loss: 0.5278 - val_accuracy: 0.8466\n",
      "Epoch 84/100\n",
      "42000/42000 [==============================] - 28s 678us/sample - loss: 0.4324 - accuracy: 0.8800 - val_loss: 0.6146 - val_accuracy: 0.8186\n",
      "Epoch 85/100\n",
      "42000/42000 [==============================] - 29s 683us/sample - loss: 0.4000 - accuracy: 0.8888 - val_loss: 0.3936 - val_accuracy: 0.8871\n",
      "Epoch 86/100\n",
      "42000/42000 [==============================] - 28s 675us/sample - loss: 0.3535 - accuracy: 0.9033 - val_loss: 0.4334 - val_accuracy: 0.8723\n",
      "Epoch 87/100\n",
      "42000/42000 [==============================] - 29s 691us/sample - loss: 0.3587 - accuracy: 0.9004 - val_loss: 0.4041 - val_accuracy: 0.8825\n",
      "Epoch 88/100\n",
      "42000/42000 [==============================] - 29s 679us/sample - loss: 0.3430 - accuracy: 0.9060 - val_loss: 0.4427 - val_accuracy: 0.8713\n",
      "Epoch 89/100\n",
      "42000/42000 [==============================] - 28s 657us/sample - loss: 0.3279 - accuracy: 0.9113 - val_loss: 0.4721 - val_accuracy: 0.8672\n",
      "Epoch 90/100\n",
      "42000/42000 [==============================] - 28s 660us/sample - loss: 0.3577 - accuracy: 0.9009 - val_loss: 0.3834 - val_accuracy: 0.8901\n",
      "Epoch 91/100\n",
      "42000/42000 [==============================] - 28s 674us/sample - loss: 0.3074 - accuracy: 0.9153 - val_loss: 0.4261 - val_accuracy: 0.8785\n",
      "Epoch 92/100\n",
      "42000/42000 [==============================] - 29s 695us/sample - loss: 0.3101 - accuracy: 0.9155 - val_loss: 0.4806 - val_accuracy: 0.8631\n",
      "Epoch 93/100\n",
      "42000/42000 [==============================] - 28s 668us/sample - loss: 0.3358 - accuracy: 0.9071 - val_loss: 0.6781 - val_accuracy: 0.8145\n",
      "Epoch 94/100\n",
      "42000/42000 [==============================] - 28s 658us/sample - loss: 0.3950 - accuracy: 0.8896 - val_loss: 0.4459 - val_accuracy: 0.8730\n",
      "Epoch 95/100\n",
      "42000/42000 [==============================] - 27s 655us/sample - loss: 0.3744 - accuracy: 0.8986 - val_loss: 0.4221 - val_accuracy: 0.8807\n",
      "Epoch 96/100\n",
      "42000/42000 [==============================] - 28s 659us/sample - loss: 0.3443 - accuracy: 0.9045 - val_loss: 0.3609 - val_accuracy: 0.8985\n",
      "Epoch 97/100\n",
      "42000/42000 [==============================] - 28s 656us/sample - loss: 0.3087 - accuracy: 0.9151 - val_loss: 0.4982 - val_accuracy: 0.8594\n",
      "Epoch 98/100\n",
      "42000/42000 [==============================] - 28s 661us/sample - loss: 0.3337 - accuracy: 0.9087 - val_loss: 0.4420 - val_accuracy: 0.8772\n",
      "Epoch 99/100\n",
      "42000/42000 [==============================] - 28s 662us/sample - loss: 0.3307 - accuracy: 0.9080 - val_loss: 0.3885 - val_accuracy: 0.8886\n",
      "Epoch 100/100\n",
      "42000/42000 [==============================] - 28s 664us/sample - loss: 0.2991 - accuracy: 0.9188 - val_loss: 0.3945 - val_accuracy: 0.8869\n"
     ]
    }
   ],
   "source": [
    "tensorboard = tf.keras.callbacks.TensorBoard(log_dir='/tmp/mnist/dnn_v1',profile_batch = 100000000)\n",
    "history2=model2.fit(X_train, y_train ,batch_size=512,epochs=100,verbose=1,validation_data=(X_val, y_val),callbacks=[tensorboard])\n",
    "model2.save('/tmp/mnist/v7.h5')"
   ]
  },
  {
   "cell_type": "code",
   "execution_count": 102,
   "metadata": {},
   "outputs": [],
   "source": [
    "val_accuracy2  = model2.evaluate(X_val, y_val, verbose=False)"
   ]
  },
  {
   "cell_type": "code",
   "execution_count": 103,
   "metadata": {},
   "outputs": [
    {
     "name": "stdout",
     "output_type": "stream",
     "text": [
      "\n",
      " Validation accuracy: 0.88691664\n"
     ]
    }
   ],
   "source": [
    "print('\\n', 'Validation accuracy:', val_accuracy2[1])"
   ]
  },
  {
   "cell_type": "code",
   "execution_count": 104,
   "metadata": {},
   "outputs": [
    {
     "name": "stdout",
     "output_type": "stream",
     "text": [
      "\n",
      " Test accuracy: 0.83194447\n"
     ]
    }
   ],
   "source": [
    "# Evaluate the model on test set\n",
    "score2 = model2.evaluate(X_test, y_test, verbose=0)\n",
    "# Print test accuracy\n",
    "print('\\n', 'Test accuracy:', score2[1])"
   ]
  },
  {
   "cell_type": "code",
   "execution_count": 105,
   "metadata": {},
   "outputs": [
    {
     "data": {
      "text/plain": [
       "<matplotlib.legend.Legend at 0x2a32b4bbc48>"
      ]
     },
     "execution_count": 105,
     "metadata": {},
     "output_type": "execute_result"
    },
    {
     "data": {
      "image/png": "[encoded data removed]",
      "text/plain": [
       "<Figure size 432x288 with 1 Axes>"
      ]
     },
     "metadata": {
      "needs_background": "light"
     },
     "output_type": "display_data"
    }
   ],
   "source": [
    "plt.plot(history2.history['loss'])\n",
    "plt.plot(history2.history['val_loss'])\n",
    "plt.title('model loss')\n",
    "plt.ylabel('loss')\n",
    "plt.xlabel('epoch')\n",
    "plt.legend(['train', 'test'], loc='upper left')"
   ]
  },
  {
   "cell_type": "code",
   "execution_count": 106,
   "metadata": {
    "scrolled": false
   },
   "outputs": [
    {
     "data": {
      "text/plain": [
       "<matplotlib.legend.Legend at 0x2a32b524588>"
      ]
     },
     "execution_count": 106,
     "metadata": {},
     "output_type": "execute_result"
    },
    {
     "data": {
      "image/png": "[encoded data removed]",
      "text/plain": [
       "<Figure size 432x288 with 1 Axes>"
      ]
     },
     "metadata": {
      "needs_background": "light"
     },
     "output_type": "display_data"
    }
   ],
   "source": [
    "plt.plot(history2.history['accuracy'])\n",
    "plt.plot(history2.history['val_accuracy'])\n",
    "plt.title('model Accuracy')\n",
    "plt.ylabel('Accuracy')\n",
    "plt.xlabel('epoch')\n",
    "plt.legend(['train', 'test'], loc='upper left')"
   ]
  },
  {
   "cell_type": "markdown",
   "metadata": {},
   "source": [
    "# Print the classification accuracy metrics (5 points)"
   ]
  },
  {
   "cell_type": "code",
   "execution_count": 107,
   "metadata": {},
   "outputs": [
    {
     "name": "stdout",
     "output_type": "stream",
     "text": [
      "[[1549   33   42   24   18    7   26   17   44   54]\n",
      " [  22 1548   51   49   45    8   22   27   46   10]\n",
      " [  15   16 1620   25   22   10    5   37   25   28]\n",
      " [  11   31   51 1397   14   88   21   22   63   21]\n",
      " [  23   51   47   37 1529   12   25   11   52   25]\n",
      " [  14   16   23  126   10 1415   54   14   67   29]\n",
      " [  38   16   25   25   30   76 1448    7  146   21]\n",
      " [  19   57  110   25   11    5   11 1548    8   14]\n",
      " [  21   28   58   70   15   28   80   11 1466   35]\n",
      " [  64   26   67   55   20   27    7   27   56 1455]]\n",
      "              precision    recall  f1-score   support\n",
      "\n",
      "           0       0.87      0.85      0.86      1814\n",
      "           1       0.85      0.85      0.85      1828\n",
      "           2       0.77      0.90      0.83      1803\n",
      "           3       0.76      0.81      0.79      1719\n",
      "           4       0.89      0.84      0.87      1812\n",
      "           5       0.84      0.80      0.82      1768\n",
      "           6       0.85      0.79      0.82      1832\n",
      "           7       0.90      0.86      0.88      1808\n",
      "           8       0.74      0.81      0.77      1812\n",
      "           9       0.86      0.81      0.83      1804\n",
      "\n",
      "    accuracy                           0.83     18000\n",
      "   macro avg       0.83      0.83      0.83     18000\n",
      "weighted avg       0.84      0.83      0.83     18000\n",
      "\n"
     ]
    }
   ],
   "source": [
    "from sklearn import metrics\n",
    "predictions = model2.predict(X_test)\n",
    "y_pred = []\n",
    "for val in predictions:\n",
    "    y_pred.append(np.argmax(val))\n",
    "cm = metrics.confusion_matrix(ytest,y_pred)\n",
    "print(cm)\n",
    "cr=metrics.classification_report(ytest,y_pred)\n",
    "print(cr)"
   ]
  }
 ],
 "metadata": {
  "kernelspec": {
   "display_name": "Python 3",
   "language": "python",
   "name": "python3"
  },
  "language_info": {
   "codemirror_mode": {
    "name": "ipython",
    "version": 3
   },
   "file_extension": ".py",
   "mimetype": "text/x-python",
   "name": "python",
   "nbconvert_exporter": "python",
   "pygments_lexer": "ipython3",
   "version": "3.7.4"
  }
 },
 "nbformat": 4,
 "nbformat_minor": 2
}
