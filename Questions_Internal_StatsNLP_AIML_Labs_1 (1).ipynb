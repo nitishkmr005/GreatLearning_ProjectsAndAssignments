{
 "cells": [
  {
   "cell_type": "markdown",
   "metadata": {},
   "source": [
    "# Sentiment Analysis\n",
    "\n",
    "#### The Objective of this assignment is to perform Sentiment Analysis on the data collected from twitter.\n",
    "#### The collected data is in the form of tweets from multiple users with respect to multiple mobile devices.\n",
    "#### Based upon emotion associated within tweet(textual data), model has to be trained to predict the emotion to perform Sentiment Analysis."
   ]
  },
  {
   "cell_type": "markdown",
   "metadata": {
    "colab_type": "text",
    "id": "aIWWfNks5sYa"
   },
   "source": [
    "## Question 1"
   ]
  },
  {
   "cell_type": "markdown",
   "metadata": {
    "colab_type": "text",
    "id": "nAQDiZHRH0M_"
   },
   "source": [
    "### Read the data\n",
    "- read tweets.csv\n",
    "- use latin encoding if it gives encoding error while loading"
   ]
  },
  {
   "cell_type": "code",
   "execution_count": 1,
   "metadata": {},
   "outputs": [],
   "source": [
    "import pandas as pd\n",
    "import numpy as np\n",
    "import re"
   ]
  },
  {
   "cell_type": "code",
   "execution_count": 2,
   "metadata": {
    "colab": {},
    "colab_type": "code",
    "id": "3eXGIe-SH0NA"
   },
   "outputs": [
    {
     "data": {
      "text/html": [
       "<div>\n",
       "<style scoped>\n",
       "    .dataframe tbody tr th:only-of-type {\n",
       "        vertical-align: middle;\n",
       "    }\n",
       "\n",
       "    .dataframe tbody tr th {\n",
       "        vertical-align: top;\n",
       "    }\n",
       "\n",
       "    .dataframe thead th {\n",
       "        text-align: right;\n",
       "    }\n",
       "</style>\n",
       "<table border=\"1\" class=\"dataframe\">\n",
       "  <thead>\n",
       "    <tr style=\"text-align: right;\">\n",
       "      <th></th>\n",
       "      <th>tweet_text</th>\n",
       "      <th>emotion_in_tweet_is_directed_at</th>\n",
       "      <th>is_there_an_emotion_directed_at_a_brand_or_product</th>\n",
       "    </tr>\n",
       "  </thead>\n",
       "  <tbody>\n",
       "    <tr>\n",
       "      <th>0</th>\n",
       "      <td>.@wesley83 I have a 3G iPhone. After 3 hrs twe...</td>\n",
       "      <td>iPhone</td>\n",
       "      <td>Negative emotion</td>\n",
       "    </tr>\n",
       "    <tr>\n",
       "      <th>1</th>\n",
       "      <td>@jessedee Know about @fludapp ? Awesome iPad/i...</td>\n",
       "      <td>iPad or iPhone App</td>\n",
       "      <td>Positive emotion</td>\n",
       "    </tr>\n",
       "    <tr>\n",
       "      <th>2</th>\n",
       "      <td>@swonderlin Can not wait for #iPad 2 also. The...</td>\n",
       "      <td>iPad</td>\n",
       "      <td>Positive emotion</td>\n",
       "    </tr>\n",
       "    <tr>\n",
       "      <th>3</th>\n",
       "      <td>@sxsw I hope this year's festival isn't as cra...</td>\n",
       "      <td>iPad or iPhone App</td>\n",
       "      <td>Negative emotion</td>\n",
       "    </tr>\n",
       "    <tr>\n",
       "      <th>4</th>\n",
       "      <td>@sxtxstate great stuff on Fri #SXSW: Marissa M...</td>\n",
       "      <td>Google</td>\n",
       "      <td>Positive emotion</td>\n",
       "    </tr>\n",
       "  </tbody>\n",
       "</table>\n",
       "</div>"
      ],
      "text/plain": [
       "                                          tweet_text  \\\n",
       "0  .@wesley83 I have a 3G iPhone. After 3 hrs twe...   \n",
       "1  @jessedee Know about @fludapp ? Awesome iPad/i...   \n",
       "2  @swonderlin Can not wait for #iPad 2 also. The...   \n",
       "3  @sxsw I hope this year's festival isn't as cra...   \n",
       "4  @sxtxstate great stuff on Fri #SXSW: Marissa M...   \n",
       "\n",
       "  emotion_in_tweet_is_directed_at  \\\n",
       "0                          iPhone   \n",
       "1              iPad or iPhone App   \n",
       "2                            iPad   \n",
       "3              iPad or iPhone App   \n",
       "4                          Google   \n",
       "\n",
       "  is_there_an_emotion_directed_at_a_brand_or_product  \n",
       "0                                   Negative emotion  \n",
       "1                                   Positive emotion  \n",
       "2                                   Positive emotion  \n",
       "3                                   Negative emotion  \n",
       "4                                   Positive emotion  "
      ]
     },
     "execution_count": 2,
     "metadata": {},
     "output_type": "execute_result"
    }
   ],
   "source": [
    "df = pd.read_csv(\"tweets.csv\",encoding='latin1')\n",
    "df.head()"
   ]
  },
  {
   "cell_type": "code",
   "execution_count": 3,
   "metadata": {},
   "outputs": [
    {
     "data": {
      "text/plain": [
       "(9093, 3)"
      ]
     },
     "execution_count": 3,
     "metadata": {},
     "output_type": "execute_result"
    }
   ],
   "source": [
    "df.shape"
   ]
  },
  {
   "cell_type": "markdown",
   "metadata": {
    "colab_type": "text",
    "id": "39pqw0aE5sYe"
   },
   "source": [
    "### Drop null values\n",
    "- Check for null values\n",
    "- drop rows with null values"
   ]
  },
  {
   "cell_type": "code",
   "execution_count": 4,
   "metadata": {
    "colab": {},
    "colab_type": "code",
    "id": "BF_69oyI5sYf"
   },
   "outputs": [
    {
     "data": {
      "text/plain": [
       "tweet_text                                               1\n",
       "emotion_in_tweet_is_directed_at                       5802\n",
       "is_there_an_emotion_directed_at_a_brand_or_product       0\n",
       "dtype: int64"
      ]
     },
     "execution_count": 4,
     "metadata": {},
     "output_type": "execute_result"
    }
   ],
   "source": [
    "df.isnull().sum()"
   ]
  },
  {
   "cell_type": "code",
   "execution_count": 5,
   "metadata": {},
   "outputs": [],
   "source": [
    "df['emotion_in_tweet_is_directed_at'] = df['emotion_in_tweet_is_directed_at'].fillna('NA')"
   ]
  },
  {
   "cell_type": "code",
   "execution_count": 6,
   "metadata": {},
   "outputs": [
    {
     "data": {
      "text/plain": [
       "tweet_text                                            1\n",
       "emotion_in_tweet_is_directed_at                       0\n",
       "is_there_an_emotion_directed_at_a_brand_or_product    0\n",
       "dtype: int64"
      ]
     },
     "execution_count": 6,
     "metadata": {},
     "output_type": "execute_result"
    }
   ],
   "source": [
    "df.isnull().sum()"
   ]
  },
  {
   "cell_type": "code",
   "execution_count": 7,
   "metadata": {},
   "outputs": [],
   "source": [
    "df.dropna(inplace=True)"
   ]
  },
  {
   "cell_type": "code",
   "execution_count": 8,
   "metadata": {},
   "outputs": [
    {
     "data": {
      "text/plain": [
       "tweet_text                                            0\n",
       "emotion_in_tweet_is_directed_at                       0\n",
       "is_there_an_emotion_directed_at_a_brand_or_product    0\n",
       "dtype: int64"
      ]
     },
     "execution_count": 8,
     "metadata": {},
     "output_type": "execute_result"
    }
   ],
   "source": [
    "df.isnull().sum()"
   ]
  },
  {
   "cell_type": "markdown",
   "metadata": {
    "colab_type": "text",
    "id": "0bm4bDiy5sYg"
   },
   "source": [
    "### Print the dataframe\n",
    "- print initial 5 rows of the data"
   ]
  },
  {
   "cell_type": "code",
   "execution_count": 9,
   "metadata": {
    "colab": {},
    "colab_type": "code",
    "id": "ceSlvAVa5sYh",
    "scrolled": true
   },
   "outputs": [
    {
     "data": {
      "text/html": [
       "<div>\n",
       "<style scoped>\n",
       "    .dataframe tbody tr th:only-of-type {\n",
       "        vertical-align: middle;\n",
       "    }\n",
       "\n",
       "    .dataframe tbody tr th {\n",
       "        vertical-align: top;\n",
       "    }\n",
       "\n",
       "    .dataframe thead th {\n",
       "        text-align: right;\n",
       "    }\n",
       "</style>\n",
       "<table border=\"1\" class=\"dataframe\">\n",
       "  <thead>\n",
       "    <tr style=\"text-align: right;\">\n",
       "      <th></th>\n",
       "      <th>tweet_text</th>\n",
       "      <th>emotion_in_tweet_is_directed_at</th>\n",
       "      <th>is_there_an_emotion_directed_at_a_brand_or_product</th>\n",
       "    </tr>\n",
       "  </thead>\n",
       "  <tbody>\n",
       "    <tr>\n",
       "      <th>0</th>\n",
       "      <td>.@wesley83 I have a 3G iPhone. After 3 hrs twe...</td>\n",
       "      <td>iPhone</td>\n",
       "      <td>Negative emotion</td>\n",
       "    </tr>\n",
       "    <tr>\n",
       "      <th>1</th>\n",
       "      <td>@jessedee Know about @fludapp ? Awesome iPad/i...</td>\n",
       "      <td>iPad or iPhone App</td>\n",
       "      <td>Positive emotion</td>\n",
       "    </tr>\n",
       "    <tr>\n",
       "      <th>2</th>\n",
       "      <td>@swonderlin Can not wait for #iPad 2 also. The...</td>\n",
       "      <td>iPad</td>\n",
       "      <td>Positive emotion</td>\n",
       "    </tr>\n",
       "    <tr>\n",
       "      <th>3</th>\n",
       "      <td>@sxsw I hope this year's festival isn't as cra...</td>\n",
       "      <td>iPad or iPhone App</td>\n",
       "      <td>Negative emotion</td>\n",
       "    </tr>\n",
       "    <tr>\n",
       "      <th>4</th>\n",
       "      <td>@sxtxstate great stuff on Fri #SXSW: Marissa M...</td>\n",
       "      <td>Google</td>\n",
       "      <td>Positive emotion</td>\n",
       "    </tr>\n",
       "  </tbody>\n",
       "</table>\n",
       "</div>"
      ],
      "text/plain": [
       "                                          tweet_text  \\\n",
       "0  .@wesley83 I have a 3G iPhone. After 3 hrs twe...   \n",
       "1  @jessedee Know about @fludapp ? Awesome iPad/i...   \n",
       "2  @swonderlin Can not wait for #iPad 2 also. The...   \n",
       "3  @sxsw I hope this year's festival isn't as cra...   \n",
       "4  @sxtxstate great stuff on Fri #SXSW: Marissa M...   \n",
       "\n",
       "  emotion_in_tweet_is_directed_at  \\\n",
       "0                          iPhone   \n",
       "1              iPad or iPhone App   \n",
       "2                            iPad   \n",
       "3              iPad or iPhone App   \n",
       "4                          Google   \n",
       "\n",
       "  is_there_an_emotion_directed_at_a_brand_or_product  \n",
       "0                                   Negative emotion  \n",
       "1                                   Positive emotion  \n",
       "2                                   Positive emotion  \n",
       "3                                   Negative emotion  \n",
       "4                                   Positive emotion  "
      ]
     },
     "execution_count": 9,
     "metadata": {},
     "output_type": "execute_result"
    }
   ],
   "source": [
    "df.head()"
   ]
  },
  {
   "cell_type": "code",
   "execution_count": 10,
   "metadata": {},
   "outputs": [
    {
     "data": {
      "text/plain": [
       "array(['iPhone', 'iPad or iPhone App', 'iPad', 'Google', 'NA', 'Android',\n",
       "       'Apple', 'Android App', 'Other Google product or service',\n",
       "       'Other Apple product or service'], dtype=object)"
      ]
     },
     "execution_count": 10,
     "metadata": {},
     "output_type": "execute_result"
    }
   ],
   "source": [
    "df['emotion_in_tweet_is_directed_at'].unique()"
   ]
  },
  {
   "cell_type": "code",
   "execution_count": 11,
   "metadata": {},
   "outputs": [
    {
     "data": {
      "text/plain": [
       "array(['Negative emotion', 'Positive emotion',\n",
       "       'No emotion toward brand or product', \"I can't tell\"], dtype=object)"
      ]
     },
     "execution_count": 11,
     "metadata": {},
     "output_type": "execute_result"
    }
   ],
   "source": [
    "df['is_there_an_emotion_directed_at_a_brand_or_product'].unique()"
   ]
  },
  {
   "cell_type": "markdown",
   "metadata": {
    "colab_type": "text",
    "id": "jcWfPVqG5sYi"
   },
   "source": [
    "## Question 2"
   ]
  },
  {
   "cell_type": "markdown",
   "metadata": {
    "colab_type": "text",
    "id": "JBbAeip_5sYj"
   },
   "source": [
    "### Preprocess data\n",
    "- convert all text to lowercase - use .lower()\n",
    "- select only numbers, alphabets, and #+_ from text - use re.sub()\n",
    "- strip all the text - use .strip()\n",
    "    - this is for removing extra spaces"
   ]
  },
  {
   "cell_type": "code",
   "execution_count": 12,
   "metadata": {
    "colab": {},
    "colab_type": "code",
    "id": "PE4Bn_YT5sYj"
   },
   "outputs": [],
   "source": [
    "import unicodedata\n",
    "def preprocesstweet(tweet):\n",
    "    tweet = tweet.lower()\n",
    "    tweet = re.sub(r'https?://\\S+', '', tweet)   # Removes Hyperlink\n",
    "    tweet = re.sub('[^0-9a-z #+_]', '', tweet)   # Select only numbers,alphabets and #+_\n",
    "    tweet = unicodedata.normalize('NFKD', tweet).encode('ascii', 'ignore').decode('utf-8', 'ignore') # Remove Accented Characters\n",
    "    tweet = tweet.strip()\n",
    "    return tweet"
   ]
  },
  {
   "cell_type": "code",
   "execution_count": 13,
   "metadata": {},
   "outputs": [],
   "source": [
    "#df=df.applymap(lambda s:s.lower())\n",
    "#df=df.applymap(lambda s:re.sub('[^0-9a-z #+_]', '', s))\n",
    "#df=df.applymap(lambda s:s.strip())"
   ]
  },
  {
   "cell_type": "code",
   "execution_count": 14,
   "metadata": {},
   "outputs": [
    {
     "data": {
      "text/plain": [
       "'find amp start impromptu parties at #sxsw with hurricaneparty  i cant wait til the android app comes out'"
      ]
     },
     "execution_count": 14,
     "metadata": {},
     "output_type": "execute_result"
    }
   ],
   "source": [
    "preprocesstweet(\"Find &amp; Start Impromptu Parties at #SXSW With @HurricaneParty http://bit.ly/gVLrIn I can't wait til the Android app comes out.\")"
   ]
  },
  {
   "cell_type": "code",
   "execution_count": 15,
   "metadata": {},
   "outputs": [
    {
     "data": {
      "text/plain": [
       "'what _ link _ #edchat #musedchat #sxsw #sxswi #classical #newtwitter'"
      ]
     },
     "execution_count": 15,
     "metadata": {},
     "output_type": "execute_result"
    }
   ],
   "source": [
    "preprocesstweet('‰÷¼ WHAT? ‰÷_ {link} ‰ã_ #edchat #musedchat #sxsw #sxswi #classical #newTwitter')"
   ]
  },
  {
   "cell_type": "code",
   "execution_count": 16,
   "metadata": {},
   "outputs": [],
   "source": [
    "df['tweet_text'] = df['tweet_text'].apply(lambda x:preprocesstweet(x))"
   ]
  },
  {
   "cell_type": "markdown",
   "metadata": {
    "colab_type": "text",
    "id": "QlMvbtrK5sYl"
   },
   "source": [
    "print dataframe"
   ]
  },
  {
   "cell_type": "code",
   "execution_count": 17,
   "metadata": {
    "colab": {},
    "colab_type": "code",
    "id": "afocjaUn5sYm"
   },
   "outputs": [
    {
     "data": {
      "text/html": [
       "<div>\n",
       "<style scoped>\n",
       "    .dataframe tbody tr th:only-of-type {\n",
       "        vertical-align: middle;\n",
       "    }\n",
       "\n",
       "    .dataframe tbody tr th {\n",
       "        vertical-align: top;\n",
       "    }\n",
       "\n",
       "    .dataframe thead th {\n",
       "        text-align: right;\n",
       "    }\n",
       "</style>\n",
       "<table border=\"1\" class=\"dataframe\">\n",
       "  <thead>\n",
       "    <tr style=\"text-align: right;\">\n",
       "      <th></th>\n",
       "      <th>tweet_text</th>\n",
       "      <th>emotion_in_tweet_is_directed_at</th>\n",
       "      <th>is_there_an_emotion_directed_at_a_brand_or_product</th>\n",
       "    </tr>\n",
       "  </thead>\n",
       "  <tbody>\n",
       "    <tr>\n",
       "      <th>0</th>\n",
       "      <td>wesley83 i have a 3g iphone after 3 hrs tweeti...</td>\n",
       "      <td>iPhone</td>\n",
       "      <td>Negative emotion</td>\n",
       "    </tr>\n",
       "    <tr>\n",
       "      <th>1</th>\n",
       "      <td>jessedee know about fludapp  awesome ipadiphon...</td>\n",
       "      <td>iPad or iPhone App</td>\n",
       "      <td>Positive emotion</td>\n",
       "    </tr>\n",
       "    <tr>\n",
       "      <th>2</th>\n",
       "      <td>swonderlin can not wait for #ipad 2 also they ...</td>\n",
       "      <td>iPad</td>\n",
       "      <td>Positive emotion</td>\n",
       "    </tr>\n",
       "    <tr>\n",
       "      <th>3</th>\n",
       "      <td>sxsw i hope this years festival isnt as crashy...</td>\n",
       "      <td>iPad or iPhone App</td>\n",
       "      <td>Negative emotion</td>\n",
       "    </tr>\n",
       "    <tr>\n",
       "      <th>4</th>\n",
       "      <td>sxtxstate great stuff on fri #sxsw marissa may...</td>\n",
       "      <td>Google</td>\n",
       "      <td>Positive emotion</td>\n",
       "    </tr>\n",
       "    <tr>\n",
       "      <th>5</th>\n",
       "      <td>teachntech00 new ipad apps for #speechtherapy ...</td>\n",
       "      <td>NA</td>\n",
       "      <td>No emotion toward brand or product</td>\n",
       "    </tr>\n",
       "    <tr>\n",
       "      <th>7</th>\n",
       "      <td>#sxsw is just starting #ctia is around the cor...</td>\n",
       "      <td>Android</td>\n",
       "      <td>Positive emotion</td>\n",
       "    </tr>\n",
       "    <tr>\n",
       "      <th>8</th>\n",
       "      <td>beautifully smart and simple idea rt madebyman...</td>\n",
       "      <td>iPad or iPhone App</td>\n",
       "      <td>Positive emotion</td>\n",
       "    </tr>\n",
       "    <tr>\n",
       "      <th>9</th>\n",
       "      <td>counting down the days to #sxsw plus strong ca...</td>\n",
       "      <td>Apple</td>\n",
       "      <td>Positive emotion</td>\n",
       "    </tr>\n",
       "    <tr>\n",
       "      <th>10</th>\n",
       "      <td>excited to meet the samsungmobileus at #sxsw s...</td>\n",
       "      <td>Android</td>\n",
       "      <td>Positive emotion</td>\n",
       "    </tr>\n",
       "  </tbody>\n",
       "</table>\n",
       "</div>"
      ],
      "text/plain": [
       "                                           tweet_text  \\\n",
       "0   wesley83 i have a 3g iphone after 3 hrs tweeti...   \n",
       "1   jessedee know about fludapp  awesome ipadiphon...   \n",
       "2   swonderlin can not wait for #ipad 2 also they ...   \n",
       "3   sxsw i hope this years festival isnt as crashy...   \n",
       "4   sxtxstate great stuff on fri #sxsw marissa may...   \n",
       "5   teachntech00 new ipad apps for #speechtherapy ...   \n",
       "7   #sxsw is just starting #ctia is around the cor...   \n",
       "8   beautifully smart and simple idea rt madebyman...   \n",
       "9   counting down the days to #sxsw plus strong ca...   \n",
       "10  excited to meet the samsungmobileus at #sxsw s...   \n",
       "\n",
       "   emotion_in_tweet_is_directed_at  \\\n",
       "0                           iPhone   \n",
       "1               iPad or iPhone App   \n",
       "2                             iPad   \n",
       "3               iPad or iPhone App   \n",
       "4                           Google   \n",
       "5                               NA   \n",
       "7                          Android   \n",
       "8               iPad or iPhone App   \n",
       "9                            Apple   \n",
       "10                         Android   \n",
       "\n",
       "   is_there_an_emotion_directed_at_a_brand_or_product  \n",
       "0                                    Negative emotion  \n",
       "1                                    Positive emotion  \n",
       "2                                    Positive emotion  \n",
       "3                                    Negative emotion  \n",
       "4                                    Positive emotion  \n",
       "5                  No emotion toward brand or product  \n",
       "7                                    Positive emotion  \n",
       "8                                    Positive emotion  \n",
       "9                                    Positive emotion  \n",
       "10                                   Positive emotion  "
      ]
     },
     "execution_count": 17,
     "metadata": {},
     "output_type": "execute_result"
    }
   ],
   "source": [
    "df.head(10)"
   ]
  },
  {
   "cell_type": "markdown",
   "metadata": {
    "colab_type": "text",
    "id": "bcTUnvtg5sYn"
   },
   "source": [
    "## Question 3"
   ]
  },
  {
   "cell_type": "markdown",
   "metadata": {
    "colab_type": "text",
    "id": "4gnaeSXZ5sYo"
   },
   "source": [
    "### Preprocess data\n",
    "- in column \"is_there_an_emotion_directed_at_a_brand_or_product\"\n",
    "    - select only those rows where value equal to \"positive emotion\" or \"negative emotion\"\n",
    "- find the value counts of \"positive emotion\" and \"negative emotion\""
   ]
  },
  {
   "cell_type": "code",
   "execution_count": 18,
   "metadata": {
    "colab": {},
    "colab_type": "code",
    "id": "nLewJh_35sYp"
   },
   "outputs": [
    {
     "data": {
      "text/plain": [
       "No emotion toward brand or product    5388\n",
       "Positive emotion                      2978\n",
       "Negative emotion                       570\n",
       "I can't tell                           156\n",
       "Name: is_there_an_emotion_directed_at_a_brand_or_product, dtype: int64"
      ]
     },
     "execution_count": 18,
     "metadata": {},
     "output_type": "execute_result"
    }
   ],
   "source": [
    "df['is_there_an_emotion_directed_at_a_brand_or_product'].value_counts()"
   ]
  },
  {
   "cell_type": "code",
   "execution_count": 19,
   "metadata": {
    "colab": {},
    "colab_type": "code",
    "id": "3VFYB4eh5sYr",
    "scrolled": true
   },
   "outputs": [],
   "source": [
    "df =  df[(df['is_there_an_emotion_directed_at_a_brand_or_product']=='Positive emotion') | (df['is_there_an_emotion_directed_at_a_brand_or_product']=='Negative emotion')]"
   ]
  },
  {
   "cell_type": "code",
   "execution_count": 20,
   "metadata": {},
   "outputs": [
    {
     "data": {
      "text/plain": [
       "Positive emotion    2978\n",
       "Negative emotion     570\n",
       "Name: is_there_an_emotion_directed_at_a_brand_or_product, dtype: int64"
      ]
     },
     "execution_count": 20,
     "metadata": {},
     "output_type": "execute_result"
    }
   ],
   "source": [
    "df['is_there_an_emotion_directed_at_a_brand_or_product'].value_counts()"
   ]
  },
  {
   "cell_type": "code",
   "execution_count": 21,
   "metadata": {},
   "outputs": [
    {
     "data": {
      "text/plain": [
       "(3548, 3)"
      ]
     },
     "execution_count": 21,
     "metadata": {},
     "output_type": "execute_result"
    }
   ],
   "source": [
    "df.shape"
   ]
  },
  {
   "cell_type": "markdown",
   "metadata": {
    "colab_type": "text",
    "id": "6icGcVTE5sYz"
   },
   "source": [
    "## Question 4"
   ]
  },
  {
   "cell_type": "markdown",
   "metadata": {
    "colab_type": "text",
    "id": "Rg0rSepj5sYz"
   },
   "source": [
    "### Encode labels\n",
    "- in column \"is_there_an_emotion_directed_at_a_brand_or_product\"\n",
    "    - change \"positive emotion\" to 1\n",
    "    - change \"negative emotion\" to 0\n",
    "- use map function to replace values"
   ]
  },
  {
   "cell_type": "code",
   "execution_count": 22,
   "metadata": {
    "colab": {},
    "colab_type": "code",
    "id": "YftKwFv7H0N9"
   },
   "outputs": [],
   "source": [
    "df['is_there_an_emotion_directed_at_a_brand_or_product'] = df['is_there_an_emotion_directed_at_a_brand_or_product'].replace({'Positive emotion':1,'Negative emotion':0})"
   ]
  },
  {
   "cell_type": "code",
   "execution_count": 23,
   "metadata": {},
   "outputs": [
    {
     "data": {
      "text/plain": [
       "1    2978\n",
       "0     570\n",
       "Name: is_there_an_emotion_directed_at_a_brand_or_product, dtype: int64"
      ]
     },
     "execution_count": 23,
     "metadata": {},
     "output_type": "execute_result"
    }
   ],
   "source": [
    "df['is_there_an_emotion_directed_at_a_brand_or_product'].value_counts()"
   ]
  },
  {
   "cell_type": "markdown",
   "metadata": {
    "colab_type": "text",
    "id": "sC1qSe3h5sY2"
   },
   "source": [
    "## Question 5"
   ]
  },
  {
   "cell_type": "markdown",
   "metadata": {
    "colab_type": "text",
    "id": "aWlAN_Ts5sY2"
   },
   "source": [
    "### Get feature and label\n",
    "- get column \"tweet_text\" as feature\n",
    "- get column \"is_there_an_emotion_directed_at_a_brand_or_product\" as label"
   ]
  },
  {
   "cell_type": "code",
   "execution_count": 24,
   "metadata": {
    "colab": {},
    "colab_type": "code",
    "id": "9A3sOZzR5sY4"
   },
   "outputs": [],
   "source": [
    "X = df.tweet_text\n",
    "Y = df.is_there_an_emotion_directed_at_a_brand_or_product"
   ]
  },
  {
   "cell_type": "markdown",
   "metadata": {
    "colab_type": "text",
    "id": "3YErwYLCH0N_"
   },
   "source": [
    "### Create train and test data\n",
    "- use train_test_split to get train and test set\n",
    "- set a random_state\n",
    "- test_size: 0.25"
   ]
  },
  {
   "cell_type": "code",
   "execution_count": 25,
   "metadata": {
    "colab": {},
    "colab_type": "code",
    "id": "lNkwrGgEH0OA"
   },
   "outputs": [],
   "source": [
    "from sklearn.model_selection import train_test_split\n",
    "X_train, X_test, y_train, y_test = train_test_split(X, Y, test_size=0.25, random_state=5)"
   ]
  },
  {
   "cell_type": "code",
   "execution_count": 26,
   "metadata": {},
   "outputs": [
    {
     "data": {
      "text/plain": [
       "((2661,), (887,))"
      ]
     },
     "execution_count": 26,
     "metadata": {},
     "output_type": "execute_result"
    }
   ],
   "source": [
    "X_train.shape,X_test.shape"
   ]
  },
  {
   "cell_type": "code",
   "execution_count": 27,
   "metadata": {},
   "outputs": [
    {
     "data": {
      "text/plain": [
       "7714                #sxsw android users were proud of you\n",
       "7963    mention saw you awesome educational iphone mus...\n",
       "8619    82 of future tablet buyers say theyll choose a...\n",
       "6611    rt mention rt mention the day bank of america ...\n",
       "8358    dont bite any ears rt mention ill be at the au...\n",
       "                              ...                        \n",
       "8153    i think #sxsw has taken it upon itself to make...\n",
       "7769    awesome rt mention heading to austin for #sxsw...\n",
       "4178    never realized that there was a storymeaning b...\n",
       "5548    rt mention before it even begins apple wins #s...\n",
       "7447    add the apple popup shop to your #sxsw mention...\n",
       "Name: tweet_text, Length: 2661, dtype: object"
      ]
     },
     "execution_count": 27,
     "metadata": {},
     "output_type": "execute_result"
    }
   ],
   "source": [
    "X_train"
   ]
  },
  {
   "cell_type": "markdown",
   "metadata": {
    "colab_type": "text",
    "id": "gMok2IX35sY8"
   },
   "source": [
    "## Question 6"
   ]
  },
  {
   "cell_type": "markdown",
   "metadata": {
    "colab_type": "text",
    "id": "dSqYjPuT5sY8"
   },
   "source": [
    "### Vectorize data\n",
    "- create document-term matrix\n",
    "- use CountVectorizer()\n",
    "    - ngram_range: (1, 2)\n",
    "    - stop_words: 'english'\n",
    "    - min_df: 2   \n",
    "- do fit_transform on X_train\n",
    "- do transform on X_test"
   ]
  },
  {
   "cell_type": "code",
   "execution_count": 28,
   "metadata": {
    "colab": {},
    "colab_type": "code",
    "id": "bb9PnnqT5sY8"
   },
   "outputs": [],
   "source": [
    "# import and instantiate CountVectorizer (with the default parameters)\n",
    "from sklearn.feature_extraction.text import CountVectorizer\n",
    "cvect = CountVectorizer(ngram_range=(1,2),stop_words='english',min_df=2)"
   ]
  },
  {
   "cell_type": "code",
   "execution_count": 29,
   "metadata": {},
   "outputs": [
    {
     "data": {
      "text/plain": [
       "5927"
      ]
     },
     "execution_count": 29,
     "metadata": {},
     "output_type": "execute_result"
    }
   ],
   "source": [
    "cvect.fit(X_train)\n",
    "len(cvect.vocabulary_)"
   ]
  },
  {
   "cell_type": "code",
   "execution_count": 30,
   "metadata": {},
   "outputs": [
    {
     "data": {
      "text/plain": [
       "{'sxsw': 4866,\n",
       " 'android': 229,\n",
       " 'users': 5538,\n",
       " 'sxsw android': 4877,\n",
       " 'mention': 3219,\n",
       " 'saw': 4380,\n",
       " 'awesome': 505,\n",
       " 'iphone': 2582,\n",
       " 'music': 3524,\n",
       " 'app': 270,\n",
       " 'mention saw': 3360,\n",
       " 'future': 1766,\n",
       " 'tablet': 5128,\n",
       " 'buyers': 772,\n",
       " 'say': 4382,\n",
       " 'theyll': 5261,\n",
       " 'apples': 382,\n",
       " 'ipad': 2437,\n",
       " 'popup': 3944,\n",
       " 'store': 4738,\n",
       " 'link': 2924,\n",
       " 'apples ipad': 384,\n",
       " 'ipad popup': 2511,\n",
       " 'popup store': 3949,\n",
       " 'store sxsw': 4773,\n",
       " 'sxsw link': 4974,\n",
       " 'rt': 4327,\n",
       " 'day': 1172,\n",
       " 'bank': 540,\n",
       " 'america': 195,\n",
       " 'launched': 2833,\n",
       " 'got': 1976,\n",
       " '250k': 43,\n",
       " 'new': 3578,\n",
       " 'customers': 1146,\n",
       " 'bankinnovation': 544,\n",
       " 'rt mention': 4329,\n",
       " 'mention rt': 3357,\n",
       " 'mention day': 3257,\n",
       " 'day bank': 1175,\n",
       " 'bank america': 541,\n",
       " 'america launched': 196,\n",
       " 'launched iphone': 2834,\n",
       " 'iphone app': 2586,\n",
       " 'app got': 285,\n",
       " 'got 250k': 1977,\n",
       " '250k new': 44,\n",
       " 'new customers': 3585,\n",
       " 'customers bankinnovation': 1147,\n",
       " 'bankinnovation sxsw': 545,\n",
       " 'dont': 1334,\n",
       " 'ears': 1406,\n",
       " 'ill': 2302,\n",
       " 'austin': 456,\n",
       " 'convention': 1065,\n",
       " 'center': 845,\n",
       " 'today': 5343,\n",
       " 'fam': 1568,\n",
       " 'showing': 4536,\n",
       " 'game': 1782,\n",
       " 'ears rt': 1407,\n",
       " 'mention ill': 3307,\n",
       " 'ill austin': 2303,\n",
       " 'austin convention': 460,\n",
       " 'convention center': 1066,\n",
       " 'center today': 847,\n",
       " 'today mention': 5350,\n",
       " 'mention fam': 3270,\n",
       " 'fam showing': 1569,\n",
       " 'showing new': 4538,\n",
       " 'new iphone': 3590,\n",
       " 'iphone game': 2606,\n",
       " 'game sxsw': 1787,\n",
       " 'wait': 5622,\n",
       " 'anymore': 266,\n",
       " 'quotgoogle': 4117,\n",
       " 'launch': 2820,\n",
       " 'major': 3110,\n",
       " 'social': 4597,\n",
       " 'network': 3568,\n",
       " 'called': 794,\n",
       " 'circlesquot': 924,\n",
       " 'google': 1875,\n",
       " 'circles': 913,\n",
       " 'mention wait': 3394,\n",
       " 'wait anymore': 5623,\n",
       " 'anymore quotgoogle': 267,\n",
       " 'quotgoogle launch': 4119,\n",
       " 'launch major': 2827,\n",
       " 'major new': 3111,\n",
       " 'new social': 3598,\n",
       " 'social network': 4600,\n",
       " 'network called': 3569,\n",
       " 'called circlesquot': 796,\n",
       " 'circlesquot mention': 925,\n",
       " 'mention link': 3322,\n",
       " 'link google': 2939,\n",
       " 'google circles': 1889,\n",
       " 'circles sxsw': 922,\n",
       " 'wont': 5802,\n",
       " 'pull': 4056,\n",
       " 'website': 5692,\n",
       " 'glad': 1837,\n",
       " 'wasted': 5660,\n",
       " 'time': 5314,\n",
       " 'iphone awesome': 2589,\n",
       " 'wasted time': 5661,\n",
       " 'ceo': 848,\n",
       " 'gowalla': 1989,\n",
       " 'tells': 5210,\n",
       " 'born': 688,\n",
       " 'looks': 3029,\n",
       " 'technical': 5196,\n",
       " 'solutions': 4625,\n",
       " 'theyre': 5262,\n",
       " 'great': 2005,\n",
       " 'community': 1000,\n",
       " 'human': 2284,\n",
       " 'solutionquot': 4623,\n",
       " 'mention quotgoogle': 3349,\n",
       " 'quotgoogle looks': 4120,\n",
       " 'looks technical': 3033,\n",
       " 'technical solutions': 5197,\n",
       " 'solutions theyre': 4626,\n",
       " 'theyre great': 5266,\n",
       " 'great community': 2008,\n",
       " 'community human': 1001,\n",
       " 'human solutionquot': 2285,\n",
       " 'solutionquot sxsw': 4624,\n",
       " 'apple': 315,\n",
       " 'marketing': 3167,\n",
       " 'impressive': 2340,\n",
       " 'rtmention': 4331,\n",
       " 'apple marketing': 344,\n",
       " 'temporary': 5214,\n",
       " 'really': 4205,\n",
       " 'fanboy': 1571,\n",
       " 'temporary apple': 5215,\n",
       " 'apple store': 372,\n",
       " 'sxsw really': 5026,\n",
       " 'ipad apple': 2445,\n",
       " 'apple sxsw': 376,\n",
       " 'congrats': 1030,\n",
       " 'ahead': 167,\n",
       " 'mention launch': 3319,\n",
       " 'knows': 2796,\n",
       " 'map': 3131,\n",
       " 'people': 3810,\n",
       " 'traffic': 5403,\n",
       " 'world': 5830,\n",
       " 'sxtxstate': 5120,\n",
       " 'hours': 2271,\n",
       " 'buying': 774,\n",
       " 'hyatt': 2287,\n",
       " 'able': 121,\n",
       " 'strangers': 4783,\n",
       " 'public': 4054,\n",
       " 'poursite': 3964,\n",
       " 'mention hours': 3306,\n",
       " 'buying ipad': 775,\n",
       " 'public sxsw': 4055,\n",
       " 'sxsw poursite': 5015,\n",
       " 'youtube': 5907,\n",
       " 'second': 4428,\n",
       " 'largest': 2811,\n",
       " 'search': 4418,\n",
       " 'engine': 1456,\n",
       " 'says': 4387,\n",
       " 'discotalk': 1290,\n",
       " 'search engine': 4419,\n",
       " 'google says': 1936,\n",
       " 'says mention': 4390,\n",
       " 'discotalk sxsw': 1291,\n",
       " 'smart': 4581,\n",
       " 'madebymany': 3097,\n",
       " 'hollergram': 2228,\n",
       " 'leave': 2855,\n",
       " 'vuvuzela': 5617,\n",
       " 'home': 2233,\n",
       " 'madebymany hollergram': 3098,\n",
       " 'hollergram ipad': 2230,\n",
       " 'ipad app': 2444,\n",
       " 'app sxsw': 305,\n",
       " 'leave vuvuzela': 2856,\n",
       " 'vuvuzela home': 5618,\n",
       " 'rumor': 4333,\n",
       " 'opening': 3712,\n",
       " 'downtown': 1359,\n",
       " 'amp': 202,\n",
       " 'rumor apple': 4334,\n",
       " 'apple opening': 348,\n",
       " 'opening popup': 3715,\n",
       " 'store downtown': 4747,\n",
       " 'downtown austin': 1361,\n",
       " 'austin sxsw': 478,\n",
       " 'sxsw amp': 4875,\n",
       " 'amp ipad': 212,\n",
       " 'ipad launch': 2491,\n",
       " 'launch mention': 2828,\n",
       " 'heres': 2184,\n",
       " 'latest': 2815,\n",
       " 'worked': 5823,\n",
       " 'hobo': 2218,\n",
       " 'shotgun': 4529,\n",
       " 'hobo shotgun': 2219,\n",
       " 'sxsw mention': 4985,\n",
       " 'good': 1860,\n",
       " 'news': 3607,\n",
       " 'eats': 1420,\n",
       " 'bbq': 571,\n",
       " 'available': 487,\n",
       " 'itunes': 2652,\n",
       " 'sxswi': 5107,\n",
       " 'good news': 1868,\n",
       " 'news austin': 3609,\n",
       " 'austin eats': 461,\n",
       " 'eats bbq': 1421,\n",
       " 'bbq iphone': 572,\n",
       " 'iphone available': 2588,\n",
       " 'available link': 490,\n",
       " 'link itunes': 2945,\n",
       " 'itunes austin': 2654,\n",
       " 'austin bbq': 458,\n",
       " 'bbq sxsw': 573,\n",
       " 'sxsw sxswi': 5053,\n",
       " 'know': 2787,\n",
       " 'started': 4703,\n",
       " 'lying': 3085,\n",
       " 'signal': 4548,\n",
       " 'strength': 4794,\n",
       " 'mention know': 3317,\n",
       " 'know sxsw': 2794,\n",
       " 'sxsw iphone': 4964,\n",
       " 'iphone started': 2622,\n",
       " 'started lying': 4705,\n",
       " 'lying signal': 3086,\n",
       " 'signal strength': 4550,\n",
       " 'yes': 5887,\n",
       " 'thats': 5248,\n",
       " 'want': 5644,\n",
       " 'win': 5748,\n",
       " 'need': 3547,\n",
       " 'mention yes': 3402,\n",
       " 'want win': 5652,\n",
       " 'need win': 3557,\n",
       " 'sxsw ipad': 4962,\n",
       " 'plane': 3893,\n",
       " 'told': 5354,\n",
       " 'friend': 1735,\n",
       " 'liked': 2899,\n",
       " 'reading': 4193,\n",
       " 'brings': 730,\n",
       " 'design': 1238,\n",
       " 'like': 2880,\n",
       " '101': 5,\n",
       " 'class': 933,\n",
       " 'talk': 5150,\n",
       " 'didnt': 1272,\n",
       " 'experience': 1532,\n",
       " 'design ipad': 1242,\n",
       " 'ipad like': 2493,\n",
       " 'experience sxsw': 1535,\n",
       " 'bored': 686,\n",
       " 'keynote': 2750,\n",
       " 'bored keynote': 687,\n",
       " 'keynote sxsw': 2751,\n",
       " 'ipad link': 2495,\n",
       " 'zombies': 5924,\n",
       " 'content': 1052,\n",
       " 'likes': 2901,\n",
       " 'app android': 272,\n",
       " 'android sxsw': 251,\n",
       " 'th': 5237,\n",
       " 'worst': 5838,\n",
       " 'kinda': 2776,\n",
       " 'interesting': 2411,\n",
       " 'ipad content': 2459,\n",
       " 'begins': 588,\n",
       " 'wins': 5764,\n",
       " 'support': 4837,\n",
       " 'ipad2': 2549,\n",
       " 'genius': 1809,\n",
       " 'begins apple': 589,\n",
       " 'apple wins': 378,\n",
       " 'wins sxsw': 5768,\n",
       " 'link opening': 2956,\n",
       " 'opening temporary': 3718,\n",
       " 'temporary store': 5217,\n",
       " 'austin support': 477,\n",
       " 'support ipad2': 4838,\n",
       " 'ipad2 launch': 2555,\n",
       " 'launch genius': 2824,\n",
       " 'woman': 5786,\n",
       " 'etchasketch': 1486,\n",
       " 'ipad awesome': 2450,\n",
       " 'awesome sxsw': 515,\n",
       " 'opens': 3719,\n",
       " 'instant': 2394,\n",
       " 'access': 124,\n",
       " 'waited': 5629,\n",
       " 'link apple': 2928,\n",
       " 'presentation': 3982,\n",
       " 'helped': 2181,\n",
       " 'insightful': 2387,\n",
       " 'mention interesting': 3309,\n",
       " 'interesting presentation': 2413,\n",
       " 'presentation ipad': 3984,\n",
       " 'poursite sxsw': 3965,\n",
       " 'foursquare': 1708,\n",
       " 'ups': 5513,\n",
       " 'just': 2698,\n",
       " 'prefer': 3974,\n",
       " 'far': 1581,\n",
       " 'best': 597,\n",
       " 'looking': 3025,\n",
       " 'date': 1171,\n",
       " 'foursquare ups': 1710,\n",
       " 'ups game': 5514,\n",
       " 'game just': 1785,\n",
       " 'just time': 2726,\n",
       " 'time sxsw': 5325,\n",
       " 'far best': 1582,\n",
       " 'best looking': 602,\n",
       " 'looking android': 3026,\n",
       " 'android app': 232,\n",
       " 'app date': 279,\n",
       " 'brilliant': 719,\n",
       " 'set': 4487,\n",
       " 'open': 3702,\n",
       " 'shop': 4520,\n",
       " 'core': 1088,\n",
       " 'action': 137,\n",
       " 'going': 1850,\n",
       " 'sell': 4445,\n",
       " 'brilliant rt': 722,\n",
       " 'mention apple': 3232,\n",
       " 'apple set': 367,\n",
       " 'set open': 4489,\n",
       " 'open popup': 3705,\n",
       " 'popup shop': 3948,\n",
       " 'shop core': 4522,\n",
       " 'core sxsw': 1089,\n",
       " 'sxsw action': 4872,\n",
       " 'action theyre': 139,\n",
       " 'theyre going': 5265,\n",
       " 'going sell': 1854,\n",
       " 'sell ipad2': 4449,\n",
       " 'ipad2 sxsw': 2563,\n",
       " 'version': 5575,\n",
       " 'maps': 3135,\n",
       " 'mobile': 3459,\n",
       " 'pretty': 3991,\n",
       " 'amazing': 190,\n",
       " 'vector': 5569,\n",
       " 'based': 556,\n",
       " 'fast': 1592,\n",
       " 'new version': 3601,\n",
       " 'version google': 5576,\n",
       " 'google maps': 1916,\n",
       " 'maps mobile': 3140,\n",
       " 'mobile pretty': 3470,\n",
       " 'pretty amazing': 3992,\n",
       " 'amazing vector': 193,\n",
       " 'vector based': 5570,\n",
       " 'based amp': 557,\n",
       " 'amp fast': 209,\n",
       " 'fast sxsw': 1597,\n",
       " 'think': 5282,\n",
       " 'blackberry': 656,\n",
       " 'gave': 1792,\n",
       " 'guess': 2060,\n",
       " 'carry': 818,\n",
       " 'lame': 2802,\n",
       " 'think sxsw': 5288,\n",
       " 'sxsw app': 4878,\n",
       " 'just gave': 2705,\n",
       " 'playing': 3911,\n",
       " 'black': 655,\n",
       " 'white': 5725,\n",
       " 'playing ipad': 3913,\n",
       " '4sq': 79,\n",
       " 'party': 3773,\n",
       " 'real': 4200,\n",
       " 'ipad sxsw': 2530,\n",
       " 'aron': 413,\n",
       " 'pilhofer': 3875,\n",
       " 'york': 5896,\n",
       " 'times': 5331,\n",
       " 'newsapps': 3614,\n",
       " 'asked': 426,\n",
       " 'tweet': 5458,\n",
       " 'actually': 143,\n",
       " 'said': 4348,\n",
       " 'aron pilhofer': 414,\n",
       " 'pilhofer new': 3876,\n",
       " 'new york': 3605,\n",
       " 'york times': 5897,\n",
       " 'newsapps sxsw': 3615,\n",
       " 'video': 5580,\n",
       " 'coming': 985,\n",
       " 'ipadiphone': 2568,\n",
       " 'game coming': 1783,\n",
       " 'yes link': 5890,\n",
       " 'link sxsw': 2963,\n",
       " 'intelligent': 2404,\n",
       " 'magazine': 3103,\n",
       " 'lt': 3065,\n",
       " 'trending': 5419,\n",
       " 'ipad magazine': 2498,\n",
       " 'link lt': 2951,\n",
       " 'charger': 864,\n",
       " 'mention sxsw': 3375,\n",
       " 'iphone charger': 2597,\n",
       " 'street': 4792,\n",
       " 'view': 5591,\n",
       " 'car': 812,\n",
       " 'sighting': 4545,\n",
       " 'maps street': 3145,\n",
       " 'street view': 4793,\n",
       " 'view car': 5593,\n",
       " 'car sighting': 813,\n",
       " 'sighting sxsw': 4546,\n",
       " 'nice': 3620,\n",
       " 'used': 5526,\n",
       " 'brief': 717,\n",
       " 'case': 819,\n",
       " 'study': 4807,\n",
       " 'paradigms': 3768,\n",
       " 'panel': 3758,\n",
       " 'mention nice': 3335,\n",
       " 'nice mention': 3623,\n",
       " 'mention just': 3316,\n",
       " 'just told': 2727,\n",
       " 'told mention': 5355,\n",
       " 'just used': 2729,\n",
       " 'used brief': 5527,\n",
       " 'brief case': 718,\n",
       " 'case study': 823,\n",
       " 'study ipad': 4808,\n",
       " 'ipad design': 2462,\n",
       " 'design paradigms': 1244,\n",
       " 'paradigms panel': 3769,\n",
       " 'panel sxsw': 3762,\n",
       " 'whrrl': 5733,\n",
       " 'live': 2985,\n",
       " 'marketplace': 3171,\n",
       " 'hot': 2255,\n",
       " 'new whrrl': 3604,\n",
       " 'whrrl app': 5734,\n",
       " 'app live': 292,\n",
       " 'live iphone': 2987,\n",
       " 'app store': 304,\n",
       " 'store android': 4740,\n",
       " 'android marketplace': 244,\n",
       " 'marketplace hot': 3172,\n",
       " 'hot just': 2256,\n",
       " 'original': 3729,\n",
       " 'better': 614,\n",
       " 'barry': 551,\n",
       " 'diller': 1279,\n",
       " 'mention dont': 3264,\n",
       " 'dont know': 1337,\n",
       " 'ipad better': 2453,\n",
       " 'barry diller': 552,\n",
       " 'diller sxsw': 1281,\n",
       " 'check': 874,\n",
       " 'quotmistakes': 4141,\n",
       " 'building': 745,\n",
       " 'netflix': 3566,\n",
       " 'iphonequot': 2639,\n",
       " 'cool': 1070,\n",
       " 'learn': 2851,\n",
       " 'mistakes': 3454,\n",
       " 'quotmistakes building': 4142,\n",
       " 'building netflix': 747,\n",
       " 'question': 4088,\n",
       " 'answer': 264,\n",
       " 'probably': 4011,\n",
       " 'mention good': 3283,\n",
       " 'droid': 1384,\n",
       " 'apps': 394,\n",
       " '1000': 4,\n",
       " 'downloads': 1356,\n",
       " 'total': 5380,\n",
       " 'iphone droid': 2603,\n",
       " 'overheard': 3740,\n",
       " 'interactive': 2405,\n",
       " 'hate': 2126,\n",
       " 'shocked': 4518,\n",
       " 'sxsw interactive': 4961,\n",
       " 'browserwars': 739,\n",
       " 'parties': 3770,\n",
       " 'browserwars panel': 740,\n",
       " 'panel apple': 3759,\n",
       " 'apple like': 342,\n",
       " 'like sxsw': 2893,\n",
       " 'sxsw parties': 5000,\n",
       " 'eventseekr': 1496,\n",
       " 'time iphone': 5321,\n",
       " 'eventseekr app': 1497,\n",
       " 'gadgets': 1777,\n",
       " 'resist': 4256,\n",
       " 'like ipad': 2887,\n",
       " 'ipad ipad': 2483,\n",
       " 'sweet': 4857,\n",
       " 'ready': 4194,\n",
       " 'app ready': 298,\n",
       " 'ready sxsw': 4198,\n",
       " 'twitter': 5469,\n",
       " 'week': 5700,\n",
       " 'tech': 5184,\n",
       " 'fest': 1630,\n",
       " 'iphone apps': 2587,\n",
       " 'time tech': 5326,\n",
       " 'quotat': 4109,\n",
       " 'schools': 4410,\n",
       " 'expertsquot': 1542,\n",
       " 'quotat sxsw': 4110,\n",
       " 'sxsw apple': 4879,\n",
       " 'apple schools': 365,\n",
       " 'schools marketing': 4411,\n",
       " 'marketing expertsquot': 3169,\n",
       " 'expertsquot link': 1543,\n",
       " 'possibly': 3957,\n",
       " 'google launch': 1909,\n",
       " 'called circles': 795,\n",
       " 'circles possibly': 918,\n",
       " 'possibly today': 3958,\n",
       " 'sxswi link': 5109,\n",
       " 'link mention': 2955,\n",
       " 'suck': 4821,\n",
       " 'preview': 3995,\n",
       " 'service': 4476,\n",
       " 'suck rt': 4822,\n",
       " 'mention google': 3284,\n",
       " 'google preview': 1928,\n",
       " 'preview major': 3996,\n",
       " 'social service': 4603,\n",
       " 'service circles': 4477,\n",
       " 'sxsw today': 5067,\n",
       " 'today link': 5349,\n",
       " 'secret': 4430,\n",
       " 'right': 4286,\n",
       " 'buy': 767,\n",
       " 'sxsw people': 5003,\n",
       " 'mention brilliant': 3245,\n",
       " 'industry': 2357,\n",
       " 'gsdm': 2047,\n",
       " 'grand': 2000,\n",
       " 'industry party': 2359,\n",
       " 'gsdm google': 2048,\n",
       " 'learned': 2852,\n",
       " 'sponsored': 4675,\n",
       " 'software': 4614,\n",
       " 'walking': 5637,\n",
       " 'city': 926,\n",
       " 'mapquest': 3134,\n",
       " 'piece': 3874,\n",
       " 'shit': 4516,\n",
       " 'mapping': 3133,\n",
       " 'fb': 1606,\n",
       " 'demo': 1221,\n",
       " 'lots': 3043,\n",
       " 'stats': 4716,\n",
       " 'drink': 1370,\n",
       " 'mobile app': 3461,\n",
       " 'app demo': 280,\n",
       " 'conv': 1064,\n",
       " 'work': 5816,\n",
       " 'doing': 1323,\n",
       " 'agileagency': 161,\n",
       " 'google people': 1923,\n",
       " 'people work': 3826,\n",
       " 'work people': 5821,\n",
       " 'people people': 3820,\n",
       " 'people doing': 3813,\n",
       " 'doing work': 1326,\n",
       " 'work agileagency': 5817,\n",
       " 'agileagency sxsw': 162,\n",
       " 'oh': 3680,\n",
       " 'yeah': 5870,\n",
       " 'flipboards': 1677,\n",
       " 'platform': 3897,\n",
       " 'mention flipboards': 3274,\n",
       " 'flipboards platform': 1678,\n",
       " 'platform iphone': 3900,\n",
       " 'iphone ceo': 2595,\n",
       " 'ceo mention': 849,\n",
       " 'mention says': 3361,\n",
       " 'says sxsw': 4392,\n",
       " 'false': 1566,\n",
       " 'alarm': 180,\n",
       " 'nowand': 3647,\n",
       " 'mention mention': 3331,\n",
       " 'mention false': 3269,\n",
       " 'false alarm': 1567,\n",
       " 'alarm google': 181,\n",
       " 'circles coming': 914,\n",
       " 'coming nowand': 989,\n",
       " 'nowand probably': 3648,\n",
       " 'probably link': 4014,\n",
       " 'circles social': 921,\n",
       " 'social sxsw': 4604,\n",
       " 'decided': 1200,\n",
       " 'usguys': 5550,\n",
       " 'agree': 164,\n",
       " 'mention decided': 3258,\n",
       " 'decided need': 1202,\n",
       " 'need ipad': 3552,\n",
       " 'ipad usguys': 2540,\n",
       " 'usguys sxsw': 5551,\n",
       " 'updated': 5504,\n",
       " 'song': 4629,\n",
       " 'info': 2364,\n",
       " '247': 39,\n",
       " 'stream': 4785,\n",
       " 'streaming': 4788,\n",
       " 'yes updated': 5893,\n",
       " 'updated iphone': 5505,\n",
       " 'app song': 303,\n",
       " 'song info': 4630,\n",
       " 'info mention': 2367,\n",
       " 'mention 247': 3222,\n",
       " '247 stream': 41,\n",
       " 'stream live': 4787,\n",
       " 'live video': 2990,\n",
       " 'video streaming': 5587,\n",
       " 'streaming sxsw': 4789,\n",
       " 'tron': 5427,\n",
       " 'scenes': 4402,\n",
       " 'footage': 1694,\n",
       " 'directors': 1284,\n",
       " 'notes': 3641,\n",
       " 'syncs': 5124,\n",
       " 'film': 1644,\n",
       " 'ppl': 3969,\n",
       " 'products': 4021,\n",
       " 'head': 2139,\n",
       " 'message': 3408,\n",
       " 'brought': 734,\n",
       " 'apple products': 357,\n",
       " 'products sxsw': 4025,\n",
       " 'sxsw think': 5062,\n",
       " 'laptop': 2805,\n",
       " 'shades': 4498,\n",
       " 'im': 2310,\n",
       " 'ad': 144,\n",
       " 'touch': 5383,\n",
       " 'whats': 5720,\n",
       " 'charger iphone': 865,\n",
       " 'walking apple': 5638,\n",
       " 'apple ad': 316,\n",
       " 'took': 5373,\n",
       " 'line': 2904,\n",
       " 'free': 1713,\n",
       " 'gift': 1827,\n",
       " 'card': 814,\n",
       " 'research': 4255,\n",
       " 'just took': 2728,\n",
       " 'got free': 1980,\n",
       " 'sxsw gsdm': 4947,\n",
       " 'apple popup': 353,\n",
       " 'new ipad': 3587,\n",
       " 'filming': 1646,\n",
       " 'trade': 5397,\n",
       " 'floor': 1679,\n",
       " 'hand': 2099,\n",
       " 'held': 2176,\n",
       " 'cam': 798,\n",
       " 'jealous': 2672,\n",
       " 'just saw': 2720,\n",
       " 'sxsw trade': 5070,\n",
       " 'insane': 2380,\n",
       " 'mention line': 3321,\n",
       " 'line apple': 2906,\n",
       " 'insane sxsw': 2381,\n",
       " 'austinbound': 482,\n",
       " 'fanboys': 1572,\n",
       " 'news austinbound': 3610,\n",
       " 'austinbound apple': 483,\n",
       " 'apple fanboys': 328,\n",
       " 'fanboys link': 1573,\n",
       " 'sxsw ipad2': 4963,\n",
       " 'w00t': 5619,\n",
       " 'wrote': 5856,\n",
       " 'mention w00t': 3393,\n",
       " 'w00t mention': 5620,\n",
       " 'mention wrote': 3401,\n",
       " 'wrote hollergram': 5857,\n",
       " 'hope': 2244,\n",
       " 'mention bored': 3244,\n",
       " 'atx': 448,\n",
       " 'cool rt': 1076,\n",
       " 'mention rumor': 3358,\n",
       " 'apple open': 346,\n",
       " 'open temporary': 3708,\n",
       " 'launch link': 2825,\n",
       " 'woah': 5782,\n",
       " 'expect': 1526,\n",
       " 'googles': 1967,\n",
       " 'league': 2847,\n",
       " 'extraordinary': 1551,\n",
       " 'hackers': 2085,\n",
       " 'events': 1491,\n",
       " 'big': 624,\n",
       " 'woah expect': 5783,\n",
       " 'expect google': 1527,\n",
       " 'circles today': 923,\n",
       " 'today sxsw': 5351,\n",
       " 'sxsw googles': 4943,\n",
       " 'googles league': 1969,\n",
       " 'league extraordinary': 2848,\n",
       " 'extraordinary hackers': 1553,\n",
       " 'hackers events': 2087,\n",
       " 'events today': 1495,\n",
       " 'today big': 5346,\n",
       " 'make': 3112,\n",
       " 'fun': 1752,\n",
       " 'download': 1351,\n",
       " 'filmaster': 1645,\n",
       " 'checkin': 885,\n",
       " 'recommendations': 4216,\n",
       " 'want make': 5650,\n",
       " 'make sxsw': 3115,\n",
       " 'app link': 291,\n",
       " 'art': 416,\n",
       " 'ipad art': 2447,\n",
       " 'sxsw check': 4896,\n",
       " 'steve': 4723,\n",
       " 'jobs': 2679,\n",
       " 'doesnt': 1321,\n",
       " 'device': 1264,\n",
       " 'high': 2195,\n",
       " 'sells': 4457,\n",
       " 'dreams': 1369,\n",
       " 'kawasaki': 2739,\n",
       " 'thisisdare': 5293,\n",
       " 'steve jobs': 4724,\n",
       " 'kawasaki thisisdare': 2742,\n",
       " 'thisisdare sxsw': 5294,\n",
       " 'fun interactive': 1756,\n",
       " 'interactive maps': 2408,\n",
       " 'maps mention': 3139,\n",
       " 'google party': 1921,\n",
       " 'party link': 3786,\n",
       " 'lose': 3035,\n",
       " 'hour': 2266,\n",
       " 'tonight': 5365,\n",
       " 'attendees': 439,\n",
       " 'blame': 659,\n",
       " 'microsoft': 3417,\n",
       " 'credit': 1125,\n",
       " 'fixing': 1661,\n",
       " 'christmas': 907,\n",
       " 'mention lose': 3326,\n",
       " 'lose hour': 3037,\n",
       " 'hour tonight': 2270,\n",
       " 'tonight sxsw': 5369,\n",
       " 'sxsw attendees': 4882,\n",
       " 'attendees blame': 440,\n",
       " 'blame microsoft': 660,\n",
       " 'microsoft apple': 3418,\n",
       " 'apple credit': 321,\n",
       " 'credit fixing': 1126,\n",
       " 'fixing christmas': 1662,\n",
       " 'speaks': 4663,\n",
       " 'truth': 5438,\n",
       " 'watched': 5665,\n",
       " 'temp': 5211,\n",
       " 'entire': 1472,\n",
       " 'long': 3011,\n",
       " 'sxsw store': 5046,\n",
       " 'store just': 4754,\n",
       " 'long line': 3013,\n",
       " 'setting': 4495,\n",
       " 'mention theyre': 3387,\n",
       " 'store coming': 4746,\n",
       " 'way': 5672,\n",
       " 'quotipad': 4134,\n",
       " 'headachesquot': 2145,\n",
       " 'sure': 4841,\n",
       " 'quotipad design': 4135,\n",
       " 'design headachesquot': 1241,\n",
       " 'power': 3966,\n",
       " 'spent': 4672,\n",
       " 'hundreds': 2286,\n",
       " 'dollars': 1330,\n",
       " 'attend': 437,\n",
       " 'spending': 4671,\n",
       " 'waiting': 5631,\n",
       " 'people spent': 3821,\n",
       " 'attend sxsw': 438,\n",
       " 'waiting line': 5632,\n",
       " 'line ipad': 2911,\n",
       " 'rockin': 4306,\n",
       " 'aclu': 133,\n",
       " 'aclu google': 134,\n",
       " 'party sxsw': 3789,\n",
       " 'exhibit': 1519,\n",
       " 'hall': 2096,\n",
       " 'stop': 4732,\n",
       " 'emc': 1441,\n",
       " 'booth': 683,\n",
       " 'enter': 1467,\n",
       " 'day exhibit': 1178,\n",
       " 'exhibit hall': 1520,\n",
       " 'hall open': 2098,\n",
       " 'open sxsw': 3706,\n",
       " 'sxsw stop': 5045,\n",
       " 'stop emc': 4733,\n",
       " 'emc booth': 1442,\n",
       " 'booth enter': 684,\n",
       " 'enter win': 1469,\n",
       " 'win ipad': 5750,\n",
       " 'ipad mention': 2499,\n",
       " 'save': 4366,\n",
       " 'lugging': 3079,\n",
       " 'mention ipad': 3311,\n",
       " 'lugging laptop': 3080,\n",
       " 'laptop sxsw': 2807,\n",
       " 'catch': 833,\n",
       " 'ipadquot': 2571,\n",
       " 'tapworthy': 5161,\n",
       " 'ipadquot mention': 2572,\n",
       " 'mention tapworthy': 3380,\n",
       " 'tapworthy sxsw': 5162,\n",
       " 'podcast': 3929,\n",
       " 'south': 4643,\n",
       " 'southwest': 4646,\n",
       " 'passes': 3798,\n",
       " 'fail': 1561,\n",
       " 'cnn': 953,\n",
       " 'tech check': 5187,\n",
       " 'check podcast': 881,\n",
       " 'south southwest': 4644,\n",
       " 'android passes': 246,\n",
       " 'passes blackberry': 3799,\n",
       " 'blackberry big': 657,\n",
       " 'big twitter': 631,\n",
       " 'twitter fail': 5470,\n",
       " 'fail link': 1562,\n",
       " 'sxsw cnn': 4900,\n",
       " 'wanna': 5643,\n",
       " 'producers': 4017,\n",
       " 'hopefully': 2248,\n",
       " 'dl': 1310,\n",
       " 'going sxsw': 1855,\n",
       " 'free iphone': 1722,\n",
       " 'youre': 5903,\n",
       " 'schedules': 4408,\n",
       " 'locations': 3000,\n",
       " 'coming sxsw': 991,\n",
       " 'sxsw sure': 5049,\n",
       " 'sure download': 4842,\n",
       " 'download sxsw': 1354,\n",
       " 'app schedules': 301,\n",
       " 'events link': 1494,\n",
       " 'heading': 2147,\n",
       " 'wife': 5736,\n",
       " 'heading sxsw': 2151,\n",
       " 'iphone ipad': 2612,\n",
       " 'watching': 5666,\n",
       " 'dj': 1308,\n",
       " 'rock': 4301,\n",
       " 'ipad dj': 2464,\n",
       " 'dj mention': 1309,\n",
       " 'mention rock': 3355,\n",
       " 'rock sxsw': 4304,\n",
       " 'heard': 2156,\n",
       " 'leading': 2845,\n",
       " 'market': 3162,\n",
       " 'share': 4503,\n",
       " 'phones': 3845,\n",
       " 'getjarsxsw': 1815,\n",
       " 'heard sxsw': 2159,\n",
       " 'android leading': 241,\n",
       " 'leading market': 2846,\n",
       " 'market share': 3166,\n",
       " 'share smart': 4507,\n",
       " 'smart phones': 4585,\n",
       " 'phones getjarsxsw': 3846,\n",
       " 'instagram': 2390,\n",
       " 'moment': 3485,\n",
       " 'different': 1274,\n",
       " 'sucks': 4823,\n",
       " 'sucks sxsw': 4824,\n",
       " 'pop': 3934,\n",
       " 'apple pop': 352,\n",
       " 'pop store': 3938,\n",
       " 'come': 970,\n",
       " 'mention live': 3323,\n",
       " 'check link': 878,\n",
       " 'speakquot': 4661,\n",
       " 'belinsky': 593,\n",
       " 'digital': 1275,\n",
       " '911tweets': 112,\n",
       " 'enchantment': 1449,\n",
       " 'trustworthiness': 5436,\n",
       " 'zappos': 5914,\n",
       " 'likeability': 2897,\n",
       " 'virgin': 5598,\n",
       " 'product': 4018,\n",
       " 'trustworthiness zappos': 5437,\n",
       " 'likeability virgin': 2898,\n",
       " 'virgin product': 5599,\n",
       " 'product apple': 4019,\n",
       " 'apple mention': 345,\n",
       " 'tons': 5370,\n",
       " 'ipad2s': 2566,\n",
       " 'course': 1098,\n",
       " 'brilliant apple': 720,\n",
       " 'apple setting': 369,\n",
       " 'setting popup': 4496,\n",
       " 'austin sell': 474,\n",
       " 'tons ipad2s': 5371,\n",
       " 'ipad2s sxsw': 2567,\n",
       " 'attendees course': 441,\n",
       " 'course link': 1099,\n",
       " 'daily': 1156,\n",
       " 'follow': 1687,\n",
       " 'appleatxdt': 380,\n",
       " 'updates': 5507,\n",
       " 'mention popup': 3344,\n",
       " 'popup apple': 3945,\n",
       " 'store popup': 4769,\n",
       " 'popup ipad2s': 3947,\n",
       " 'fri': 1732,\n",
       " 'dinner': 1282,\n",
       " 'enjoying': 1461,\n",
       " 'abuzz': 123,\n",
       " 'possible': 3955,\n",
       " 'happen': 2110,\n",
       " 'enjoying sxsw': 1464,\n",
       " 'circles launch': 915,\n",
       " 'plus': 3920,\n",
       " 'source': 4641,\n",
       " 'code': 961,\n",
       " 'sxsw mistakes': 4987,\n",
       " 'mistakes building': 3455,\n",
       " 'mention iphone': 3313,\n",
       " 'iphone plus': 2620,\n",
       " 'plus source': 3922,\n",
       " 'source code': 4642,\n",
       " 'code link': 962,\n",
       " 'having': 2132,\n",
       " 'pic': 3861,\n",
       " 'mention amp': 3229,\n",
       " 'amp mention': 216,\n",
       " 'mention having': 3295,\n",
       " 'having fun': 2133,\n",
       " 'fun google': 1755,\n",
       " 'report': 4249,\n",
       " 'sold': 4615,\n",
       " '2s': 50,\n",
       " 'entry': 1474,\n",
       " 'friends': 1737,\n",
       " 'house': 2272,\n",
       " 'store sold': 4772,\n",
       " 'ipad 2s': 2440,\n",
       " 'link entry': 2938,\n",
       " 'entry friends': 1475,\n",
       " 'friends house': 1739,\n",
       " 'house sxsw': 2273,\n",
       " '35': 61,\n",
       " 'million': 3429,\n",
       " 'miles': 3427,\n",
       " 'driven': 1375,\n",
       " 'navigation': 3540,\n",
       " 'assistedquot': 429,\n",
       " 'marissa': 3155,\n",
       " 'mayer': 3183,\n",
       " 'gps': 1992,\n",
       " 'biz': 652,\n",
       " 'toast': 5342,\n",
       " '35 million': 62,\n",
       " 'million miles': 3430,\n",
       " 'miles day': 3428,\n",
       " 'day driven': 1177,\n",
       " 'driven google': 1376,\n",
       " 'maps navigation': 3141,\n",
       " 'navigation assistedquot': 3541,\n",
       " 'marissa mayer': 3156,\n",
       " 'mayer sxsw': 3193,\n",
       " 'sxsw gps': 4945,\n",
       " 'literally': 2982,\n",
       " 'built': 749,\n",
       " 'conference': 1023,\n",
       " 'photo': 3848,\n",
       " 'just sxsw': 2724,\n",
       " 'sxsw conference': 4904,\n",
       " 'link photo': 2958,\n",
       " 'def': 1204,\n",
       " 'gym': 2075,\n",
       " 'headed': 2146,\n",
       " 'hear': 2153,\n",
       " 'integrated': 2400,\n",
       " 'team': 5177,\n",
       " 'ive': 2657,\n",
       " 'ive got': 2658,\n",
       " 'got ipad': 1981,\n",
       " ...}"
      ]
     },
     "execution_count": 30,
     "metadata": {},
     "output_type": "execute_result"
    }
   ],
   "source": [
    "cvect.vocabulary_"
   ]
  },
  {
   "cell_type": "code",
   "execution_count": 31,
   "metadata": {},
   "outputs": [],
   "source": [
    "X_train_ct = cvect.transform(X_train)"
   ]
  },
  {
   "cell_type": "code",
   "execution_count": 32,
   "metadata": {},
   "outputs": [
    {
     "data": {
      "text/plain": [
       "7714                #sxsw android users were proud of you\n",
       "7963    mention saw you awesome educational iphone mus...\n",
       "8619    82 of future tablet buyers say theyll choose a...\n",
       "6611    rt mention rt mention the day bank of america ...\n",
       "8358    dont bite any ears rt mention ill be at the au...\n",
       "                              ...                        \n",
       "8153    i think #sxsw has taken it upon itself to make...\n",
       "7769    awesome rt mention heading to austin for #sxsw...\n",
       "4178    never realized that there was a storymeaning b...\n",
       "5548    rt mention before it even begins apple wins #s...\n",
       "7447    add the apple popup shop to your #sxsw mention...\n",
       "Name: tweet_text, Length: 2661, dtype: object"
      ]
     },
     "execution_count": 32,
     "metadata": {},
     "output_type": "execute_result"
    }
   ],
   "source": [
    "X_train"
   ]
  },
  {
   "cell_type": "code",
   "execution_count": 33,
   "metadata": {},
   "outputs": [
    {
     "name": "stdout",
     "output_type": "stream",
     "text": [
      "(2661, 5927)\n"
     ]
    }
   ],
   "source": [
    "print(X_train_ct.shape)"
   ]
  },
  {
   "cell_type": "code",
   "execution_count": 34,
   "metadata": {},
   "outputs": [],
   "source": [
    "X_test_ct = cvect.transform(X_test)"
   ]
  },
  {
   "cell_type": "code",
   "execution_count": 35,
   "metadata": {},
   "outputs": [
    {
     "name": "stdout",
     "output_type": "stream",
     "text": [
      "(887, 5927)\n"
     ]
    }
   ],
   "source": [
    "print(X_test_ct.shape)"
   ]
  },
  {
   "cell_type": "markdown",
   "metadata": {
    "colab_type": "text",
    "id": "qanDXve15sY_"
   },
   "source": [
    "## Question 7"
   ]
  },
  {
   "cell_type": "markdown",
   "metadata": {
    "colab_type": "text",
    "id": "uMaRNFkV5sY_"
   },
   "source": [
    "### Select classifier logistic regression\n",
    "- use logistic regression for predicting sentiment of the given tweet\n",
    "- initialize classifier"
   ]
  },
  {
   "cell_type": "code",
   "execution_count": 36,
   "metadata": {
    "colab": {},
    "colab_type": "code",
    "id": "GT3dNgB55sZA"
   },
   "outputs": [],
   "source": [
    "from sklearn.linear_model import LogisticRegression"
   ]
  },
  {
   "cell_type": "code",
   "execution_count": 37,
   "metadata": {},
   "outputs": [],
   "source": [
    "model=LogisticRegression()"
   ]
  },
  {
   "cell_type": "markdown",
   "metadata": {
    "colab_type": "text",
    "id": "pqQ6_HX35sZD"
   },
   "source": [
    "### Fit the classifer\n",
    "- fit logistic regression classifier"
   ]
  },
  {
   "cell_type": "code",
   "execution_count": 38,
   "metadata": {
    "colab": {},
    "colab_type": "code",
    "id": "EIzvnNkq5sZD"
   },
   "outputs": [
    {
     "data": {
      "text/plain": [
       "LogisticRegression(C=1.0, class_weight=None, dual=False, fit_intercept=True,\n",
       "                   intercept_scaling=1, l1_ratio=None, max_iter=100,\n",
       "                   multi_class='auto', n_jobs=None, penalty='l2',\n",
       "                   random_state=None, solver='lbfgs', tol=0.0001, verbose=0,\n",
       "                   warm_start=False)"
      ]
     },
     "execution_count": 38,
     "metadata": {},
     "output_type": "execute_result"
    }
   ],
   "source": [
    "model.fit(X_train_ct, y_train)"
   ]
  },
  {
   "cell_type": "markdown",
   "metadata": {
    "colab_type": "text",
    "id": "SZpMsYQF5sZF"
   },
   "source": [
    "## Question 8"
   ]
  },
  {
   "cell_type": "markdown",
   "metadata": {
    "colab_type": "text",
    "id": "KGnQnUww5sZF"
   },
   "source": [
    "### Select classifier naive bayes\n",
    "- use naive bayes for predicting sentiment of the given tweet\n",
    "- initialize classifier\n",
    "- use MultinomialNB"
   ]
  },
  {
   "cell_type": "code",
   "execution_count": 39,
   "metadata": {
    "colab": {},
    "colab_type": "code",
    "id": "2AbVYssaH0OE"
   },
   "outputs": [],
   "source": [
    "from sklearn.naive_bayes import MultinomialNB"
   ]
  },
  {
   "cell_type": "code",
   "execution_count": 40,
   "metadata": {},
   "outputs": [],
   "source": [
    "mnb = MultinomialNB()"
   ]
  },
  {
   "cell_type": "markdown",
   "metadata": {
    "colab_type": "text",
    "id": "QEaG942m5sZI"
   },
   "source": [
    "### Fit the classifer\n",
    "- fit naive bayes classifier"
   ]
  },
  {
   "cell_type": "code",
   "execution_count": 41,
   "metadata": {
    "colab": {},
    "colab_type": "code",
    "id": "rLwRBj1R5sZI"
   },
   "outputs": [
    {
     "data": {
      "text/plain": [
       "MultinomialNB(alpha=1.0, class_prior=None, fit_prior=True)"
      ]
     },
     "execution_count": 41,
     "metadata": {},
     "output_type": "execute_result"
    }
   ],
   "source": [
    "mnb.fit(X_train_ct, y_train)"
   ]
  },
  {
   "cell_type": "markdown",
   "metadata": {
    "colab_type": "text",
    "id": "A7mgwYDJ5sZM"
   },
   "source": [
    "## Question 9"
   ]
  },
  {
   "cell_type": "markdown",
   "metadata": {
    "colab_type": "text",
    "id": "sZkA3tce5sZN"
   },
   "source": [
    "### Make predictions on logistic regression\n",
    "- use your trained logistic regression model to make predictions on X_test"
   ]
  },
  {
   "cell_type": "code",
   "execution_count": 42,
   "metadata": {
    "colab": {},
    "colab_type": "code",
    "id": "l3f0M1ch5sZO"
   },
   "outputs": [],
   "source": [
    "y_pred_model = model.predict(X_test_ct)"
   ]
  },
  {
   "cell_type": "markdown",
   "metadata": {
    "colab_type": "text",
    "id": "lrIxjMUB5sZQ"
   },
   "source": [
    "### Make predictions on naive bayes\n",
    "- use your trained naive bayes model to make predictions on X_test\n",
    "- use a different variable name to store predictions so that they are kept separately"
   ]
  },
  {
   "cell_type": "code",
   "execution_count": 43,
   "metadata": {
    "colab": {},
    "colab_type": "code",
    "id": "ZSQnwyLU5sZQ"
   },
   "outputs": [],
   "source": [
    "y_pred_mnb = mnb.predict(X_test_ct)"
   ]
  },
  {
   "cell_type": "markdown",
   "metadata": {
    "colab_type": "text",
    "id": "rwXQUE7b5sZS"
   },
   "source": [
    "## Question 10"
   ]
  },
  {
   "cell_type": "markdown",
   "metadata": {
    "colab_type": "text",
    "id": "E6SITIE75sZT"
   },
   "source": [
    "### Calculate accuracy of logistic regression\n",
    "- check accuracy of logistic regression classifer\n",
    "- use sklearn.metrics.accuracy_score"
   ]
  },
  {
   "cell_type": "code",
   "execution_count": 44,
   "metadata": {
    "colab": {},
    "colab_type": "code",
    "id": "clv2X0kKH0Ok"
   },
   "outputs": [
    {
     "data": {
      "text/plain": [
       "0.8838782412626832"
      ]
     },
     "execution_count": 44,
     "metadata": {},
     "output_type": "execute_result"
    }
   ],
   "source": [
    "from sklearn.metrics import accuracy_score\n",
    "accuracy_score(y_test, y_pred_model)"
   ]
  },
  {
   "cell_type": "markdown",
   "metadata": {
    "colab_type": "text",
    "id": "1Fd_Gnd05sZV"
   },
   "source": [
    "### Calculate accuracy of naive bayes\n",
    "- check accuracy of naive bayes classifer\n",
    "- use sklearn.metrics.accuracy_score"
   ]
  },
  {
   "cell_type": "code",
   "execution_count": 45,
   "metadata": {
    "colab": {},
    "colab_type": "code",
    "id": "d32uBpHi5sZW"
   },
   "outputs": [
    {
     "data": {
      "text/plain": [
       "0.8613303269447576"
      ]
     },
     "execution_count": 45,
     "metadata": {},
     "output_type": "execute_result"
    }
   ],
   "source": [
    "from sklearn.metrics import accuracy_score\n",
    "accuracy_score(y_test, y_pred_mnb)"
   ]
  }
 ],
 "metadata": {
  "accelerator": "GPU",
  "colab": {
   "collapsed_sections": [],
   "name": "Questions - Internal - R8 - AIML Labs.ipynb",
   "provenance": []
  },
  "kernelspec": {
   "display_name": "Python 3",
   "language": "python",
   "name": "python3"
  },
  "language_info": {
   "codemirror_mode": {
    "name": "ipython",
    "version": 3
   },
   "file_extension": ".py",
   "mimetype": "text/x-python",
   "name": "python",
   "nbconvert_exporter": "python",
   "pygments_lexer": "ipython3",
   "version": "3.7.7"
  }
 },
 "nbformat": 4,
 "nbformat_minor": 1
}
