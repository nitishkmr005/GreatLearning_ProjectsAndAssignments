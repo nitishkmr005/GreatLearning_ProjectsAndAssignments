{
  "nbformat": 4,
  "nbformat_minor": 0,
  "metadata": {
    "colab": {
      "name": "Questions - Lab on Sequence Model NLP (1).ipynb",
      "provenance": [],
      "collapsed_sections": [],
      "toc_visible": true
    },
    "kernelspec": {
      "name": "python3",
      "display_name": "Python 3"
    }
  },
  "cells": [
    {
      "cell_type": "markdown",
      "metadata": {
        "id": "vXE926qT0jHg"
      },
      "source": [
        "# Time series prediction using LSTM"
      ]
    },
    {
      "cell_type": "markdown",
      "metadata": {
        "id": "54u8ql4Z4kBE"
      },
      "source": [
        "## Dataset\n",
        "- Daily minimum temperatures in Melbourne, Australia, 1981-1990\n",
        "- Units: Degrees Celcius"
      ]
    },
    {
      "cell_type": "markdown",
      "metadata": {
        "id": "IPkYyOzY77yl"
      },
      "source": [
        "## Question 1"
      ]
    },
    {
      "cell_type": "markdown",
      "metadata": {
        "id": "aXEOY69f8B9d"
      },
      "source": [
        "### Load the data\n",
        "- load daily-minimum-temperatures-in-me.csv"
      ]
    },
    {
      "cell_type": "code",
      "metadata": {
        "id": "LA7R2II8-Jxh"
      },
      "source": [
        "import pandas as pd\n",
        "df = pd.read_csv(\"/content/daily-minimum-temperatures-in-me.csv\")"
      ],
      "execution_count": 38,
      "outputs": []
    },
    {
      "cell_type": "markdown",
      "metadata": {
        "id": "pWcMgg69-T6k"
      },
      "source": [
        "### Print the data\n",
        "- First 5 rows only"
      ]
    },
    {
      "cell_type": "code",
      "metadata": {
        "id": "SM828gT_-Ra2",
        "outputId": "5a62c403-3eee-439e-f3de-212e4ba5bf11",
        "colab": {
          "base_uri": "https://localhost:8080/",
          "height": 194
        }
      },
      "source": [
        "df.head()"
      ],
      "execution_count": 39,
      "outputs": [
        {
          "output_type": "execute_result",
          "data": {
            "text/html": [
              "<div>\n",
              "<style scoped>\n",
              "    .dataframe tbody tr th:only-of-type {\n",
              "        vertical-align: middle;\n",
              "    }\n",
              "\n",
              "    .dataframe tbody tr th {\n",
              "        vertical-align: top;\n",
              "    }\n",
              "\n",
              "    .dataframe thead th {\n",
              "        text-align: right;\n",
              "    }\n",
              "</style>\n",
              "<table border=\"1\" class=\"dataframe\">\n",
              "  <thead>\n",
              "    <tr style=\"text-align: right;\">\n",
              "      <th></th>\n",
              "      <th>Date</th>\n",
              "      <th>Temperature</th>\n",
              "    </tr>\n",
              "  </thead>\n",
              "  <tbody>\n",
              "    <tr>\n",
              "      <th>0</th>\n",
              "      <td>1981-01-01</td>\n",
              "      <td>20.7</td>\n",
              "    </tr>\n",
              "    <tr>\n",
              "      <th>1</th>\n",
              "      <td>1981-01-02</td>\n",
              "      <td>17.9</td>\n",
              "    </tr>\n",
              "    <tr>\n",
              "      <th>2</th>\n",
              "      <td>1981-01-03</td>\n",
              "      <td>18.8</td>\n",
              "    </tr>\n",
              "    <tr>\n",
              "      <th>3</th>\n",
              "      <td>1981-01-04</td>\n",
              "      <td>14.6</td>\n",
              "    </tr>\n",
              "    <tr>\n",
              "      <th>4</th>\n",
              "      <td>1981-01-05</td>\n",
              "      <td>15.8</td>\n",
              "    </tr>\n",
              "  </tbody>\n",
              "</table>\n",
              "</div>"
            ],
            "text/plain": [
              "         Date  Temperature\n",
              "0  1981-01-01         20.7\n",
              "1  1981-01-02         17.9\n",
              "2  1981-01-03         18.8\n",
              "3  1981-01-04         14.6\n",
              "4  1981-01-05         15.8"
            ]
          },
          "metadata": {
            "tags": []
          },
          "execution_count": 39
        }
      ]
    },
    {
      "cell_type": "markdown",
      "metadata": {
        "id": "JGnWESz9BKx8"
      },
      "source": [
        "### Set index column\n",
        "- Set the DataFrame index using \"Date\" column"
      ]
    },
    {
      "cell_type": "code",
      "metadata": {
        "id": "nFrbd_vd-eZP",
        "outputId": "0f22cfd4-1368-400b-f2e4-e1a4df60f592",
        "colab": {
          "base_uri": "https://localhost:8080/",
          "height": 223
        }
      },
      "source": [
        "df=df.set_index('Date')\n",
        "df.head()"
      ],
      "execution_count": 40,
      "outputs": [
        {
          "output_type": "execute_result",
          "data": {
            "text/html": [
              "<div>\n",
              "<style scoped>\n",
              "    .dataframe tbody tr th:only-of-type {\n",
              "        vertical-align: middle;\n",
              "    }\n",
              "\n",
              "    .dataframe tbody tr th {\n",
              "        vertical-align: top;\n",
              "    }\n",
              "\n",
              "    .dataframe thead th {\n",
              "        text-align: right;\n",
              "    }\n",
              "</style>\n",
              "<table border=\"1\" class=\"dataframe\">\n",
              "  <thead>\n",
              "    <tr style=\"text-align: right;\">\n",
              "      <th></th>\n",
              "      <th>Temperature</th>\n",
              "    </tr>\n",
              "    <tr>\n",
              "      <th>Date</th>\n",
              "      <th></th>\n",
              "    </tr>\n",
              "  </thead>\n",
              "  <tbody>\n",
              "    <tr>\n",
              "      <th>1981-01-01</th>\n",
              "      <td>20.7</td>\n",
              "    </tr>\n",
              "    <tr>\n",
              "      <th>1981-01-02</th>\n",
              "      <td>17.9</td>\n",
              "    </tr>\n",
              "    <tr>\n",
              "      <th>1981-01-03</th>\n",
              "      <td>18.8</td>\n",
              "    </tr>\n",
              "    <tr>\n",
              "      <th>1981-01-04</th>\n",
              "      <td>14.6</td>\n",
              "    </tr>\n",
              "    <tr>\n",
              "      <th>1981-01-05</th>\n",
              "      <td>15.8</td>\n",
              "    </tr>\n",
              "  </tbody>\n",
              "</table>\n",
              "</div>"
            ],
            "text/plain": [
              "            Temperature\n",
              "Date                   \n",
              "1981-01-01         20.7\n",
              "1981-01-02         17.9\n",
              "1981-01-03         18.8\n",
              "1981-01-04         14.6\n",
              "1981-01-05         15.8"
            ]
          },
          "metadata": {
            "tags": []
          },
          "execution_count": 40
        }
      ]
    },
    {
      "cell_type": "code",
      "metadata": {
        "id": "QiYTaHL_230N",
        "outputId": "b50f12d9-593f-4019-b9cf-a8df3e785a6f",
        "colab": {
          "base_uri": "https://localhost:8080/",
          "height": 35
        }
      },
      "source": [
        "df.shape"
      ],
      "execution_count": 41,
      "outputs": [
        {
          "output_type": "execute_result",
          "data": {
            "text/plain": [
              "(3650, 1)"
            ]
          },
          "metadata": {
            "tags": []
          },
          "execution_count": 41
        }
      ]
    },
    {
      "cell_type": "markdown",
      "metadata": {
        "id": "sS7IVXq7B1P1"
      },
      "source": [
        "## Question 2"
      ]
    },
    {
      "cell_type": "markdown",
      "metadata": {
        "id": "PcgAOybZCc5-"
      },
      "source": [
        "### Check the total count of null values in the data"
      ]
    },
    {
      "cell_type": "code",
      "metadata": {
        "id": "UTMe5jdCCj4k",
        "outputId": "a3692fc4-1572-4e30-f20e-850c0372cdbb",
        "colab": {
          "base_uri": "https://localhost:8080/",
          "height": 52
        }
      },
      "source": [
        "df.isnull().sum()"
      ],
      "execution_count": 42,
      "outputs": [
        {
          "output_type": "execute_result",
          "data": {
            "text/plain": [
              "Temperature    0\n",
              "dtype: int64"
            ]
          },
          "metadata": {
            "tags": []
          },
          "execution_count": 42
        }
      ]
    },
    {
      "cell_type": "markdown",
      "metadata": {
        "id": "Ua-AeW2YC3kY"
      },
      "source": [
        "### Drop all the rows with null values\n",
        "- use dropna() method"
      ]
    },
    {
      "cell_type": "code",
      "metadata": {
        "id": "9l9UeA6YC8RV"
      },
      "source": [
        "df.dropna(inplace=True)"
      ],
      "execution_count": 43,
      "outputs": []
    },
    {
      "cell_type": "code",
      "metadata": {
        "id": "eBTI9qR-3CCg",
        "outputId": "267fd103-d55d-43bb-a4dd-10005cd9a5f4",
        "colab": {
          "base_uri": "https://localhost:8080/",
          "height": 35
        }
      },
      "source": [
        "df.shape"
      ],
      "execution_count": 44,
      "outputs": [
        {
          "output_type": "execute_result",
          "data": {
            "text/plain": [
              "(3650, 1)"
            ]
          },
          "metadata": {
            "tags": []
          },
          "execution_count": 44
        }
      ]
    },
    {
      "cell_type": "markdown",
      "metadata": {
        "id": "SJam5Ho-DHK7"
      },
      "source": [
        "## Question 3"
      ]
    },
    {
      "cell_type": "markdown",
      "metadata": {
        "id": "3esUPJAMDzCJ"
      },
      "source": [
        "### Describe your dataframe\n",
        "- use describe() method"
      ]
    },
    {
      "cell_type": "code",
      "metadata": {
        "id": "uhH8OwGVELyH",
        "outputId": "a39c1bac-acde-4056-ae4d-a5125696d11e",
        "colab": {
          "base_uri": "https://localhost:8080/",
          "height": 282
        }
      },
      "source": [
        "df.describe()"
      ],
      "execution_count": 45,
      "outputs": [
        {
          "output_type": "execute_result",
          "data": {
            "text/html": [
              "<div>\n",
              "<style scoped>\n",
              "    .dataframe tbody tr th:only-of-type {\n",
              "        vertical-align: middle;\n",
              "    }\n",
              "\n",
              "    .dataframe tbody tr th {\n",
              "        vertical-align: top;\n",
              "    }\n",
              "\n",
              "    .dataframe thead th {\n",
              "        text-align: right;\n",
              "    }\n",
              "</style>\n",
              "<table border=\"1\" class=\"dataframe\">\n",
              "  <thead>\n",
              "    <tr style=\"text-align: right;\">\n",
              "      <th></th>\n",
              "      <th>Temperature</th>\n",
              "    </tr>\n",
              "  </thead>\n",
              "  <tbody>\n",
              "    <tr>\n",
              "      <th>count</th>\n",
              "      <td>3650.000000</td>\n",
              "    </tr>\n",
              "    <tr>\n",
              "      <th>mean</th>\n",
              "      <td>11.177753</td>\n",
              "    </tr>\n",
              "    <tr>\n",
              "      <th>std</th>\n",
              "      <td>4.071837</td>\n",
              "    </tr>\n",
              "    <tr>\n",
              "      <th>min</th>\n",
              "      <td>0.000000</td>\n",
              "    </tr>\n",
              "    <tr>\n",
              "      <th>25%</th>\n",
              "      <td>8.300000</td>\n",
              "    </tr>\n",
              "    <tr>\n",
              "      <th>50%</th>\n",
              "      <td>11.000000</td>\n",
              "    </tr>\n",
              "    <tr>\n",
              "      <th>75%</th>\n",
              "      <td>14.000000</td>\n",
              "    </tr>\n",
              "    <tr>\n",
              "      <th>max</th>\n",
              "      <td>26.300000</td>\n",
              "    </tr>\n",
              "  </tbody>\n",
              "</table>\n",
              "</div>"
            ],
            "text/plain": [
              "       Temperature\n",
              "count  3650.000000\n",
              "mean     11.177753\n",
              "std       4.071837\n",
              "min       0.000000\n",
              "25%       8.300000\n",
              "50%      11.000000\n",
              "75%      14.000000\n",
              "max      26.300000"
            ]
          },
          "metadata": {
            "tags": []
          },
          "execution_count": 45
        }
      ]
    },
    {
      "cell_type": "markdown",
      "metadata": {
        "id": "bizrToFMB4ix"
      },
      "source": [
        "### Plot the dataframe\n",
        "- use plot() method"
      ]
    },
    {
      "cell_type": "code",
      "metadata": {
        "id": "rNiXK6YZB30N",
        "outputId": "0c878893-7338-4c8b-8e7f-631008258383",
        "colab": {
          "base_uri": "https://localhost:8080/",
          "height": 295
        }
      },
      "source": [
        "import matplotlib.pyplot as plt\n",
        "df.plot()\n",
        "plt.ylabel('Temp')\n",
        "plt.title('temperature From 1981 to 1990')\n",
        "plt.show()"
      ],
      "execution_count": 46,
      "outputs": [
        {
          "output_type": "display_data",
          "data": {
            "image/png": "[encoded data removed]",
            "text/plain": [
              "<Figure size 432x288 with 1 Axes>"
            ]
          },
          "metadata": {
            "tags": [],
            "needs_background": "light"
          }
        }
      ]
    },
    {
      "cell_type": "markdown",
      "metadata": {
        "id": "OtI9ZGJqE1lh"
      },
      "source": [
        "### Get representation of the distribution of data using histogram\n",
        "- use hist() method"
      ]
    },
    {
      "cell_type": "code",
      "metadata": {
        "id": "qan611HdE9nR",
        "outputId": "1ec8ebe4-e5c5-4508-f246-449fe66e4490",
        "colab": {
          "base_uri": "https://localhost:8080/",
          "height": 283
        }
      },
      "source": [
        "df['Temperature'].plot.hist()"
      ],
      "execution_count": 47,
      "outputs": [
        {
          "output_type": "execute_result",
          "data": {
            "text/plain": [
              "<matplotlib.axes._subplots.AxesSubplot at 0x7fa24fc2a160>"
            ]
          },
          "metadata": {
            "tags": []
          },
          "execution_count": 47
        },
        {
          "output_type": "display_data",
          "data": {
            "image/png": "[encoded data removed]",
            "text/plain": [
              "<Figure size 432x288 with 1 Axes>"
            ]
          },
          "metadata": {
            "tags": [],
            "needs_background": "light"
          }
        }
      ]
    },
    {
      "cell_type": "markdown",
      "metadata": {
        "id": "D8VDVRisHAsH"
      },
      "source": [
        "### Check minimum and maximum temperature\n",
        "- use min() and max() methods"
      ]
    },
    {
      "cell_type": "code",
      "metadata": {
        "id": "xlwlVtRfG_qX",
        "outputId": "65d0a954-8b35-4383-d214-d86f53c9fc54",
        "colab": {
          "base_uri": "https://localhost:8080/",
          "height": 52
        }
      },
      "source": [
        "df.min()"
      ],
      "execution_count": 48,
      "outputs": [
        {
          "output_type": "execute_result",
          "data": {
            "text/plain": [
              "Temperature    0.0\n",
              "dtype: float64"
            ]
          },
          "metadata": {
            "tags": []
          },
          "execution_count": 48
        }
      ]
    },
    {
      "cell_type": "code",
      "metadata": {
        "id": "abO5iWWAFFCJ",
        "outputId": "1648d1d4-d682-49f1-805d-29b7bc30d5bf",
        "colab": {
          "base_uri": "https://localhost:8080/",
          "height": 52
        }
      },
      "source": [
        "df.max()"
      ],
      "execution_count": 49,
      "outputs": [
        {
          "output_type": "execute_result",
          "data": {
            "text/plain": [
              "Temperature    26.3\n",
              "dtype: float64"
            ]
          },
          "metadata": {
            "tags": []
          },
          "execution_count": 49
        }
      ]
    },
    {
      "cell_type": "markdown",
      "metadata": {
        "id": "qTjD3zhSI_BD"
      },
      "source": [
        "## Question 4"
      ]
    },
    {
      "cell_type": "markdown",
      "metadata": {
        "id": "QSDmmRxBMOO7"
      },
      "source": [
        "### Split the dataset into training and testing\n",
        "- training data: 75%\n",
        "- testing data: 25%"
      ]
    },
    {
      "cell_type": "code",
      "metadata": {
        "id": "dbrspzBVM6Gg"
      },
      "source": [
        "train    =   df[0:int(len(df)*0.7)] \n",
        "test     =   df[int(len(df)*0.7):]"
      ],
      "execution_count": 50,
      "outputs": []
    },
    {
      "cell_type": "code",
      "metadata": {
        "id": "5w3worlL6bpa",
        "outputId": "e9e38f5c-fe3e-4c3f-d0fa-2012ccd73163",
        "colab": {
          "base_uri": "https://localhost:8080/",
          "height": 35
        }
      },
      "source": [
        "train.shape,test.shape"
      ],
      "execution_count": 51,
      "outputs": [
        {
          "output_type": "execute_result",
          "data": {
            "text/plain": [
              "((2555, 1), (1095, 1))"
            ]
          },
          "metadata": {
            "tags": []
          },
          "execution_count": 51
        }
      ]
    },
    {
      "cell_type": "markdown",
      "metadata": {
        "id": "eEgBn5JkKwrZ"
      },
      "source": [
        "### Normalize the data\n",
        "- normalize temperature values using MinMaxScaler\n",
        "- feature_range: 0-1\n",
        "- fit MinMaxScaler on train data and transform it\n",
        "  - use fit_transform() method\n",
        "- transform test data using MinMaxScaler object\n",
        "  - use transform() method"
      ]
    },
    {
      "cell_type": "code",
      "metadata": {
        "id": "OqDcm7tbI19Z"
      },
      "source": [
        "from sklearn.preprocessing import MinMaxScaler\n",
        "ms=MinMaxScaler(feature_range=(0,1))\n",
        "train=ms.fit_transform(train)"
      ],
      "execution_count": 52,
      "outputs": []
    },
    {
      "cell_type": "code",
      "metadata": {
        "id": "V1sIYjwV7Ebi"
      },
      "source": [
        "test=ms.transform(test)"
      ],
      "execution_count": 53,
      "outputs": []
    },
    {
      "cell_type": "markdown",
      "metadata": {
        "id": "4HjbO8gRQ3M1"
      },
      "source": [
        "### Print scaled train and test data\n",
        "- print only first 5 values"
      ]
    },
    {
      "cell_type": "code",
      "metadata": {
        "id": "U_WDZwKxRBRx",
        "outputId": "1dbc9320-68bd-4482-92dc-54004f0cc707",
        "colab": {
          "base_uri": "https://localhost:8080/",
          "height": 106
        }
      },
      "source": [
        "train[0:5]"
      ],
      "execution_count": 54,
      "outputs": [
        {
          "output_type": "execute_result",
          "data": {
            "text/plain": [
              "array([[0.78707224],\n",
              "       [0.68060837],\n",
              "       [0.7148289 ],\n",
              "       [0.55513308],\n",
              "       [0.60076046]])"
            ]
          },
          "metadata": {
            "tags": []
          },
          "execution_count": 54
        }
      ]
    },
    {
      "cell_type": "code",
      "metadata": {
        "id": "vYlwALHrRGcX",
        "outputId": "7537ef7b-0155-4c24-ee2c-7041610525f7",
        "colab": {
          "base_uri": "https://localhost:8080/",
          "height": 106
        }
      },
      "source": [
        "test[0:5]"
      ],
      "execution_count": 55,
      "outputs": [
        {
          "output_type": "execute_result",
          "data": {
            "text/plain": [
              "array([[0.58174905],\n",
              "       [0.54372624],\n",
              "       [0.51330798],\n",
              "       [0.57034221],\n",
              "       [0.51711027]])"
            ]
          },
          "metadata": {
            "tags": []
          },
          "execution_count": 55
        }
      ]
    },
    {
      "cell_type": "markdown",
      "metadata": {
        "id": "JB5lHp94RQWY"
      },
      "source": [
        "## Question 5"
      ]
    },
    {
      "cell_type": "markdown",
      "metadata": {
        "id": "kVqNUf00RSiv"
      },
      "source": [
        "### Create sequential data\n",
        "Map the temperature at a particular day 'd' to the temperature at day t\n",
        "'d+n', where n is any number you define.\n",
        "\n",
        "For example: to map temperatures of consecutive days, use d+1, i.e. lookback = 1\n",
        "- Below function takes data as input and returns sequential data.\n",
        "- X as features and y as labels"
      ]
    },
    {
      "cell_type": "code",
      "metadata": {
        "id": "AtxhXruAWws-"
      },
      "source": [
        "import numpy as np\n",
        "def create_seq_data(data, lookback=1):\n",
        "  X, y = list(), list()\n",
        "  \n",
        "  for day in range((len(data)-lookback)):\n",
        "    X.append(data[day: day+lookback, 0])\n",
        "    y.append(data[day+lookback, 0])\n",
        "  return np.array(X), np.array(y)"
      ],
      "execution_count": 56,
      "outputs": []
    },
    {
      "cell_type": "markdown",
      "metadata": {
        "id": "VMBJpuDQJzcG"
      },
      "source": [
        "### Use the above function to create train and test sets\n",
        "- Get X_train and y_train\n",
        "- Get X_test and y_test\n",
        "- lookback = 1"
      ]
    },
    {
      "cell_type": "code",
      "metadata": {
        "id": "Uq6GGmJ0Zqem",
        "outputId": "64feea0c-b792-4670-9838-f253e1898a9b",
        "colab": {
          "base_uri": "https://localhost:8080/",
          "height": 177
        }
      },
      "source": [
        "X_train,y_train = create_seq_data(train)\n",
        "X_train,y_train"
      ],
      "execution_count": 57,
      "outputs": [
        {
          "output_type": "execute_result",
          "data": {
            "text/plain": [
              "(array([[0.78707224],\n",
              "        [0.68060837],\n",
              "        [0.7148289 ],\n",
              "        ...,\n",
              "        [0.53992395],\n",
              "        [0.54372624],\n",
              "        [0.50570342]]),\n",
              " array([0.68060837, 0.7148289 , 0.55513308, ..., 0.54372624, 0.50570342,\n",
              "        0.63498099]))"
            ]
          },
          "metadata": {
            "tags": []
          },
          "execution_count": 57
        }
      ]
    },
    {
      "cell_type": "code",
      "metadata": {
        "id": "pOiFOvfL81aa",
        "outputId": "758a480e-735e-46cf-c606-d3534f4fafdd",
        "colab": {
          "base_uri": "https://localhost:8080/",
          "height": 35
        }
      },
      "source": [
        "X_train.shape,y_train.shape"
      ],
      "execution_count": 60,
      "outputs": [
        {
          "output_type": "execute_result",
          "data": {
            "text/plain": [
              "((2554, 1), (2554,))"
            ]
          },
          "metadata": {
            "tags": []
          },
          "execution_count": 60
        }
      ]
    },
    {
      "cell_type": "code",
      "metadata": {
        "id": "n6_Mph9iCwTv",
        "outputId": "81400728-ea0a-499d-b596-9e645340852c",
        "colab": {
          "base_uri": "https://localhost:8080/",
          "height": 177
        }
      },
      "source": [
        "X_test,y_test = create_seq_data(test)\n",
        "X_test,y_test"
      ],
      "execution_count": 63,
      "outputs": [
        {
          "output_type": "execute_result",
          "data": {
            "text/plain": [
              "(array([[0.58174905],\n",
              "        [0.54372624],\n",
              "        [0.51330798],\n",
              "        ...,\n",
              "        [0.51711027],\n",
              "        [0.51330798],\n",
              "        [0.59695817]]),\n",
              " array([0.54372624, 0.51330798, 0.57034221, ..., 0.51330798, 0.59695817,\n",
              "        0.49429658]))"
            ]
          },
          "metadata": {
            "tags": []
          },
          "execution_count": 63
        }
      ]
    },
    {
      "cell_type": "code",
      "metadata": {
        "id": "UzIgjpXwDa9c",
        "outputId": "d5689673-5290-4fbe-9363-f7c18a06ca34",
        "colab": {
          "base_uri": "https://localhost:8080/",
          "height": 35
        }
      },
      "source": [
        "X_test.shape,y_test.shape"
      ],
      "execution_count": 64,
      "outputs": [
        {
          "output_type": "execute_result",
          "data": {
            "text/plain": [
              "((1094, 1), (1094,))"
            ]
          },
          "metadata": {
            "tags": []
          },
          "execution_count": 64
        }
      ]
    },
    {
      "cell_type": "markdown",
      "metadata": {
        "id": "-E2iixEfK0Px"
      },
      "source": [
        "### Reshape the data\n",
        "- Reshape X_train and X_test\n",
        "- use np.reshape() method\n",
        "- this is to be done to make the data ready for input in model"
      ]
    },
    {
      "cell_type": "code",
      "metadata": {
        "id": "X3qhXEqoZxQ3"
      },
      "source": [
        "import numpy as np \n",
        "X_train=np.reshape(X_train,(X_train.shape[0],X_train.shape[1],1))\n",
        "X_test=np.reshape(X_test,(X_test.shape[0],X_test.shape[1],1))"
      ],
      "execution_count": 67,
      "outputs": []
    },
    {
      "cell_type": "markdown",
      "metadata": {
        "id": "zKZ8SALZcuNB"
      },
      "source": [
        "### Print shape of data\n",
        "- print shape of X_train and X_test"
      ]
    },
    {
      "cell_type": "code",
      "metadata": {
        "id": "OSg_rbP6c_HI",
        "outputId": "4fc056cf-056f-46c0-e996-348173689963",
        "colab": {
          "base_uri": "https://localhost:8080/",
          "height": 35
        }
      },
      "source": [
        "X_train.shape,X_test.shape"
      ],
      "execution_count": 68,
      "outputs": [
        {
          "output_type": "execute_result",
          "data": {
            "text/plain": [
              "((2554, 1, 1), (1094, 1, 1))"
            ]
          },
          "metadata": {
            "tags": []
          },
          "execution_count": 68
        }
      ]
    },
    {
      "cell_type": "markdown",
      "metadata": {
        "id": "emGjaYZ5dfRq"
      },
      "source": [
        "## Question 6"
      ]
    },
    {
      "cell_type": "markdown",
      "metadata": {
        "id": "7fk2Ze24dsXw"
      },
      "source": [
        "### Define sequential model\n",
        "- initialize a Sequential model\n",
        "- add an LSTM layer\n",
        "  - units: 10\n",
        "  - stateful: True\n",
        "  - pass a `batch_input_shape` argument to your layer\n",
        "  - batch_input_shape: (batch_size, look_back, 1)\n",
        "    - batch_size: 1\n",
        "    - look_back: 1\n",
        "- add Dense layer with 1 neuron"
      ]
    },
    {
      "cell_type": "code",
      "metadata": {
        "id": "eXU6UNt4dhJz"
      },
      "source": [
        "from tensorflow.keras.models import Sequential\n",
        "from tensorflow.keras.layers import LSTM,Dense\n",
        "\n",
        "model = Sequential()\n",
        "model.add(LSTM(10,stateful=True,batch_input_shape=(1,1,1)))  #lookback=1 at 2nd place\n",
        "model.add(Dense(1))"
      ],
      "execution_count": 70,
      "outputs": []
    },
    {
      "cell_type": "markdown",
      "metadata": {
        "id": "cLymvPFzEQSp"
      },
      "source": [
        "## Question 7"
      ]
    },
    {
      "cell_type": "markdown",
      "metadata": {
        "id": "AZmlvbcMrCTh"
      },
      "source": [
        "### compile your model\n",
        "- loss: mean_squared_error\n",
        "- optimizer: adam"
      ]
    },
    {
      "cell_type": "code",
      "metadata": {
        "id": "TrcHrSdtg62Q"
      },
      "source": [
        "model.compile(optimizer='adam',loss='mean_squared_error')"
      ],
      "execution_count": 71,
      "outputs": []
    },
    {
      "cell_type": "markdown",
      "metadata": {
        "id": "WWAoHdFurJN5"
      },
      "source": [
        "### summarize your model\n",
        "- use summary() method"
      ]
    },
    {
      "cell_type": "code",
      "metadata": {
        "id": "UlIaCMtBrPU2",
        "outputId": "d8229d79-4518-48ae-8bdf-dc488ca28886",
        "colab": {
          "base_uri": "https://localhost:8080/",
          "height": 230
        }
      },
      "source": [
        "model.summary()\n",
        "# params = 4 * ((size_of_input + 1) * size_of_output + size_of_output^2)"
      ],
      "execution_count": 72,
      "outputs": [
        {
          "output_type": "stream",
          "text": [
            "Model: \"sequential\"\n",
            "_________________________________________________________________\n",
            "Layer (type)                 Output Shape              Param #   \n",
            "=================================================================\n",
            "lstm (LSTM)                  (1, 10)                   480       \n",
            "_________________________________________________________________\n",
            "dense (Dense)                (1, 1)                    11        \n",
            "=================================================================\n",
            "Total params: 491\n",
            "Trainable params: 491\n",
            "Non-trainable params: 0\n",
            "_________________________________________________________________\n"
          ],
          "name": "stdout"
        }
      ]
    },
    {
      "cell_type": "markdown",
      "metadata": {
        "id": "dq5a3i6uEcJI"
      },
      "source": [
        "## Question 8"
      ]
    },
    {
      "cell_type": "markdown",
      "metadata": {
        "id": "0Ca3CFhOrf83"
      },
      "source": [
        "### fit your model\n",
        "- epochs: 50\n",
        "- batch_size: 1"
      ]
    },
    {
      "cell_type": "code",
      "metadata": {
        "id": "BbuB-XGPhH6h",
        "outputId": "977bb47e-24a7-4fa2-f92b-300eb7559ad8",
        "colab": {
          "base_uri": "https://localhost:8080/",
          "height": 1000
        }
      },
      "source": [
        "model.fit(X_train,y_train,batch_size = 1,epochs=50,validation_data=(X_test,y_test))"
      ],
      "execution_count": 73,
      "outputs": [
        {
          "output_type": "stream",
          "text": [
            "Epoch 1/50\n",
            "2554/2554 [==============================] - 4s 2ms/step - loss: 0.0154 - val_loss: 0.0089\n",
            "Epoch 2/50\n",
            "2554/2554 [==============================] - 4s 1ms/step - loss: 0.0103 - val_loss: 0.0088\n",
            "Epoch 3/50\n",
            "2554/2554 [==============================] - 4s 1ms/step - loss: 0.0103 - val_loss: 0.0088\n",
            "Epoch 4/50\n",
            "2554/2554 [==============================] - 4s 1ms/step - loss: 0.0102 - val_loss: 0.0085\n",
            "Epoch 5/50\n",
            "2554/2554 [==============================] - 4s 1ms/step - loss: 0.0103 - val_loss: 0.0086\n",
            "Epoch 6/50\n",
            "2554/2554 [==============================] - 4s 2ms/step - loss: 0.0102 - val_loss: 0.0086\n",
            "Epoch 7/50\n",
            "2554/2554 [==============================] - 4s 1ms/step - loss: 0.0103 - val_loss: 0.0086\n",
            "Epoch 8/50\n",
            "2554/2554 [==============================] - 4s 1ms/step - loss: 0.0102 - val_loss: 0.0090\n",
            "Epoch 9/50\n",
            "2554/2554 [==============================] - 4s 2ms/step - loss: 0.0103 - val_loss: 0.0090\n",
            "Epoch 10/50\n",
            "2554/2554 [==============================] - 4s 1ms/step - loss: 0.0102 - val_loss: 0.0088\n",
            "Epoch 11/50\n",
            "2554/2554 [==============================] - 4s 1ms/step - loss: 0.0102 - val_loss: 0.0090\n",
            "Epoch 12/50\n",
            "2554/2554 [==============================] - 4s 1ms/step - loss: 0.0102 - val_loss: 0.0089\n",
            "Epoch 13/50\n",
            "2554/2554 [==============================] - 4s 2ms/step - loss: 0.0102 - val_loss: 0.0092\n",
            "Epoch 14/50\n",
            "2554/2554 [==============================] - 4s 1ms/step - loss: 0.0102 - val_loss: 0.0089\n",
            "Epoch 15/50\n",
            "2554/2554 [==============================] - 4s 2ms/step - loss: 0.0102 - val_loss: 0.0092\n",
            "Epoch 16/50\n",
            "2554/2554 [==============================] - 4s 2ms/step - loss: 0.0102 - val_loss: 0.0090\n",
            "Epoch 17/50\n",
            "2554/2554 [==============================] - 4s 1ms/step - loss: 0.0102 - val_loss: 0.0087\n",
            "Epoch 18/50\n",
            "2554/2554 [==============================] - 4s 1ms/step - loss: 0.0102 - val_loss: 0.0090\n",
            "Epoch 19/50\n",
            "2554/2554 [==============================] - 4s 2ms/step - loss: 0.0102 - val_loss: 0.0089\n",
            "Epoch 20/50\n",
            "2554/2554 [==============================] - 4s 1ms/step - loss: 0.0102 - val_loss: 0.0088\n",
            "Epoch 21/50\n",
            "2554/2554 [==============================] - 4s 1ms/step - loss: 0.0102 - val_loss: 0.0091\n",
            "Epoch 22/50\n",
            "2554/2554 [==============================] - 4s 1ms/step - loss: 0.0101 - val_loss: 0.0089\n",
            "Epoch 23/50\n",
            "2554/2554 [==============================] - 4s 1ms/step - loss: 0.0102 - val_loss: 0.0088\n",
            "Epoch 24/50\n",
            "2554/2554 [==============================] - 4s 1ms/step - loss: 0.0102 - val_loss: 0.0088\n",
            "Epoch 25/50\n",
            "2554/2554 [==============================] - 4s 1ms/step - loss: 0.0102 - val_loss: 0.0088\n",
            "Epoch 26/50\n",
            "2554/2554 [==============================] - 4s 1ms/step - loss: 0.0102 - val_loss: 0.0087\n",
            "Epoch 27/50\n",
            "2554/2554 [==============================] - 4s 1ms/step - loss: 0.0102 - val_loss: 0.0089\n",
            "Epoch 28/50\n",
            "2554/2554 [==============================] - 4s 1ms/step - loss: 0.0102 - val_loss: 0.0089\n",
            "Epoch 29/50\n",
            "2554/2554 [==============================] - 4s 1ms/step - loss: 0.0102 - val_loss: 0.0090\n",
            "Epoch 30/50\n",
            "2554/2554 [==============================] - 4s 2ms/step - loss: 0.0101 - val_loss: 0.0097\n",
            "Epoch 31/50\n",
            "2554/2554 [==============================] - 4s 1ms/step - loss: 0.0101 - val_loss: 0.0090\n",
            "Epoch 32/50\n",
            "2554/2554 [==============================] - 4s 1ms/step - loss: 0.0101 - val_loss: 0.0094\n",
            "Epoch 33/50\n",
            "2554/2554 [==============================] - 4s 1ms/step - loss: 0.0101 - val_loss: 0.0091\n",
            "Epoch 34/50\n",
            "2554/2554 [==============================] - 4s 1ms/step - loss: 0.0100 - val_loss: 0.0101\n",
            "Epoch 35/50\n",
            "2554/2554 [==============================] - 4s 2ms/step - loss: 0.0101 - val_loss: 0.0090\n",
            "Epoch 36/50\n",
            "2554/2554 [==============================] - 4s 2ms/step - loss: 0.0101 - val_loss: 0.0090\n",
            "Epoch 37/50\n",
            "2554/2554 [==============================] - 4s 1ms/step - loss: 0.0101 - val_loss: 0.0089\n",
            "Epoch 38/50\n",
            "2554/2554 [==============================] - 4s 1ms/step - loss: 0.0101 - val_loss: 0.0091\n",
            "Epoch 39/50\n",
            "2554/2554 [==============================] - 4s 2ms/step - loss: 0.0102 - val_loss: 0.0088\n",
            "Epoch 40/50\n",
            "2554/2554 [==============================] - 4s 1ms/step - loss: 0.0101 - val_loss: 0.0091\n",
            "Epoch 41/50\n",
            "2554/2554 [==============================] - 4s 1ms/step - loss: 0.0101 - val_loss: 0.0089\n",
            "Epoch 42/50\n",
            "2554/2554 [==============================] - 4s 2ms/step - loss: 0.0101 - val_loss: 0.0090\n",
            "Epoch 43/50\n",
            "2554/2554 [==============================] - 4s 1ms/step - loss: 0.0102 - val_loss: 0.0089\n",
            "Epoch 44/50\n",
            "2554/2554 [==============================] - 4s 2ms/step - loss: 0.0101 - val_loss: 0.0094\n",
            "Epoch 45/50\n",
            "2554/2554 [==============================] - 4s 2ms/step - loss: 0.0102 - val_loss: 0.0089\n",
            "Epoch 46/50\n",
            "2554/2554 [==============================] - 4s 2ms/step - loss: 0.0101 - val_loss: 0.0088\n",
            "Epoch 47/50\n",
            "2554/2554 [==============================] - 4s 2ms/step - loss: 0.0101 - val_loss: 0.0089\n",
            "Epoch 48/50\n",
            "2554/2554 [==============================] - 4s 1ms/step - loss: 0.0101 - val_loss: 0.0089\n",
            "Epoch 49/50\n",
            "2554/2554 [==============================] - 4s 1ms/step - loss: 0.0101 - val_loss: 0.0088\n",
            "Epoch 50/50\n",
            "2554/2554 [==============================] - 4s 2ms/step - loss: 0.0101 - val_loss: 0.0089\n"
          ],
          "name": "stdout"
        },
        {
          "output_type": "execute_result",
          "data": {
            "text/plain": [
              "<tensorflow.python.keras.callbacks.History at 0x7fa212208ef0>"
            ]
          },
          "metadata": {
            "tags": []
          },
          "execution_count": 73
        }
      ]
    },
    {
      "cell_type": "markdown",
      "metadata": {
        "id": "hqRlEmbjEqyG"
      },
      "source": [
        "## Question 9"
      ]
    },
    {
      "cell_type": "markdown",
      "metadata": {
        "id": "12IhOtvUHJBF"
      },
      "source": [
        "### make predictions on train data\n",
        "- use predict() method\n",
        "  - batch_size: 1\n",
        "- store predictions in a variable"
      ]
    },
    {
      "cell_type": "code",
      "metadata": {
        "id": "iXWuJikQHURm",
        "outputId": "92f83d06-8caa-413b-8cd5-a4ca51cffd1a",
        "colab": {
          "base_uri": "https://localhost:8080/",
          "height": 106
        }
      },
      "source": [
        "train_pred = model.predict(X_train,batch_size=1)\n",
        "ms.inverse_transform(y_train_predict[:5])"
      ],
      "execution_count": 78,
      "outputs": [
        {
          "output_type": "execute_result",
          "data": {
            "text/plain": [
              "array([[17.905886],\n",
              "       [16.24232 ],\n",
              "       [16.909609],\n",
              "       [13.850146],\n",
              "       [14.58614 ]], dtype=float32)"
            ]
          },
          "metadata": {
            "tags": []
          },
          "execution_count": 78
        }
      ]
    },
    {
      "cell_type": "markdown",
      "metadata": {
        "id": "XxxWOa-PsieH"
      },
      "source": [
        "### reset model state\n",
        "- if you are using stateful=True in your model then you should call reset_states every time, when you want to make consecutive model calls independent.\n",
        "- use reset_states() method"
      ]
    },
    {
      "cell_type": "code",
      "metadata": {
        "id": "ZdV5_F1Eo8SY"
      },
      "source": [
        "model.reset_states()"
      ],
      "execution_count": 79,
      "outputs": []
    },
    {
      "cell_type": "markdown",
      "metadata": {
        "id": "KAhziPVBJD0u"
      },
      "source": [
        "### make predictions on test data\n",
        "- use predict() method\n",
        "  - batch_size: 1\n",
        "- store predictions in a variable"
      ]
    },
    {
      "cell_type": "code",
      "metadata": {
        "id": "HuHopEXNJU_y",
        "outputId": "755472eb-2fd7-43c9-c1c0-2f5d9e877ec9",
        "colab": {
          "base_uri": "https://localhost:8080/",
          "height": 195
        }
      },
      "source": [
        "test_pred = model.predict(X_test,batch_size=1)\n",
        "test_pred[:10]"
      ],
      "execution_count": 80,
      "outputs": [
        {
          "output_type": "execute_result",
          "data": {
            "text/plain": [
              "array([[0.506244  ],\n",
              "       [0.50899786],\n",
              "       [0.48857424],\n",
              "       [0.52819157],\n",
              "       [0.48602557],\n",
              "       [0.5316341 ],\n",
              "       [0.58182144],\n",
              "       [0.63012415],\n",
              "       [0.57571876],\n",
              "       [0.59894633]], dtype=float32)"
            ]
          },
          "metadata": {
            "tags": []
          },
          "execution_count": 80
        }
      ]
    },
    {
      "cell_type": "markdown",
      "metadata": {
        "id": "pO81E-fsJruD"
      },
      "source": [
        "## Question 10"
      ]
    },
    {
      "cell_type": "markdown",
      "metadata": {
        "id": "RImBG7sCtnlb"
      },
      "source": [
        "### Inverse train predictions and true labels\n",
        "- use your MinMaxSclarer object\n",
        "- use inverse_transform() method"
      ]
    },
    {
      "cell_type": "code",
      "metadata": {
        "id": "xXfce41cqN-h"
      },
      "source": [
        "train_pred = ms.inverse_transform(train_pred)\n",
        "y_train = ms.inverse_transform([y_train])"
      ],
      "execution_count": 81,
      "outputs": []
    },
    {
      "cell_type": "markdown",
      "metadata": {
        "id": "5fWSzk8cuPbp"
      },
      "source": [
        "### Inverse test predictions and true labels\n",
        "- use your MinMaxSclarer object\n",
        "- use inverse_transform() method"
      ]
    },
    {
      "cell_type": "code",
      "metadata": {
        "id": "nVJ1wMupuPbu"
      },
      "source": [
        "test_pred = ms.inverse_transform(test_pred)\n",
        "y_test = ms.inverse_transform([y_test])"
      ],
      "execution_count": 82,
      "outputs": []
    },
    {
      "cell_type": "markdown",
      "metadata": {
        "id": "VtowvAItJv6c"
      },
      "source": [
        "### Evaluate train predictions\n",
        "- calculate RMSE\n",
        "- RMSE = sqrt(mean_squared_error(true_labels, predicted_labels))\n",
        "- use sqrt() and mean_squared_error() method\n",
        "- print training RMSE"
      ]
    },
    {
      "cell_type": "code",
      "metadata": {
        "id": "GjXbis_bJ9GL"
      },
      "source": [
        "import math\n",
        "from sklearn.metrics import mean_squared_error\n",
        "train_score=math.sqrt(mean_squared_error(y_train[0],train_pred[:,0]))"
      ],
      "execution_count": 84,
      "outputs": []
    },
    {
      "cell_type": "code",
      "metadata": {
        "id": "pLb65-QiqMDX",
        "outputId": "258746d9-b1c4-4970-c7d1-47faddb33b2c",
        "colab": {
          "base_uri": "https://localhost:8080/",
          "height": 35
        }
      },
      "source": [
        "train_score"
      ],
      "execution_count": 85,
      "outputs": [
        {
          "output_type": "execute_result",
          "data": {
            "text/plain": [
              "2.6391411040735098"
            ]
          },
          "metadata": {
            "tags": []
          },
          "execution_count": 85
        }
      ]
    },
    {
      "cell_type": "markdown",
      "metadata": {
        "id": "DBOfSPRDvERE"
      },
      "source": [
        "### Evaluate test predictions\n",
        "- calculate RMSE\n",
        "- RMSE = sqrt(mean_squared_error(true_labels, predicted_labels))\n",
        "- use sqrt() and mean_squared_error() method\n",
        "- print testing RMSE"
      ]
    },
    {
      "cell_type": "code",
      "metadata": {
        "id": "8rQOereovERJ"
      },
      "source": [
        "test_score=math.sqrt(mean_squared_error(y_test[0],test_pred[:,0]))"
      ],
      "execution_count": 86,
      "outputs": []
    },
    {
      "cell_type": "code",
      "metadata": {
        "id": "8DhUsMnvvERT",
        "outputId": "a1253a3b-7174-4427-a083-1f0e2ddbae39",
        "colab": {
          "base_uri": "https://localhost:8080/",
          "height": 35
        }
      },
      "source": [
        "test_score"
      ],
      "execution_count": 87,
      "outputs": [
        {
          "output_type": "execute_result",
          "data": {
            "text/plain": [
              "2.4830222723199853"
            ]
          },
          "metadata": {
            "tags": []
          },
          "execution_count": 87
        }
      ]
    }
  ]
}
