{
  "nbformat": 4,
  "nbformat_minor": 0,
  "metadata": {
    "colab": {
      "name": "Questions - Lab on ACV.ipynb",
      "provenance": [],
      "collapsed_sections": [],
      "toc_visible": true
    },
    "kernelspec": {
      "name": "python3",
      "display_name": "Python 3"
    }
  },
  "cells": [
    {
      "cell_type": "markdown",
      "metadata": {
        "id": "I-P5m4iA_xe7"
      },
      "source": [
        "# Bounding box detection - Racoon data\n",
        "\n",
        "\n",
        "## Data files\n",
        "- images_racoon.rar: contain images of racoons\n",
        "- train_labels.cv: contains coordinates for bounding box for every image"
      ]
    },
    {
      "cell_type": "markdown",
      "metadata": {
        "id": "d8M5gzwKWGiU"
      },
      "source": [
        "### Import the necessary libraries"
      ]
    },
    {
      "cell_type": "code",
      "metadata": {
        "id": "VOMKpZJcWGiV"
      },
      "source": [
        "import pandas as pd\n",
        "import numpy as np"
      ],
      "execution_count": 1,
      "outputs": []
    },
    {
      "cell_type": "code",
      "metadata": {
        "id": "FIZFFE_WVlRS"
      },
      "source": [
        "from google.colab import drive"
      ],
      "execution_count": 2,
      "outputs": []
    },
    {
      "cell_type": "code",
      "metadata": {
        "colab": {
          "base_uri": "https://localhost:8080/"
        },
        "id": "5VbWBkG1Vnaq",
        "outputId": "97ec7fb0-51ec-47d0-8f1b-845f5110af35"
      },
      "source": [
        "drive.mount('/content/drive/')"
      ],
      "execution_count": 3,
      "outputs": [
        {
          "output_type": "stream",
          "text": [
            "Mounted at /content/drive/\n"
          ],
          "name": "stdout"
        }
      ]
    },
    {
      "cell_type": "markdown",
      "metadata": {
        "id": "Z_INIZOi_tUW"
      },
      "source": [
        "### Change directory"
      ]
    },
    {
      "cell_type": "code",
      "metadata": {
        "id": "Sxgw3GT1AR9Y"
      },
      "source": [
        "import os\n",
        "os.chdir('/content/drive/MyDrive/Dec 6th Lab')"
      ],
      "execution_count": 5,
      "outputs": []
    },
    {
      "cell_type": "markdown",
      "metadata": {
        "id": "lwxBtvYRWGii"
      },
      "source": [
        "### Load the training data from train.csv file"
      ]
    },
    {
      "cell_type": "code",
      "metadata": {
        "id": "wiTjjKtpWGij",
        "colab": {
          "base_uri": "https://localhost:8080/",
          "height": 419
        },
        "outputId": "460911c6-bd63-4549-9d8f-d3a590707532"
      },
      "source": [
        "df = pd.read_csv('/content/drive/MyDrive/Dec 6th Lab/train_labels.csv')\n",
        "df"
      ],
      "execution_count": 6,
      "outputs": [
        {
          "output_type": "execute_result",
          "data": {
            "text/html": [
              "<div>\n",
              "<style scoped>\n",
              "    .dataframe tbody tr th:only-of-type {\n",
              "        vertical-align: middle;\n",
              "    }\n",
              "\n",
              "    .dataframe tbody tr th {\n",
              "        vertical-align: top;\n",
              "    }\n",
              "\n",
              "    .dataframe thead th {\n",
              "        text-align: right;\n",
              "    }\n",
              "</style>\n",
              "<table border=\"1\" class=\"dataframe\">\n",
              "  <thead>\n",
              "    <tr style=\"text-align: right;\">\n",
              "      <th></th>\n",
              "      <th>filename</th>\n",
              "      <th>width</th>\n",
              "      <th>height</th>\n",
              "      <th>class</th>\n",
              "      <th>xmin</th>\n",
              "      <th>ymin</th>\n",
              "      <th>xmax</th>\n",
              "      <th>ymax</th>\n",
              "    </tr>\n",
              "  </thead>\n",
              "  <tbody>\n",
              "    <tr>\n",
              "      <th>0</th>\n",
              "      <td>raccoon-17.jpg</td>\n",
              "      <td>259</td>\n",
              "      <td>194</td>\n",
              "      <td>raccoon</td>\n",
              "      <td>95</td>\n",
              "      <td>60</td>\n",
              "      <td>167</td>\n",
              "      <td>118</td>\n",
              "    </tr>\n",
              "    <tr>\n",
              "      <th>1</th>\n",
              "      <td>raccoon-11.jpg</td>\n",
              "      <td>660</td>\n",
              "      <td>432</td>\n",
              "      <td>raccoon</td>\n",
              "      <td>3</td>\n",
              "      <td>1</td>\n",
              "      <td>461</td>\n",
              "      <td>431</td>\n",
              "    </tr>\n",
              "    <tr>\n",
              "      <th>2</th>\n",
              "      <td>raccoon-63.jpg</td>\n",
              "      <td>600</td>\n",
              "      <td>400</td>\n",
              "      <td>raccoon</td>\n",
              "      <td>74</td>\n",
              "      <td>107</td>\n",
              "      <td>280</td>\n",
              "      <td>290</td>\n",
              "    </tr>\n",
              "    <tr>\n",
              "      <th>3</th>\n",
              "      <td>raccoon-63.jpg</td>\n",
              "      <td>600</td>\n",
              "      <td>400</td>\n",
              "      <td>raccoon</td>\n",
              "      <td>227</td>\n",
              "      <td>93</td>\n",
              "      <td>403</td>\n",
              "      <td>298</td>\n",
              "    </tr>\n",
              "    <tr>\n",
              "      <th>4</th>\n",
              "      <td>raccoon-60.jpg</td>\n",
              "      <td>273</td>\n",
              "      <td>185</td>\n",
              "      <td>raccoon</td>\n",
              "      <td>58</td>\n",
              "      <td>33</td>\n",
              "      <td>197</td>\n",
              "      <td>127</td>\n",
              "    </tr>\n",
              "    <tr>\n",
              "      <th>...</th>\n",
              "      <td>...</td>\n",
              "      <td>...</td>\n",
              "      <td>...</td>\n",
              "      <td>...</td>\n",
              "      <td>...</td>\n",
              "      <td>...</td>\n",
              "      <td>...</td>\n",
              "      <td>...</td>\n",
              "    </tr>\n",
              "    <tr>\n",
              "      <th>168</th>\n",
              "      <td>raccoon-137.jpg</td>\n",
              "      <td>320</td>\n",
              "      <td>240</td>\n",
              "      <td>raccoon</td>\n",
              "      <td>71</td>\n",
              "      <td>8</td>\n",
              "      <td>304</td>\n",
              "      <td>233</td>\n",
              "    </tr>\n",
              "    <tr>\n",
              "      <th>169</th>\n",
              "      <td>raccoon-171.jpg</td>\n",
              "      <td>224</td>\n",
              "      <td>225</td>\n",
              "      <td>raccoon</td>\n",
              "      <td>108</td>\n",
              "      <td>21</td>\n",
              "      <td>180</td>\n",
              "      <td>115</td>\n",
              "    </tr>\n",
              "    <tr>\n",
              "      <th>170</th>\n",
              "      <td>raccoon-190.jpg</td>\n",
              "      <td>259</td>\n",
              "      <td>194</td>\n",
              "      <td>raccoon</td>\n",
              "      <td>78</td>\n",
              "      <td>54</td>\n",
              "      <td>153</td>\n",
              "      <td>135</td>\n",
              "    </tr>\n",
              "    <tr>\n",
              "      <th>171</th>\n",
              "      <td>raccoon-22.jpg</td>\n",
              "      <td>640</td>\n",
              "      <td>360</td>\n",
              "      <td>raccoon</td>\n",
              "      <td>252</td>\n",
              "      <td>76</td>\n",
              "      <td>466</td>\n",
              "      <td>335</td>\n",
              "    </tr>\n",
              "    <tr>\n",
              "      <th>172</th>\n",
              "      <td>raccoon-152.jpg</td>\n",
              "      <td>275</td>\n",
              "      <td>183</td>\n",
              "      <td>raccoon</td>\n",
              "      <td>41</td>\n",
              "      <td>60</td>\n",
              "      <td>223</td>\n",
              "      <td>155</td>\n",
              "    </tr>\n",
              "  </tbody>\n",
              "</table>\n",
              "<p>173 rows × 8 columns</p>\n",
              "</div>"
            ],
            "text/plain": [
              "            filename  width  height    class  xmin  ymin  xmax  ymax\n",
              "0     raccoon-17.jpg    259     194  raccoon    95    60   167   118\n",
              "1     raccoon-11.jpg    660     432  raccoon     3     1   461   431\n",
              "2     raccoon-63.jpg    600     400  raccoon    74   107   280   290\n",
              "3     raccoon-63.jpg    600     400  raccoon   227    93   403   298\n",
              "4     raccoon-60.jpg    273     185  raccoon    58    33   197   127\n",
              "..               ...    ...     ...      ...   ...   ...   ...   ...\n",
              "168  raccoon-137.jpg    320     240  raccoon    71     8   304   233\n",
              "169  raccoon-171.jpg    224     225  raccoon   108    21   180   115\n",
              "170  raccoon-190.jpg    259     194  raccoon    78    54   153   135\n",
              "171   raccoon-22.jpg    640     360  raccoon   252    76   466   335\n",
              "172  raccoon-152.jpg    275     183  raccoon    41    60   223   155\n",
              "\n",
              "[173 rows x 8 columns]"
            ]
          },
          "metadata": {
            "tags": []
          },
          "execution_count": 6
        }
      ]
    },
    {
      "cell_type": "markdown",
      "metadata": {
        "id": "-F3CkYxUWGin"
      },
      "source": [
        "### Print the shape of the train dataset"
      ]
    },
    {
      "cell_type": "code",
      "metadata": {
        "id": "uRz_MtnvWGip",
        "colab": {
          "base_uri": "https://localhost:8080/"
        },
        "outputId": "b34aee36-bd86-4b73-963e-7c0892479c77"
      },
      "source": [
        "df.shape"
      ],
      "execution_count": 7,
      "outputs": [
        {
          "output_type": "execute_result",
          "data": {
            "text/plain": [
              "(173, 8)"
            ]
          },
          "metadata": {
            "tags": []
          },
          "execution_count": 7
        }
      ]
    },
    {
      "cell_type": "markdown",
      "metadata": {
        "id": "axf5m10eWGis"
      },
      "source": [
        "### Declare a variable IMAGE_SIZE = 128 as we will be using MobileNet which will be taking Input shape as 128 * 128 "
      ]
    },
    {
      "cell_type": "code",
      "metadata": {
        "id": "7ayEk2c9WGit"
      },
      "source": [
        "IMAGE_SIZE = 128"
      ],
      "execution_count": 8,
      "outputs": []
    },
    {
      "cell_type": "markdown",
      "metadata": {
        "id": "wbrrYb5IWGix"
      },
      "source": [
        "### With the help of csv.reader write a for loop which can load the train.csv file and store the path, width, height, x0,y0,x1,y1 in induvidual variables. <br>\n",
        "1. Create a list variable known as 'path' which has all the path for all the training images\n",
        "2. Create an array 'coords' which has the resized coordinates of the bounding box for the training images\n",
        "\n",
        "<u>Note:</u> All the training images should be downsampled to 128 * 128 as it is the input shape of MobileNet (which we will be using for Object detection). Hence the corresponding coordinates of the bounding boxes should be changed to match the image dimension of 128 * 128 "
      ]
    },
    {
      "cell_type": "code",
      "metadata": {
        "id": "twSTiPpRWGiy"
      },
      "source": [
        "import csv\n",
        "with open('/content/drive/MyDrive/Dec 6th Lab/train_labels.csv','r') as csvfile:\n",
        "  paths = []\n",
        "  coords = np.zeros((sum(1 for line in csvfile) - 1, 4))\n",
        "  spamreader = csv.reader(csvfile, delimiter=',')\n",
        "  csvfile.seek(0)\n",
        "  next(spamreader, None)\n",
        "  for i,row in enumerate(spamreader):\n",
        "      #print(row)\n",
        "      for j, r in enumerate(row): # Parse row with seven entities\n",
        "          #print(i)\n",
        "          if((j!= 0) & (j!=3)):\n",
        "              row[j] = int(r)\n",
        "          \n",
        "      #print(row)      \n",
        "      path, width, height, class_, xmin, ymin, xmax, ymax = row\n",
        "      paths.append(path)\n",
        "      #print(i)\n",
        "      coords[i,0] = xmin * IMAGE_SIZE / width\n",
        "      coords[i,1] = ymin * IMAGE_SIZE / height\n",
        "      coords[i,2] = xmax * IMAGE_SIZE / width # Normalize bounding box by image size\n",
        "      coords[i,3] = ymax * IMAGE_SIZE / height"
      ],
      "execution_count": 9,
      "outputs": []
    },
    {
      "cell_type": "code",
      "metadata": {
        "colab": {
          "base_uri": "https://localhost:8080/",
          "height": 35
        },
        "id": "tAOTZFLCbd3b",
        "outputId": "87f2bb66-6c13-411b-f1d1-cba8f0bc55b6"
      },
      "source": [
        "paths[0]"
      ],
      "execution_count": 16,
      "outputs": [
        {
          "output_type": "execute_result",
          "data": {
            "application/vnd.google.colaboratory.intrinsic+json": {
              "type": "string"
            },
            "text/plain": [
              "'raccoon-17.jpg'"
            ]
          },
          "metadata": {
            "tags": []
          },
          "execution_count": 16
        }
      ]
    },
    {
      "cell_type": "code",
      "metadata": {
        "colab": {
          "base_uri": "https://localhost:8080/"
        },
        "id": "X7mJxOznbg7g",
        "outputId": "13f39b68-c0fc-4e95-8b40-8da146091c26"
      },
      "source": [
        "coords[0]"
      ],
      "execution_count": 12,
      "outputs": [
        {
          "output_type": "execute_result",
          "data": {
            "text/plain": [
              "array([46.94980695, 39.58762887, 82.53281853, 77.8556701 ])"
            ]
          },
          "metadata": {
            "tags": []
          },
          "execution_count": 12
        }
      ]
    },
    {
      "cell_type": "markdown",
      "metadata": {
        "id": "Z9iZWEpKWGi2"
      },
      "source": [
        "### Write a for loop which can load all the training images into a variable 'batch_images' using the paths from the 'paths' variable\n",
        "<u>Note:</u> Convert the image to RGB scale as the MobileNet accepts 3 channels as inputs   "
      ]
    },
    {
      "cell_type": "code",
      "metadata": {
        "id": "h6e99qquWGi3"
      },
      "source": [
        "from tensorflow.keras.applications.mobilenet import MobileNet,preprocess_input\n",
        "from PIL import Image\n",
        "batch_images = np.zeros((len(paths), IMAGE_SIZE, IMAGE_SIZE, 3), dtype=np.float32)\n",
        "\n",
        "for i, f in enumerate(paths):\n",
        "    img = Image.open('images/images/'+ f) # Read image\n",
        "    img = img.resize((IMAGE_SIZE, IMAGE_SIZE)) # Resize image\n",
        "    img = img.convert('RGB')\n",
        "    batch_images[i] = preprocess_input(np.array(img, dtype=np.float32))"
      ],
      "execution_count": 17,
      "outputs": []
    },
    {
      "cell_type": "code",
      "metadata": {
        "colab": {
          "base_uri": "https://localhost:8080/"
        },
        "id": "ohKStvywfiNv",
        "outputId": "f14ba299-3c10-4f44-e5d2-1b62b6e0ff98"
      },
      "source": [
        "batch_images.shape"
      ],
      "execution_count": 18,
      "outputs": [
        {
          "output_type": "execute_result",
          "data": {
            "text/plain": [
              "(173, 128, 128, 3)"
            ]
          },
          "metadata": {
            "tags": []
          },
          "execution_count": 18
        }
      ]
    },
    {
      "cell_type": "markdown",
      "metadata": {
        "id": "C9KU6pUTWGi9"
      },
      "source": [
        "### Import MobileNet and load MobileNet into a variable named 'model' which takes input shape of 128 * 128 * 3. Freeze all the layers. Add convolution and reshape layers at the end to ensure the output is 4 coordinates"
      ]
    },
    {
      "cell_type": "code",
      "metadata": {
        "id": "JPUbgj92m2jo"
      },
      "source": [
        "from tensorflow.keras import Model\n",
        "from tensorflow.keras.applications.mobilenet import MobileNet, preprocess_input\n",
        "from tensorflow.keras.callbacks import ModelCheckpoint, EarlyStopping, ReduceLROnPlateau, Callback\n",
        "from tensorflow.keras.layers import Conv2D, Reshape\n",
        "from tensorflow.keras.utils import Sequence\n",
        "from tensorflow.keras.backend import epsilon\n",
        "import tensorflow as tf"
      ],
      "execution_count": 34,
      "outputs": []
    },
    {
      "cell_type": "code",
      "metadata": {
        "id": "fWJ_VE4hnHST"
      },
      "source": [
        "ALPHA = 1"
      ],
      "execution_count": 22,
      "outputs": []
    },
    {
      "cell_type": "code",
      "metadata": {
        "id": "nosEtf1lWGi-"
      },
      "source": [
        "model = MobileNet(input_shape=(IMAGE_SIZE, IMAGE_SIZE, 3), include_top=False, alpha=ALPHA) # Load pre-trained mobilenet\n",
        "# Do not include classification (top) layer\n",
        "\n",
        "# to freeze layers, except the new top layer, of course, which will be added below\n",
        "for layer in model.layers:\n",
        "    layer.trainable = False\n",
        "\n",
        "# Add new top layer which is a conv layer of the same size as the previous layer so that only 4 coords of BBox can be output\n",
        "x = model.layers[-1].output\n",
        "x = Conv2D(4, kernel_size=4, name=\"coords\")(x)\n",
        "# In the line above kernel size should be 3 for img size 96, 4 for img size 128, 5 for img size 160 etc.\n",
        "x = Reshape((4,))(x) # These are the 4 predicted coordinates of one BBox\n",
        "\n",
        "model = Model(inputs=model.input, outputs=x)"
      ],
      "execution_count": 26,
      "outputs": []
    },
    {
      "cell_type": "markdown",
      "metadata": {
        "id": "nsQSHWgpWGjC"
      },
      "source": [
        "### Define a custom loss function IoU which calculates Intersection Over Union"
      ]
    },
    {
      "cell_type": "code",
      "metadata": {
        "id": "7Ig_Gsn-WGjD"
      },
      "source": [
        "def loss(gt,pred):\n",
        "    intersections = 0\n",
        "    unions = 0\n",
        "    diff_width = np.minimum(gt[:,0] + gt[:,2], pred[:,0] + pred[:,2]) - np.maximum(gt[:,0], pred[:,0])\n",
        "    diff_height = np.minimum(gt[:,1] + gt[:,3], pred[:,1] + pred[:,3]) - np.maximum(gt[:,1], pred[:,1])\n",
        "    intersection = diff_width * diff_height\n",
        "    \n",
        "    # Compute union\n",
        "    area_gt = gt[:,2] * gt[:,3]\n",
        "    area_pred = pred[:,2] * pred[:,3]\n",
        "    union = area_gt + area_pred - intersection\n",
        "\n",
        "#     Compute intersection and union over multiple boxes\n",
        "    for j, _ in enumerate(union):\n",
        "        if union[j] > 0 and intersection[j] > 0 and union[j] >= intersection[j]:\n",
        "            intersections += intersection[j]\n",
        "            unions += union[j]\n",
        "\n",
        "    # Compute IOU. Use epsilon to prevent division by zero\n",
        "    iou = np.round(intersections / (unions + epsilon()), 4)\n",
        "    iou = iou.astype(np.float32)\n",
        "    return iou\n",
        "\n",
        "def IoU(y_true, y_pred):\n",
        "    iou = tf.compat.v1.py_func(loss, [y_true, y_pred], tf.float32)\n",
        "    return iou"
      ],
      "execution_count": 36,
      "outputs": []
    },
    {
      "cell_type": "markdown",
      "metadata": {
        "id": "2Zs7VcSVWGjF"
      },
      "source": [
        "### Write model.compile function & model.fit function with: <br>\n",
        "1. Optimizer = Adam, Loss = 'mse' and metrics = IoU\n",
        "2. Epochs = 30, batch_size = 32, verbose = 1"
      ]
    },
    {
      "cell_type": "code",
      "metadata": {
        "id": "f35dLEJlWGjG",
        "colab": {
          "base_uri": "https://localhost:8080/"
        },
        "outputId": "f017569a-0a07-401d-8454-07367b547518"
      },
      "source": [
        "model.compile(optimizer='adam',loss='mse',metrics=IoU)\n",
        "model.fit(batch_images,coords,batch_size=32,epochs=30,verbose=1)"
      ],
      "execution_count": 37,
      "outputs": [
        {
          "output_type": "stream",
          "text": [
            "Epoch 1/30\n",
            "WARNING:tensorflow:From <ipython-input-36-7ee04dc8b169>:25: py_func (from tensorflow.python.ops.script_ops) is deprecated and will be removed in a future version.\n",
            "Instructions for updating:\n",
            "tf.py_func is deprecated in TF V2. Instead, there are two\n",
            "    options available in V2.\n",
            "    - tf.py_function takes a python function which manipulates tf eager\n",
            "    tensors instead of numpy arrays. It's easy to convert a tf eager tensor to\n",
            "    an ndarray (just call tensor.numpy()) but having access to eager tensors\n",
            "    means `tf.py_function`s can use accelerators such as GPUs as well as\n",
            "    being differentiable using a gradient tape.\n",
            "    - tf.numpy_function maintains the semantics of the deprecated tf.py_func\n",
            "    (it is not differentiable, and manipulates numpy arrays). It drops the\n",
            "    stateful argument making all functions stateful.\n",
            "    \n",
            "6/6 [==============================] - 2s 298ms/step - loss: 4019.2100 - IoU: 0.0807\n",
            "Epoch 2/30\n",
            "6/6 [==============================] - 2s 295ms/step - loss: 769.0867 - IoU: 0.4261\n",
            "Epoch 3/30\n",
            "6/6 [==============================] - 2s 295ms/step - loss: 455.6490 - IoU: 0.5827\n",
            "Epoch 4/30\n",
            "6/6 [==============================] - 2s 293ms/step - loss: 621.3320 - IoU: 0.5435\n",
            "Epoch 5/30\n",
            "6/6 [==============================] - 2s 293ms/step - loss: 361.2954 - IoU: 0.6210\n",
            "Epoch 6/30\n",
            "6/6 [==============================] - 2s 293ms/step - loss: 189.3509 - IoU: 0.6703\n",
            "Epoch 7/30\n",
            "6/6 [==============================] - 2s 294ms/step - loss: 192.9303 - IoU: 0.6463\n",
            "Epoch 8/30\n",
            "6/6 [==============================] - 2s 295ms/step - loss: 157.9834 - IoU: 0.6950\n",
            "Epoch 9/30\n",
            "6/6 [==============================] - 2s 296ms/step - loss: 123.2794 - IoU: 0.7478\n",
            "Epoch 10/30\n",
            "6/6 [==============================] - 2s 292ms/step - loss: 111.1299 - IoU: 0.7623\n",
            "Epoch 11/30\n",
            "6/6 [==============================] - 2s 290ms/step - loss: 98.9882 - IoU: 0.7759\n",
            "Epoch 12/30\n",
            "6/6 [==============================] - 2s 298ms/step - loss: 91.8101 - IoU: 0.7802\n",
            "Epoch 13/30\n",
            "6/6 [==============================] - 2s 293ms/step - loss: 86.6821 - IoU: 0.7769\n",
            "Epoch 14/30\n",
            "6/6 [==============================] - 2s 293ms/step - loss: 80.6679 - IoU: 0.7835\n",
            "Epoch 15/30\n",
            "6/6 [==============================] - 2s 292ms/step - loss: 74.3014 - IoU: 0.8067\n",
            "Epoch 16/30\n",
            "6/6 [==============================] - 2s 291ms/step - loss: 71.0691 - IoU: 0.8026\n",
            "Epoch 17/30\n",
            "6/6 [==============================] - 2s 295ms/step - loss: 67.4333 - IoU: 0.8168\n",
            "Epoch 18/30\n",
            "6/6 [==============================] - 2s 293ms/step - loss: 64.8204 - IoU: 0.8298\n",
            "Epoch 19/30\n",
            "6/6 [==============================] - 2s 297ms/step - loss: 63.1286 - IoU: 0.8326\n",
            "Epoch 20/30\n",
            "6/6 [==============================] - 2s 294ms/step - loss: 61.3357 - IoU: 0.8417\n",
            "Epoch 21/30\n",
            "6/6 [==============================] - 2s 295ms/step - loss: 59.2102 - IoU: 0.8435\n",
            "Epoch 22/30\n",
            "6/6 [==============================] - 2s 291ms/step - loss: 58.5431 - IoU: 0.8443\n",
            "Epoch 23/30\n",
            "6/6 [==============================] - 2s 290ms/step - loss: 56.3039 - IoU: 0.8408\n",
            "Epoch 24/30\n",
            "6/6 [==============================] - 2s 295ms/step - loss: 56.7075 - IoU: 0.8424\n",
            "Epoch 25/30\n",
            "6/6 [==============================] - 2s 291ms/step - loss: 55.3635 - IoU: 0.8555\n",
            "Epoch 26/30\n",
            "6/6 [==============================] - 2s 292ms/step - loss: 55.1712 - IoU: 0.8459\n",
            "Epoch 27/30\n",
            "6/6 [==============================] - 2s 292ms/step - loss: 54.8940 - IoU: 0.8618\n",
            "Epoch 28/30\n",
            "6/6 [==============================] - 2s 292ms/step - loss: 53.8732 - IoU: 0.8564\n",
            "Epoch 29/30\n",
            "6/6 [==============================] - 2s 293ms/step - loss: 53.8809 - IoU: 0.8682\n",
            "Epoch 30/30\n",
            "6/6 [==============================] - 2s 291ms/step - loss: 52.9758 - IoU: 0.8590\n"
          ],
          "name": "stdout"
        },
        {
          "output_type": "execute_result",
          "data": {
            "text/plain": [
              "<tensorflow.python.keras.callbacks.History at 0x7fb41aa85dd8>"
            ]
          },
          "metadata": {
            "tags": []
          },
          "execution_count": 37
        }
      ]
    },
    {
      "cell_type": "markdown",
      "metadata": {
        "id": "II1itmqiWGjK"
      },
      "source": [
        "### Pick a test image from the given data"
      ]
    },
    {
      "cell_type": "code",
      "metadata": {
        "id": "0ULErYeSWGjK"
      },
      "source": [
        "test_image = np.zeros((1, IMAGE_SIZE, IMAGE_SIZE, 3), dtype=np.float32)\n",
        "orig_img= Image.open('/content/racoon.jpg')"
      ],
      "execution_count": 89,
      "outputs": []
    },
    {
      "cell_type": "code",
      "metadata": {
        "colab": {
          "base_uri": "https://localhost:8080/"
        },
        "id": "_d-pBSz7yDDF",
        "outputId": "27003eeb-3a90-4486-9a31-707821ddac56"
      },
      "source": [
        "image_height, image_width= img.size\n",
        "image_height,image_width"
      ],
      "execution_count": 90,
      "outputs": [
        {
          "output_type": "execute_result",
          "data": {
            "text/plain": [
              "(128, 128)"
            ]
          },
          "metadata": {
            "tags": []
          },
          "execution_count": 90
        }
      ]
    },
    {
      "cell_type": "markdown",
      "metadata": {
        "id": "h99SC9MjWGjO"
      },
      "source": [
        "### Resize the image to 128 * 128 and preprocess the image for the MobileNet model"
      ]
    },
    {
      "cell_type": "code",
      "metadata": {
        "id": "J3jbKm7_WGjP"
      },
      "source": [
        "img_resize = orig_img.resize((IMAGE_SIZE, IMAGE_SIZE)) # Resize image\n",
        "img = img_resize.convert('RGB')\n",
        "test_image[0] = preprocess_input(np.array(img, dtype=np.float32))"
      ],
      "execution_count": 91,
      "outputs": []
    },
    {
      "cell_type": "code",
      "metadata": {
        "colab": {
          "base_uri": "https://localhost:8080/"
        },
        "id": "iRcevFJay5_g",
        "outputId": "74daf52a-4a6f-465a-87ea-171d3b68224c"
      },
      "source": [
        "test_image[0].shape"
      ],
      "execution_count": 92,
      "outputs": [
        {
          "output_type": "execute_result",
          "data": {
            "text/plain": [
              "(128, 128, 3)"
            ]
          },
          "metadata": {
            "tags": []
          },
          "execution_count": 92
        }
      ]
    },
    {
      "cell_type": "code",
      "metadata": {
        "colab": {
          "base_uri": "https://localhost:8080/"
        },
        "id": "GRcmdyqUy2-W",
        "outputId": "8c6eaf3e-9a25-43e0-a3a0-123d864bd4b1"
      },
      "source": [
        "test_img = test_image[0].reshape(1,128,128,3)\n",
        "region = list(model.predict(test_img))[0]\n",
        "region"
      ],
      "execution_count": 93,
      "outputs": [
        {
          "output_type": "execute_result",
          "data": {
            "text/plain": [
              "array([ 16.119175,   8.271683, 109.72285 , 122.38336 ], dtype=float32)"
            ]
          },
          "metadata": {
            "tags": []
          },
          "execution_count": 93
        }
      ]
    },
    {
      "cell_type": "code",
      "metadata": {
        "colab": {
          "base_uri": "https://localhost:8080/"
        },
        "id": "xvSBzuoSzKLD",
        "outputId": "83c7fae6-8686-43a6-8f7b-c8a6aefe87e2"
      },
      "source": [
        "test_img.shape"
      ],
      "execution_count": 94,
      "outputs": [
        {
          "output_type": "execute_result",
          "data": {
            "text/plain": [
              "(1, 128, 128, 3)"
            ]
          },
          "metadata": {
            "tags": []
          },
          "execution_count": 94
        }
      ]
    },
    {
      "cell_type": "markdown",
      "metadata": {
        "id": "aGK4IjdaWGjR"
      },
      "source": [
        "### Predict the coordinates of the bounding box for the given test image"
      ]
    },
    {
      "cell_type": "markdown",
      "metadata": {
        "id": "CXbjVdLWWGjW"
      },
      "source": [
        "### Plot the test image using .imshow and draw a boundary box around the image with the coordinates obtained from the model"
      ]
    },
    {
      "cell_type": "code",
      "metadata": {
        "id": "t4Ah05MlWGjY",
        "colab": {
          "base_uri": "https://localhost:8080/",
          "height": 268
        },
        "outputId": "2cb0e913-222f-4046-d36d-63cd74c873e7"
      },
      "source": [
        "x0 = int(region[0] * image_width / IMAGE_SIZE) # Scale the BBox\n",
        "y0 = int(region[1] * image_height / IMAGE_SIZE)\n",
        "\n",
        "x1 = int((region[2]) * image_width / IMAGE_SIZE)\n",
        "y1 = int((region[3]) * image_height / IMAGE_SIZE)\n",
        "\n",
        "\n",
        "import matplotlib.pyplot as plt\n",
        "import matplotlib.patches as patches\n",
        "from PIL import Image\n",
        "import numpy as np\n",
        "\n",
        "# Create figure and axes\n",
        "fig,ax = plt.subplots(1)\n",
        "\n",
        "# Display the image\n",
        "ax.imshow(img_resize)\n",
        "\n",
        "# Create a Rectangle patch\n",
        "rect = patches.Rectangle((x0, y0), (x1 - x0) , (y1 - y0) , linewidth=2, edgecolor='r', facecolor='none')\n",
        "\n",
        "# Add the patch to the Axes\n",
        "ax.add_patch(rect)\n",
        "\n",
        "plt.show()"
      ],
      "execution_count": 95,
      "outputs": [
        {
          "output_type": "display_data",
          "data": {
            "image/png": "[encoded data removed]",
            "text/plain": [
              "<Figure size 432x288 with 1 Axes>"
            ]
          },
          "metadata": {
            "tags": [],
            "needs_background": "light"
          }
        }
      ]
    }
  ]
}
