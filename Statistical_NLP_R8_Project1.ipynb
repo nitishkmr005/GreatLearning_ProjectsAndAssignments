{
  "nbformat": 4,
  "nbformat_minor": 0,
  "metadata": {
    "kernelspec": {
      "display_name": "Python 3",
      "language": "python",
      "name": "python3"
    },
    "language_info": {
      "codemirror_mode": {
        "name": "ipython",
        "version": 3
      },
      "file_extension": ".py",
      "mimetype": "text/x-python",
      "name": "python",
      "nbconvert_exporter": "python",
      "pygments_lexer": "ipython3",
      "version": "3.8.3"
    },
    "colab": {
      "name": "Statistical_NLP_R8_Project1.ipynb",
      "provenance": [],
      "collapsed_sections": [],
      "toc_visible": true
    },
    "accelerator": "TPU"
  },
  "cells": [
    {
      "cell_type": "code",
      "metadata": {
        "id": "GYa47TZgWCyg"
      },
      "source": [
        "import numpy as np # linear algebra\n",
        "import pandas as pd # data processing, CSV file I/O (e.g. pd.read_csv)\n",
        "import re # regular expression\n",
        "import nltk"
      ],
      "execution_count": 1,
      "outputs": []
    },
    {
      "cell_type": "code",
      "metadata": {
        "id": "IS4gKIepWHUI"
      },
      "source": [
        "from google.colab import files\n",
        "\n",
        "!pip install -q kaggle"
      ],
      "execution_count": 2,
      "outputs": []
    },
    {
      "cell_type": "code",
      "metadata": {
        "id": "77rUQ1P2WrE-",
        "outputId": "d2aa8e2f-a465-4af4-9b36-b77f41c6c0e1",
        "colab": {
          "resources": {
            "http://localhost:8080/nbextensions/google.colab/files.js": {
              "data": "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",
              "ok": true,
              "headers": [
                [
                  "content-type",
                  "application/javascript"
                ]
              ],
              "status": 200,
              "status_text": ""
            }
          },
          "base_uri": "https://localhost:8080/",
          "height": 73
        }
      },
      "source": [
        "uploaded = files.upload()"
      ],
      "execution_count": 3,
      "outputs": [
        {
          "output_type": "display_data",
          "data": {
            "text/html": [
              "\n",
              "     <input type=\"file\" id=\"files-cce360d9-c59f-4082-ad35-ee51ac9c5429\" name=\"files[]\" multiple disabled\n",
              "        style=\"border:none\" />\n",
              "     <output id=\"result-cce360d9-c59f-4082-ad35-ee51ac9c5429\">\n",
              "      Upload widget is only available when the cell has been executed in the\n",
              "      current browser session. Please rerun this cell to enable.\n",
              "      </output>\n",
              "      <script src=\"/nbextensions/google.colab/files.js\"></script> "
            ],
            "text/plain": [
              "<IPython.core.display.HTML object>"
            ]
          },
          "metadata": {
            "tags": []
          }
        },
        {
          "output_type": "stream",
          "text": [
            "Saving kaggle.json to kaggle.json\n"
          ],
          "name": "stdout"
        }
      ]
    },
    {
      "cell_type": "code",
      "metadata": {
        "id": "utBAviuoWRsY"
      },
      "source": [
        "!mkdir -p ~/.kaggle\n",
        "!cp kaggle.json ~/.kaggle\n",
        "# Change the permission\n",
        "!chmod 600 ~/.kaggle/kaggle.json   "
      ],
      "execution_count": 4,
      "outputs": []
    },
    {
      "cell_type": "code",
      "metadata": {
        "id": "2DL7sLHQWh-6",
        "outputId": "06ac7d28-0e6a-4c6d-cc56-80b240f2b0e9",
        "colab": {
          "base_uri": "https://localhost:8080/",
          "height": 70
        }
      },
      "source": [
        "!kaggle datasets download -d rtatman/blog-authorship-corpus"
      ],
      "execution_count": 5,
      "outputs": [
        {
          "output_type": "stream",
          "text": [
            "Downloading blog-authorship-corpus.zip to /content\n",
            " 94% 273M/290M [00:02<00:00, 107MB/s]\n",
            "100% 290M/290M [00:02<00:00, 115MB/s]\n"
          ],
          "name": "stdout"
        }
      ]
    },
    {
      "cell_type": "code",
      "metadata": {
        "id": "3W7CJCepW0wv",
        "outputId": "4466faa0-1b91-42bd-aa4d-3f3692acc03a",
        "colab": {
          "base_uri": "https://localhost:8080/",
          "height": 35
        }
      },
      "source": [
        "from zipfile import ZipFile\n",
        "file_name = '/content/blog-authorship-corpus.zip'\n",
        "   \n",
        "with ZipFile(file_name,'r') as zip:\n",
        "  zip.extractall()\n",
        "  print('Done')"
      ],
      "execution_count": 6,
      "outputs": [
        {
          "output_type": "stream",
          "text": [
            "Done\n"
          ],
          "name": "stdout"
        }
      ]
    },
    {
      "cell_type": "markdown",
      "metadata": {
        "id": "RHB4EXx4WCyz"
      },
      "source": [
        "# 1. Load the dataset (5 points)\n",
        "a. Tip: As the dataset is large, use fewer rows. Check what is working well on your\n",
        "machine and decide accordingly."
      ]
    },
    {
      "cell_type": "code",
      "metadata": {
        "id": "szhFM6ufWCy1",
        "outputId": "f74de914-54fa-455d-c74f-e79066dcffd7",
        "colab": {
          "base_uri": "https://localhost:8080/",
          "height": 194
        }
      },
      "source": [
        "df=pd.read_csv(\"blogtext.csv\",nrows=10000)\n",
        "df.head()"
      ],
      "execution_count": 88,
      "outputs": [
        {
          "output_type": "execute_result",
          "data": {
            "text/html": [
              "<div>\n",
              "<style scoped>\n",
              "    .dataframe tbody tr th:only-of-type {\n",
              "        vertical-align: middle;\n",
              "    }\n",
              "\n",
              "    .dataframe tbody tr th {\n",
              "        vertical-align: top;\n",
              "    }\n",
              "\n",
              "    .dataframe thead th {\n",
              "        text-align: right;\n",
              "    }\n",
              "</style>\n",
              "<table border=\"1\" class=\"dataframe\">\n",
              "  <thead>\n",
              "    <tr style=\"text-align: right;\">\n",
              "      <th></th>\n",
              "      <th>id</th>\n",
              "      <th>gender</th>\n",
              "      <th>age</th>\n",
              "      <th>topic</th>\n",
              "      <th>sign</th>\n",
              "      <th>date</th>\n",
              "      <th>text</th>\n",
              "    </tr>\n",
              "  </thead>\n",
              "  <tbody>\n",
              "    <tr>\n",
              "      <th>0</th>\n",
              "      <td>2059027</td>\n",
              "      <td>male</td>\n",
              "      <td>15</td>\n",
              "      <td>Student</td>\n",
              "      <td>Leo</td>\n",
              "      <td>14,May,2004</td>\n",
              "      <td>Info has been found (+/- 100 pages,...</td>\n",
              "    </tr>\n",
              "    <tr>\n",
              "      <th>1</th>\n",
              "      <td>2059027</td>\n",
              "      <td>male</td>\n",
              "      <td>15</td>\n",
              "      <td>Student</td>\n",
              "      <td>Leo</td>\n",
              "      <td>13,May,2004</td>\n",
              "      <td>These are the team members:   Drewe...</td>\n",
              "    </tr>\n",
              "    <tr>\n",
              "      <th>2</th>\n",
              "      <td>2059027</td>\n",
              "      <td>male</td>\n",
              "      <td>15</td>\n",
              "      <td>Student</td>\n",
              "      <td>Leo</td>\n",
              "      <td>12,May,2004</td>\n",
              "      <td>In het kader van kernfusie op aarde...</td>\n",
              "    </tr>\n",
              "    <tr>\n",
              "      <th>3</th>\n",
              "      <td>2059027</td>\n",
              "      <td>male</td>\n",
              "      <td>15</td>\n",
              "      <td>Student</td>\n",
              "      <td>Leo</td>\n",
              "      <td>12,May,2004</td>\n",
              "      <td>testing!!!  testing!!!</td>\n",
              "    </tr>\n",
              "    <tr>\n",
              "      <th>4</th>\n",
              "      <td>3581210</td>\n",
              "      <td>male</td>\n",
              "      <td>33</td>\n",
              "      <td>InvestmentBanking</td>\n",
              "      <td>Aquarius</td>\n",
              "      <td>11,June,2004</td>\n",
              "      <td>Thanks to Yahoo!'s Toolbar I can ...</td>\n",
              "    </tr>\n",
              "  </tbody>\n",
              "</table>\n",
              "</div>"
            ],
            "text/plain": [
              "        id  ...                                               text\n",
              "0  2059027  ...             Info has been found (+/- 100 pages,...\n",
              "1  2059027  ...             These are the team members:   Drewe...\n",
              "2  2059027  ...             In het kader van kernfusie op aarde...\n",
              "3  2059027  ...                   testing!!!  testing!!!          \n",
              "4  3581210  ...               Thanks to Yahoo!'s Toolbar I can ...\n",
              "\n",
              "[5 rows x 7 columns]"
            ]
          },
          "metadata": {
            "tags": []
          },
          "execution_count": 88
        }
      ]
    },
    {
      "cell_type": "code",
      "metadata": {
        "id": "gziPTCqcWCzR",
        "outputId": "d2998cf9-ba79-44aa-f2cf-f7031f5470b1",
        "colab": {
          "base_uri": "https://localhost:8080/",
          "height": 35
        }
      },
      "source": [
        "df.shape"
      ],
      "execution_count": 89,
      "outputs": [
        {
          "output_type": "execute_result",
          "data": {
            "text/plain": [
              "(10000, 7)"
            ]
          },
          "metadata": {
            "tags": []
          },
          "execution_count": 89
        }
      ]
    },
    {
      "cell_type": "code",
      "metadata": {
        "id": "_nepRJgiWCzg",
        "outputId": "9132d1ff-bf45-4e48-b50c-0169bf75fe2b",
        "colab": {
          "base_uri": "https://localhost:8080/",
          "height": 159
        }
      },
      "source": [
        "df.isnull().sum()"
      ],
      "execution_count": 90,
      "outputs": [
        {
          "output_type": "execute_result",
          "data": {
            "text/plain": [
              "id        0\n",
              "gender    0\n",
              "age       0\n",
              "topic     0\n",
              "sign      0\n",
              "date      0\n",
              "text      0\n",
              "dtype: int64"
            ]
          },
          "metadata": {
            "tags": []
          },
          "execution_count": 90
        }
      ]
    },
    {
      "cell_type": "code",
      "metadata": {
        "id": "WLIvWifyWCzr"
      },
      "source": [
        "df.drop(['id','date'], axis=1, inplace=True)"
      ],
      "execution_count": 91,
      "outputs": []
    },
    {
      "cell_type": "code",
      "metadata": {
        "id": "lohTbd7sWCz2",
        "outputId": "1b09d6b9-c316-4a96-bb5b-ce47528985e3",
        "colab": {
          "base_uri": "https://localhost:8080/",
          "height": 194
        }
      },
      "source": [
        "df.head()"
      ],
      "execution_count": 92,
      "outputs": [
        {
          "output_type": "execute_result",
          "data": {
            "text/html": [
              "<div>\n",
              "<style scoped>\n",
              "    .dataframe tbody tr th:only-of-type {\n",
              "        vertical-align: middle;\n",
              "    }\n",
              "\n",
              "    .dataframe tbody tr th {\n",
              "        vertical-align: top;\n",
              "    }\n",
              "\n",
              "    .dataframe thead th {\n",
              "        text-align: right;\n",
              "    }\n",
              "</style>\n",
              "<table border=\"1\" class=\"dataframe\">\n",
              "  <thead>\n",
              "    <tr style=\"text-align: right;\">\n",
              "      <th></th>\n",
              "      <th>gender</th>\n",
              "      <th>age</th>\n",
              "      <th>topic</th>\n",
              "      <th>sign</th>\n",
              "      <th>text</th>\n",
              "    </tr>\n",
              "  </thead>\n",
              "  <tbody>\n",
              "    <tr>\n",
              "      <th>0</th>\n",
              "      <td>male</td>\n",
              "      <td>15</td>\n",
              "      <td>Student</td>\n",
              "      <td>Leo</td>\n",
              "      <td>Info has been found (+/- 100 pages,...</td>\n",
              "    </tr>\n",
              "    <tr>\n",
              "      <th>1</th>\n",
              "      <td>male</td>\n",
              "      <td>15</td>\n",
              "      <td>Student</td>\n",
              "      <td>Leo</td>\n",
              "      <td>These are the team members:   Drewe...</td>\n",
              "    </tr>\n",
              "    <tr>\n",
              "      <th>2</th>\n",
              "      <td>male</td>\n",
              "      <td>15</td>\n",
              "      <td>Student</td>\n",
              "      <td>Leo</td>\n",
              "      <td>In het kader van kernfusie op aarde...</td>\n",
              "    </tr>\n",
              "    <tr>\n",
              "      <th>3</th>\n",
              "      <td>male</td>\n",
              "      <td>15</td>\n",
              "      <td>Student</td>\n",
              "      <td>Leo</td>\n",
              "      <td>testing!!!  testing!!!</td>\n",
              "    </tr>\n",
              "    <tr>\n",
              "      <th>4</th>\n",
              "      <td>male</td>\n",
              "      <td>33</td>\n",
              "      <td>InvestmentBanking</td>\n",
              "      <td>Aquarius</td>\n",
              "      <td>Thanks to Yahoo!'s Toolbar I can ...</td>\n",
              "    </tr>\n",
              "  </tbody>\n",
              "</table>\n",
              "</div>"
            ],
            "text/plain": [
              "  gender  age  ...      sign                                               text\n",
              "0   male   15  ...       Leo             Info has been found (+/- 100 pages,...\n",
              "1   male   15  ...       Leo             These are the team members:   Drewe...\n",
              "2   male   15  ...       Leo             In het kader van kernfusie op aarde...\n",
              "3   male   15  ...       Leo                   testing!!!  testing!!!          \n",
              "4   male   33  ...  Aquarius               Thanks to Yahoo!'s Toolbar I can ...\n",
              "\n",
              "[5 rows x 5 columns]"
            ]
          },
          "metadata": {
            "tags": []
          },
          "execution_count": 92
        }
      ]
    },
    {
      "cell_type": "code",
      "metadata": {
        "id": "DnJzUJ4bWC0D",
        "outputId": "56817351-c1d3-43cf-94c3-86d791d5c015",
        "colab": {
          "base_uri": "https://localhost:8080/",
          "height": 230
        }
      },
      "source": [
        "df.info()"
      ],
      "execution_count": 93,
      "outputs": [
        {
          "output_type": "stream",
          "text": [
            "<class 'pandas.core.frame.DataFrame'>\n",
            "RangeIndex: 10000 entries, 0 to 9999\n",
            "Data columns (total 5 columns):\n",
            " #   Column  Non-Null Count  Dtype \n",
            "---  ------  --------------  ----- \n",
            " 0   gender  10000 non-null  object\n",
            " 1   age     10000 non-null  int64 \n",
            " 2   topic   10000 non-null  object\n",
            " 3   sign    10000 non-null  object\n",
            " 4   text    10000 non-null  object\n",
            "dtypes: int64(1), object(4)\n",
            "memory usage: 390.8+ KB\n"
          ],
          "name": "stdout"
        }
      ]
    },
    {
      "cell_type": "code",
      "metadata": {
        "id": "m4b5nz0FWC0Q"
      },
      "source": [
        "df['age']=df['age'].astype(object)"
      ],
      "execution_count": 94,
      "outputs": []
    },
    {
      "cell_type": "code",
      "metadata": {
        "id": "MvqpmEk4WC0k",
        "outputId": "fbfb6ddc-a601-4098-d610-6290263e725a",
        "colab": {
          "base_uri": "https://localhost:8080/",
          "height": 230
        }
      },
      "source": [
        "df.info()"
      ],
      "execution_count": 95,
      "outputs": [
        {
          "output_type": "stream",
          "text": [
            "<class 'pandas.core.frame.DataFrame'>\n",
            "RangeIndex: 10000 entries, 0 to 9999\n",
            "Data columns (total 5 columns):\n",
            " #   Column  Non-Null Count  Dtype \n",
            "---  ------  --------------  ----- \n",
            " 0   gender  10000 non-null  object\n",
            " 1   age     10000 non-null  object\n",
            " 2   topic   10000 non-null  object\n",
            " 3   sign    10000 non-null  object\n",
            " 4   text    10000 non-null  object\n",
            "dtypes: object(5)\n",
            "memory usage: 390.8+ KB\n"
          ],
          "name": "stdout"
        }
      ]
    },
    {
      "cell_type": "markdown",
      "metadata": {
        "id": "PtiXtovqWC07"
      },
      "source": [
        "# 2. Preprocess rows of the “text” column (7.5 points)\n",
        "+ Remove unwanted characters\n",
        "+ Convert text to lowercase\n",
        "+ Remove unwanted spaces\n",
        "+ Remove stopwords"
      ]
    },
    {
      "cell_type": "code",
      "metadata": {
        "id": "_vuMBznBWC0_",
        "outputId": "7b311fc1-cc49-4465-a47d-a906272599f6",
        "colab": {
          "base_uri": "https://localhost:8080/",
          "height": 194
        }
      },
      "source": [
        "#from nltk.stem import PorterStemmer\n",
        "#stemmer = PorterStemmer()\n",
        "df['clean_data']=df['text'].apply(lambda x: re.sub(r'[^A-Za-z]+',' ',x))\n",
        "df['clean_data']=df['clean_data'].apply(lambda x: x.lower())\n",
        "df['clean_data']=df['clean_data'].apply(lambda x: x.strip())\n",
        "#df['clean_data']=df['clean_data'].apply(lambda x: stemmer.stem(x))\n",
        "df.head()"
      ],
      "execution_count": 96,
      "outputs": [
        {
          "output_type": "execute_result",
          "data": {
            "text/html": [
              "<div>\n",
              "<style scoped>\n",
              "    .dataframe tbody tr th:only-of-type {\n",
              "        vertical-align: middle;\n",
              "    }\n",
              "\n",
              "    .dataframe tbody tr th {\n",
              "        vertical-align: top;\n",
              "    }\n",
              "\n",
              "    .dataframe thead th {\n",
              "        text-align: right;\n",
              "    }\n",
              "</style>\n",
              "<table border=\"1\" class=\"dataframe\">\n",
              "  <thead>\n",
              "    <tr style=\"text-align: right;\">\n",
              "      <th></th>\n",
              "      <th>gender</th>\n",
              "      <th>age</th>\n",
              "      <th>topic</th>\n",
              "      <th>sign</th>\n",
              "      <th>text</th>\n",
              "      <th>clean_data</th>\n",
              "    </tr>\n",
              "  </thead>\n",
              "  <tbody>\n",
              "    <tr>\n",
              "      <th>0</th>\n",
              "      <td>male</td>\n",
              "      <td>15</td>\n",
              "      <td>Student</td>\n",
              "      <td>Leo</td>\n",
              "      <td>Info has been found (+/- 100 pages,...</td>\n",
              "      <td>info has been found pages and mb of pdf files ...</td>\n",
              "    </tr>\n",
              "    <tr>\n",
              "      <th>1</th>\n",
              "      <td>male</td>\n",
              "      <td>15</td>\n",
              "      <td>Student</td>\n",
              "      <td>Leo</td>\n",
              "      <td>These are the team members:   Drewe...</td>\n",
              "      <td>these are the team members drewes van der laag...</td>\n",
              "    </tr>\n",
              "    <tr>\n",
              "      <th>2</th>\n",
              "      <td>male</td>\n",
              "      <td>15</td>\n",
              "      <td>Student</td>\n",
              "      <td>Leo</td>\n",
              "      <td>In het kader van kernfusie op aarde...</td>\n",
              "      <td>in het kader van kernfusie op aarde maak je ei...</td>\n",
              "    </tr>\n",
              "    <tr>\n",
              "      <th>3</th>\n",
              "      <td>male</td>\n",
              "      <td>15</td>\n",
              "      <td>Student</td>\n",
              "      <td>Leo</td>\n",
              "      <td>testing!!!  testing!!!</td>\n",
              "      <td>testing testing</td>\n",
              "    </tr>\n",
              "    <tr>\n",
              "      <th>4</th>\n",
              "      <td>male</td>\n",
              "      <td>33</td>\n",
              "      <td>InvestmentBanking</td>\n",
              "      <td>Aquarius</td>\n",
              "      <td>Thanks to Yahoo!'s Toolbar I can ...</td>\n",
              "      <td>thanks to yahoo s toolbar i can now capture th...</td>\n",
              "    </tr>\n",
              "  </tbody>\n",
              "</table>\n",
              "</div>"
            ],
            "text/plain": [
              "  gender  ...                                         clean_data\n",
              "0   male  ...  info has been found pages and mb of pdf files ...\n",
              "1   male  ...  these are the team members drewes van der laag...\n",
              "2   male  ...  in het kader van kernfusie op aarde maak je ei...\n",
              "3   male  ...                                    testing testing\n",
              "4   male  ...  thanks to yahoo s toolbar i can now capture th...\n",
              "\n",
              "[5 rows x 6 columns]"
            ]
          },
          "metadata": {
            "tags": []
          },
          "execution_count": 96
        }
      ]
    },
    {
      "cell_type": "code",
      "metadata": {
        "id": "7r_P_9sPWC1Q",
        "outputId": "1fe14cb4-e3dc-440f-9989-3afc9355c6da",
        "colab": {
          "base_uri": "https://localhost:8080/",
          "height": 70
        }
      },
      "source": [
        "import nltk\n",
        "nltk.download('stopwords')"
      ],
      "execution_count": 97,
      "outputs": [
        {
          "output_type": "stream",
          "text": [
            "[nltk_data] Downloading package stopwords to /root/nltk_data...\n",
            "[nltk_data]   Package stopwords is already up-to-date!\n"
          ],
          "name": "stdout"
        },
        {
          "output_type": "execute_result",
          "data": {
            "text/plain": [
              "True"
            ]
          },
          "metadata": {
            "tags": []
          },
          "execution_count": 97
        }
      ]
    },
    {
      "cell_type": "code",
      "metadata": {
        "id": "nsKHpDQaYRQV",
        "outputId": "772b1af0-0ef7-4b1b-ba3e-d1d250c71065",
        "colab": {
          "base_uri": "https://localhost:8080/",
          "height": 194
        }
      },
      "source": [
        "from nltk.corpus import stopwords\n",
        "stopwords=set(stopwords.words('english'))\n",
        "df['clean_data']=df['clean_data'].apply(lambda x: ' '.join([words for words in x.split() if words not in stopwords]))\n",
        "df.head()"
      ],
      "execution_count": 98,
      "outputs": [
        {
          "output_type": "execute_result",
          "data": {
            "text/html": [
              "<div>\n",
              "<style scoped>\n",
              "    .dataframe tbody tr th:only-of-type {\n",
              "        vertical-align: middle;\n",
              "    }\n",
              "\n",
              "    .dataframe tbody tr th {\n",
              "        vertical-align: top;\n",
              "    }\n",
              "\n",
              "    .dataframe thead th {\n",
              "        text-align: right;\n",
              "    }\n",
              "</style>\n",
              "<table border=\"1\" class=\"dataframe\">\n",
              "  <thead>\n",
              "    <tr style=\"text-align: right;\">\n",
              "      <th></th>\n",
              "      <th>gender</th>\n",
              "      <th>age</th>\n",
              "      <th>topic</th>\n",
              "      <th>sign</th>\n",
              "      <th>text</th>\n",
              "      <th>clean_data</th>\n",
              "    </tr>\n",
              "  </thead>\n",
              "  <tbody>\n",
              "    <tr>\n",
              "      <th>0</th>\n",
              "      <td>male</td>\n",
              "      <td>15</td>\n",
              "      <td>Student</td>\n",
              "      <td>Leo</td>\n",
              "      <td>Info has been found (+/- 100 pages,...</td>\n",
              "      <td>info found pages mb pdf files wait untill team...</td>\n",
              "    </tr>\n",
              "    <tr>\n",
              "      <th>1</th>\n",
              "      <td>male</td>\n",
              "      <td>15</td>\n",
              "      <td>Student</td>\n",
              "      <td>Leo</td>\n",
              "      <td>These are the team members:   Drewe...</td>\n",
              "      <td>team members drewes van der laag urllink mail ...</td>\n",
              "    </tr>\n",
              "    <tr>\n",
              "      <th>2</th>\n",
              "      <td>male</td>\n",
              "      <td>15</td>\n",
              "      <td>Student</td>\n",
              "      <td>Leo</td>\n",
              "      <td>In het kader van kernfusie op aarde...</td>\n",
              "      <td>het kader van kernfusie op aarde maak je eigen...</td>\n",
              "    </tr>\n",
              "    <tr>\n",
              "      <th>3</th>\n",
              "      <td>male</td>\n",
              "      <td>15</td>\n",
              "      <td>Student</td>\n",
              "      <td>Leo</td>\n",
              "      <td>testing!!!  testing!!!</td>\n",
              "      <td>testing testing</td>\n",
              "    </tr>\n",
              "    <tr>\n",
              "      <th>4</th>\n",
              "      <td>male</td>\n",
              "      <td>33</td>\n",
              "      <td>InvestmentBanking</td>\n",
              "      <td>Aquarius</td>\n",
              "      <td>Thanks to Yahoo!'s Toolbar I can ...</td>\n",
              "      <td>thanks yahoo toolbar capture urls popups means...</td>\n",
              "    </tr>\n",
              "  </tbody>\n",
              "</table>\n",
              "</div>"
            ],
            "text/plain": [
              "  gender  ...                                         clean_data\n",
              "0   male  ...  info found pages mb pdf files wait untill team...\n",
              "1   male  ...  team members drewes van der laag urllink mail ...\n",
              "2   male  ...  het kader van kernfusie op aarde maak je eigen...\n",
              "3   male  ...                                    testing testing\n",
              "4   male  ...  thanks yahoo toolbar capture urls popups means...\n",
              "\n",
              "[5 rows x 6 columns]"
            ]
          },
          "metadata": {
            "tags": []
          },
          "execution_count": 98
        }
      ]
    },
    {
      "cell_type": "markdown",
      "metadata": {
        "id": "qdsjNNz5WC1l"
      },
      "source": [
        "# 3. As we want to make this into a multi-label classification problem, you are required to merge all the label columns together, so that we have all the labels together for a particular sentence (7.5 points)\n",
        "+ Label columns to merge: “gender”, “age”, “topic”, “sign”\n",
        "+ After completing the previous step, there should be only two columns in your data\n",
        "frame i.e. “text” and “labels” as shown in the below image"
      ]
    },
    {
      "cell_type": "code",
      "metadata": {
        "id": "aEyN1JlIWC1p",
        "outputId": "38be47e6-0432-4ea2-8b5f-22a9ba5c1c2c",
        "colab": {
          "base_uri": "https://localhost:8080/",
          "height": 194
        }
      },
      "source": [
        "df['labels']=df.apply(lambda col: [col['gender'],str(col['age']),col['topic'],col['sign']], axis=1)\n",
        "df.head()"
      ],
      "execution_count": 99,
      "outputs": [
        {
          "output_type": "execute_result",
          "data": {
            "text/html": [
              "<div>\n",
              "<style scoped>\n",
              "    .dataframe tbody tr th:only-of-type {\n",
              "        vertical-align: middle;\n",
              "    }\n",
              "\n",
              "    .dataframe tbody tr th {\n",
              "        vertical-align: top;\n",
              "    }\n",
              "\n",
              "    .dataframe thead th {\n",
              "        text-align: right;\n",
              "    }\n",
              "</style>\n",
              "<table border=\"1\" class=\"dataframe\">\n",
              "  <thead>\n",
              "    <tr style=\"text-align: right;\">\n",
              "      <th></th>\n",
              "      <th>gender</th>\n",
              "      <th>age</th>\n",
              "      <th>topic</th>\n",
              "      <th>sign</th>\n",
              "      <th>text</th>\n",
              "      <th>clean_data</th>\n",
              "      <th>labels</th>\n",
              "    </tr>\n",
              "  </thead>\n",
              "  <tbody>\n",
              "    <tr>\n",
              "      <th>0</th>\n",
              "      <td>male</td>\n",
              "      <td>15</td>\n",
              "      <td>Student</td>\n",
              "      <td>Leo</td>\n",
              "      <td>Info has been found (+/- 100 pages,...</td>\n",
              "      <td>info found pages mb pdf files wait untill team...</td>\n",
              "      <td>[male, 15, Student, Leo]</td>\n",
              "    </tr>\n",
              "    <tr>\n",
              "      <th>1</th>\n",
              "      <td>male</td>\n",
              "      <td>15</td>\n",
              "      <td>Student</td>\n",
              "      <td>Leo</td>\n",
              "      <td>These are the team members:   Drewe...</td>\n",
              "      <td>team members drewes van der laag urllink mail ...</td>\n",
              "      <td>[male, 15, Student, Leo]</td>\n",
              "    </tr>\n",
              "    <tr>\n",
              "      <th>2</th>\n",
              "      <td>male</td>\n",
              "      <td>15</td>\n",
              "      <td>Student</td>\n",
              "      <td>Leo</td>\n",
              "      <td>In het kader van kernfusie op aarde...</td>\n",
              "      <td>het kader van kernfusie op aarde maak je eigen...</td>\n",
              "      <td>[male, 15, Student, Leo]</td>\n",
              "    </tr>\n",
              "    <tr>\n",
              "      <th>3</th>\n",
              "      <td>male</td>\n",
              "      <td>15</td>\n",
              "      <td>Student</td>\n",
              "      <td>Leo</td>\n",
              "      <td>testing!!!  testing!!!</td>\n",
              "      <td>testing testing</td>\n",
              "      <td>[male, 15, Student, Leo]</td>\n",
              "    </tr>\n",
              "    <tr>\n",
              "      <th>4</th>\n",
              "      <td>male</td>\n",
              "      <td>33</td>\n",
              "      <td>InvestmentBanking</td>\n",
              "      <td>Aquarius</td>\n",
              "      <td>Thanks to Yahoo!'s Toolbar I can ...</td>\n",
              "      <td>thanks yahoo toolbar capture urls popups means...</td>\n",
              "      <td>[male, 33, InvestmentBanking, Aquarius]</td>\n",
              "    </tr>\n",
              "  </tbody>\n",
              "</table>\n",
              "</div>"
            ],
            "text/plain": [
              "  gender  ...                                   labels\n",
              "0   male  ...                 [male, 15, Student, Leo]\n",
              "1   male  ...                 [male, 15, Student, Leo]\n",
              "2   male  ...                 [male, 15, Student, Leo]\n",
              "3   male  ...                 [male, 15, Student, Leo]\n",
              "4   male  ...  [male, 33, InvestmentBanking, Aquarius]\n",
              "\n",
              "[5 rows x 7 columns]"
            ]
          },
          "metadata": {
            "tags": []
          },
          "execution_count": 99
        }
      ]
    },
    {
      "cell_type": "code",
      "metadata": {
        "id": "7Hw32_7xWC18",
        "outputId": "7cb7af8d-faaa-4654-a165-2a3ffb927ea2",
        "colab": {
          "base_uri": "https://localhost:8080/",
          "height": 194
        }
      },
      "source": [
        "df.drop(['gender','age','topic','sign','text'], axis=1, inplace=True)\n",
        "df.head()"
      ],
      "execution_count": 100,
      "outputs": [
        {
          "output_type": "execute_result",
          "data": {
            "text/html": [
              "<div>\n",
              "<style scoped>\n",
              "    .dataframe tbody tr th:only-of-type {\n",
              "        vertical-align: middle;\n",
              "    }\n",
              "\n",
              "    .dataframe tbody tr th {\n",
              "        vertical-align: top;\n",
              "    }\n",
              "\n",
              "    .dataframe thead th {\n",
              "        text-align: right;\n",
              "    }\n",
              "</style>\n",
              "<table border=\"1\" class=\"dataframe\">\n",
              "  <thead>\n",
              "    <tr style=\"text-align: right;\">\n",
              "      <th></th>\n",
              "      <th>clean_data</th>\n",
              "      <th>labels</th>\n",
              "    </tr>\n",
              "  </thead>\n",
              "  <tbody>\n",
              "    <tr>\n",
              "      <th>0</th>\n",
              "      <td>info found pages mb pdf files wait untill team...</td>\n",
              "      <td>[male, 15, Student, Leo]</td>\n",
              "    </tr>\n",
              "    <tr>\n",
              "      <th>1</th>\n",
              "      <td>team members drewes van der laag urllink mail ...</td>\n",
              "      <td>[male, 15, Student, Leo]</td>\n",
              "    </tr>\n",
              "    <tr>\n",
              "      <th>2</th>\n",
              "      <td>het kader van kernfusie op aarde maak je eigen...</td>\n",
              "      <td>[male, 15, Student, Leo]</td>\n",
              "    </tr>\n",
              "    <tr>\n",
              "      <th>3</th>\n",
              "      <td>testing testing</td>\n",
              "      <td>[male, 15, Student, Leo]</td>\n",
              "    </tr>\n",
              "    <tr>\n",
              "      <th>4</th>\n",
              "      <td>thanks yahoo toolbar capture urls popups means...</td>\n",
              "      <td>[male, 33, InvestmentBanking, Aquarius]</td>\n",
              "    </tr>\n",
              "  </tbody>\n",
              "</table>\n",
              "</div>"
            ],
            "text/plain": [
              "                                          clean_data                                   labels\n",
              "0  info found pages mb pdf files wait untill team...                 [male, 15, Student, Leo]\n",
              "1  team members drewes van der laag urllink mail ...                 [male, 15, Student, Leo]\n",
              "2  het kader van kernfusie op aarde maak je eigen...                 [male, 15, Student, Leo]\n",
              "3                                    testing testing                 [male, 15, Student, Leo]\n",
              "4  thanks yahoo toolbar capture urls popups means...  [male, 33, InvestmentBanking, Aquarius]"
            ]
          },
          "metadata": {
            "tags": []
          },
          "execution_count": 100
        }
      ]
    },
    {
      "cell_type": "markdown",
      "metadata": {
        "id": "ryS7_9p3WC3j"
      },
      "source": [
        "# 6. Create a dictionary to get the count of every label i.e. the key will be label name and value will be the total count of the label. Check below image for reference (5 points)"
      ]
    },
    {
      "cell_type": "code",
      "metadata": {
        "id": "McYIqoG1WC3k"
      },
      "source": [
        "label_counts=dict()\n",
        "\n",
        "for labels in df.labels.values:\n",
        "    for label in labels:\n",
        "        if label in label_counts:\n",
        "            label_counts[label]+=1\n",
        "        else:\n",
        "            label_counts[label]=1"
      ],
      "execution_count": 101,
      "outputs": []
    },
    {
      "cell_type": "code",
      "metadata": {
        "id": "o3F1LPFfoycK",
        "outputId": "58659cd6-340d-4c90-d049-07d0682b7a12",
        "colab": {
          "base_uri": "https://localhost:8080/",
          "height": 1000
        }
      },
      "source": [
        "label_counts"
      ],
      "execution_count": 102,
      "outputs": [
        {
          "output_type": "execute_result",
          "data": {
            "text/plain": [
              "{'13': 42,\n",
              " '14': 212,\n",
              " '15': 602,\n",
              " '16': 440,\n",
              " '17': 1185,\n",
              " '23': 253,\n",
              " '24': 655,\n",
              " '25': 386,\n",
              " '26': 234,\n",
              " '27': 1054,\n",
              " '33': 136,\n",
              " '34': 553,\n",
              " '35': 2315,\n",
              " '36': 1708,\n",
              " '37': 33,\n",
              " '38': 46,\n",
              " '39': 79,\n",
              " '40': 1,\n",
              " '41': 20,\n",
              " '42': 14,\n",
              " '43': 6,\n",
              " '44': 3,\n",
              " '45': 16,\n",
              " '46': 7,\n",
              " 'Accounting': 4,\n",
              " 'Aquarius': 571,\n",
              " 'Aries': 4198,\n",
              " 'Arts': 45,\n",
              " 'Automotive': 14,\n",
              " 'Banking': 16,\n",
              " 'BusinessServices': 91,\n",
              " 'Cancer': 504,\n",
              " 'Capricorn': 215,\n",
              " 'Communications-Media': 99,\n",
              " 'Consulting': 21,\n",
              " 'Education': 270,\n",
              " 'Engineering': 127,\n",
              " 'Fashion': 1622,\n",
              " 'Gemini': 150,\n",
              " 'HumanResources': 2,\n",
              " 'Internet': 118,\n",
              " 'InvestmentBanking': 70,\n",
              " 'Law': 11,\n",
              " 'LawEnforcement-Security': 10,\n",
              " 'Leo': 301,\n",
              " 'Libra': 491,\n",
              " 'Marketing': 156,\n",
              " 'Museums-Libraries': 17,\n",
              " 'Non-Profit': 71,\n",
              " 'Pisces': 454,\n",
              " 'Publishing': 4,\n",
              " 'Religion': 9,\n",
              " 'Sagittarius': 1097,\n",
              " 'Science': 63,\n",
              " 'Scorpio': 971,\n",
              " 'Sports-Recreation': 80,\n",
              " 'Student': 1137,\n",
              " 'Taurus': 812,\n",
              " 'Technology': 2654,\n",
              " 'Telecommunications': 2,\n",
              " 'Virgo': 236,\n",
              " 'female': 4084,\n",
              " 'indUnk': 3287,\n",
              " 'male': 5916}"
            ]
          },
          "metadata": {
            "tags": []
          },
          "execution_count": 102
        }
      ]
    },
    {
      "cell_type": "markdown",
      "metadata": {
        "id": "H1h1vCkUWC3n"
      },
      "source": [
        "# Transform the labels - (7.5 points)\n",
        "As we have noticed before, in this task each example can have multiple tags. To deal with\n",
        "such kind of prediction, we need to transform labels in a binary form and the prediction will be\n",
        "+ mask of 0s and 1s. For this purpose, it is convenient to use MultiLabelBinarizer from sklearn\n",
        "+ Convert your train and test labels using MultiLabelBinarizer"
      ]
    },
    {
      "cell_type": "code",
      "metadata": {
        "id": "zwXGLwWhWC3o"
      },
      "source": [
        "from sklearn.preprocessing import MultiLabelBinarizer"
      ],
      "execution_count": 103,
      "outputs": []
    },
    {
      "cell_type": "code",
      "metadata": {
        "id": "Z2YrnbdOWC3r"
      },
      "source": [
        "mlb = MultiLabelBinarizer(classes=sorted(label_counts.keys()))"
      ],
      "execution_count": 104,
      "outputs": []
    },
    {
      "cell_type": "code",
      "metadata": {
        "id": "7YtaDoN9WC3u",
        "outputId": "6de7e406-96ce-4e7a-ac9e-f92114a6ea6f",
        "colab": {
          "base_uri": "https://localhost:8080/",
          "height": 141
        }
      },
      "source": [
        "Y=mlb.fit_transform(df.labels)\n",
        "Y"
      ],
      "execution_count": 105,
      "outputs": [
        {
          "output_type": "execute_result",
          "data": {
            "text/plain": [
              "array([[0, 0, 1, ..., 0, 0, 1],\n",
              "       [0, 0, 1, ..., 0, 0, 1],\n",
              "       [0, 0, 1, ..., 0, 0, 1],\n",
              "       ...,\n",
              "       [0, 0, 0, ..., 1, 1, 0],\n",
              "       [0, 0, 0, ..., 1, 1, 0],\n",
              "       [0, 0, 0, ..., 1, 1, 0]])"
            ]
          },
          "metadata": {
            "tags": []
          },
          "execution_count": 105
        }
      ]
    },
    {
      "cell_type": "code",
      "metadata": {
        "id": "XzDoGw0JWC3x",
        "outputId": "c0275a16-66b5-4e4b-8c70-3d506ee8c4a1",
        "colab": {
          "base_uri": "https://localhost:8080/",
          "height": 35
        }
      },
      "source": [
        "# Just for testing purpose \n",
        "mlb.inverse_transform(Y)[0]"
      ],
      "execution_count": 106,
      "outputs": [
        {
          "output_type": "execute_result",
          "data": {
            "text/plain": [
              "('15', 'Leo', 'Student', 'male')"
            ]
          },
          "metadata": {
            "tags": []
          },
          "execution_count": 106
        }
      ]
    },
    {
      "cell_type": "code",
      "metadata": {
        "scrolled": true,
        "id": "Pxj5nuDUWC33",
        "outputId": "7bc0fa34-c927-4c76-bf49-9e446cea63df",
        "colab": {
          "base_uri": "https://localhost:8080/",
          "height": 195
        }
      },
      "source": [
        "from pprint import pprint \n",
        "pprint(list(mlb.classes_),compact=True)"
      ],
      "execution_count": 107,
      "outputs": [
        {
          "output_type": "stream",
          "text": [
            "['13', '14', '15', '16', '17', '23', '24', '25', '26', '27', '33', '34', '35',\n",
            " '36', '37', '38', '39', '40', '41', '42', '43', '44', '45', '46', 'Accounting',\n",
            " 'Aquarius', 'Aries', 'Arts', 'Automotive', 'Banking', 'BusinessServices',\n",
            " 'Cancer', 'Capricorn', 'Communications-Media', 'Consulting', 'Education',\n",
            " 'Engineering', 'Fashion', 'Gemini', 'HumanResources', 'Internet',\n",
            " 'InvestmentBanking', 'Law', 'LawEnforcement-Security', 'Leo', 'Libra',\n",
            " 'Marketing', 'Museums-Libraries', 'Non-Profit', 'Pisces', 'Publishing',\n",
            " 'Religion', 'Sagittarius', 'Science', 'Scorpio', 'Sports-Recreation',\n",
            " 'Student', 'Taurus', 'Technology', 'Telecommunications', 'Virgo', 'female',\n",
            " 'indUnk', 'male']\n"
          ],
          "name": "stdout"
        }
      ]
    },
    {
      "cell_type": "markdown",
      "metadata": {
        "id": "6-0ePrrdWC2S"
      },
      "source": [
        "# 4. Separate features and labels, and split the data into training and testing (5 points)"
      ]
    },
    {
      "cell_type": "code",
      "metadata": {
        "id": "X3clZTsHWC2V"
      },
      "source": [
        "X=df['clean_data']"
      ],
      "execution_count": 108,
      "outputs": []
    },
    {
      "cell_type": "code",
      "metadata": {
        "id": "QqwngoxrWC2j",
        "outputId": "fd45d34b-b524-4321-afa5-908f0052d8ab",
        "colab": {
          "base_uri": "https://localhost:8080/",
          "height": 35
        }
      },
      "source": [
        "from sklearn.model_selection import train_test_split\n",
        "Xtrain,Xtest,Ytrain,Ytest=train_test_split(X,Y,test_size=0.2)\n",
        "Xtrain.shape,Xtest.shape"
      ],
      "execution_count": 109,
      "outputs": [
        {
          "output_type": "execute_result",
          "data": {
            "text/plain": [
              "((8000,), (2000,))"
            ]
          },
          "metadata": {
            "tags": []
          },
          "execution_count": 109
        }
      ]
    },
    {
      "cell_type": "code",
      "metadata": {
        "id": "n6hRDFpfWC2u"
      },
      "source": [
        "x_train = Xtrain.copy()\n",
        "x_test = Xtest.copy()"
      ],
      "execution_count": 110,
      "outputs": []
    },
    {
      "cell_type": "markdown",
      "metadata": {
        "id": "8caSt6dCWC21"
      },
      "source": [
        "# Vectorize the features (5 points)\n",
        "+ Create a Bag of Words using count vectorizer\n",
        "  * Use ngram_range=(1, 2)\n",
        "  * Vectorize training and testing features\n",
        "+ Print the term-document matrix"
      ]
    },
    {
      "cell_type": "code",
      "metadata": {
        "id": "30dIVuWAWC22"
      },
      "source": [
        "from sklearn.feature_extraction.text import CountVectorizer\n",
        "tvect_ngram = CountVectorizer(binary=True,ngram_range=(1,2))"
      ],
      "execution_count": 111,
      "outputs": []
    },
    {
      "cell_type": "code",
      "metadata": {
        "id": "Y7vXE31IWC26",
        "outputId": "200bbc84-1ebf-4b67-d0ab-a3358669cd7e",
        "colab": {
          "base_uri": "https://localhost:8080/",
          "height": 35
        }
      },
      "source": [
        "tvect_ngram.fit(Xtrain)\n",
        "len(tvect_ngram.vocabulary_)"
      ],
      "execution_count": 112,
      "outputs": [
        {
          "output_type": "execute_result",
          "data": {
            "text/plain": [
              "536768"
            ]
          },
          "metadata": {
            "tags": []
          },
          "execution_count": 112
        }
      ]
    },
    {
      "cell_type": "code",
      "metadata": {
        "id": "RkmgQ-gMWC2-",
        "outputId": "f5db081d-c2c1-48f4-8d13-f7d9e765504c",
        "colab": {
          "base_uri": "https://localhost:8080/",
          "height": 35
        }
      },
      "source": [
        "tvect_ngram.get_feature_names()[:5]"
      ],
      "execution_count": 113,
      "outputs": [
        {
          "output_type": "execute_result",
          "data": {
            "text/plain": [
              "['aa', 'aa anger', 'aa keeps', 'aa nice', 'aa sd']"
            ]
          },
          "metadata": {
            "tags": []
          },
          "execution_count": 113
        }
      ]
    },
    {
      "cell_type": "code",
      "metadata": {
        "id": "_OtTDe_VWC3C"
      },
      "source": [
        "X_train_ct = tvect_ngram.transform(Xtrain)"
      ],
      "execution_count": 114,
      "outputs": []
    },
    {
      "cell_type": "code",
      "metadata": {
        "id": "YXZbHyooWC3H",
        "outputId": "e5919fe0-b241-48d0-c0b3-cc7c44afa228",
        "colab": {
          "base_uri": "https://localhost:8080/",
          "height": 35
        }
      },
      "source": [
        "#Size of Document Term Matrix\n",
        "X_train_ct.shape"
      ],
      "execution_count": 115,
      "outputs": [
        {
          "output_type": "execute_result",
          "data": {
            "text/plain": [
              "(8000, 536768)"
            ]
          },
          "metadata": {
            "tags": []
          },
          "execution_count": 115
        }
      ]
    },
    {
      "cell_type": "code",
      "metadata": {
        "id": "kHjcSnWrWC3L"
      },
      "source": [
        "X_test_ct = tvect_ngram.transform(Xtest)"
      ],
      "execution_count": 116,
      "outputs": []
    },
    {
      "cell_type": "code",
      "metadata": {
        "id": "N4-ILPk8WC3Q",
        "outputId": "c84e2ea6-f7b8-4928-993d-bd0a9166356b",
        "colab": {
          "base_uri": "https://localhost:8080/",
          "height": 35
        }
      },
      "source": [
        "X_test_ct.shape"
      ],
      "execution_count": 117,
      "outputs": [
        {
          "output_type": "execute_result",
          "data": {
            "text/plain": [
              "(2000, 536768)"
            ]
          },
          "metadata": {
            "tags": []
          },
          "execution_count": 117
        }
      ]
    },
    {
      "cell_type": "code",
      "metadata": {
        "id": "Vn3GMrHWWC3V",
        "outputId": "bc6b0f02-1787-4813-a3dd-64cd64e2a1a0",
        "colab": {
          "base_uri": "https://localhost:8080/",
          "height": 35
        }
      },
      "source": [
        "tvect_ngram.vocabulary_['angry']"
      ],
      "execution_count": 118,
      "outputs": [
        {
          "output_type": "execute_result",
          "data": {
            "text/plain": [
              "16239"
            ]
          },
          "metadata": {
            "tags": []
          },
          "execution_count": 118
        }
      ]
    },
    {
      "cell_type": "code",
      "metadata": {
        "id": "yin4Ud4YWC3a",
        "outputId": "11ccff94-3b3e-4116-efb3-8e54c61b661c",
        "colab": {
          "base_uri": "https://localhost:8080/",
          "height": 142
        }
      },
      "source": [
        "list(x_train)[0]"
      ],
      "execution_count": 119,
      "outputs": [
        {
          "output_type": "execute_result",
          "data": {
            "application/vnd.google.colaboratory.intrinsic+json": {
              "type": "string"
            },
            "text/plain": [
              "'worship wal mart thursdays always awesome today especially started morning heavy heart weary worries headed women bible study slapped happy face today different since actually study gathering rest women groups worshipping fellowshiping brunch sharing god past six weeks worship time incredible really special group women passionately love god sang song new refrain kept talking bow god throne kings lay crowns instant god reminded worries worth heart lifted laid breathed sigh relief burden lifted remembered carry alone easy get caught crazy life lose sight really matters also great time fellowship two gals age three us knew traded small talk week never really talked hung morning event enjoyed getting surface little bit transplanted times could see eyes desperate someone connect beautiful thing wonderful gathering headed super wal mart grocery shopping love hate relationship wal mart expound sometime today love day breezed groceries got line oh lines realized forgotten pick things missionary china one couples life group posted message needs lady daughter missionaries china gal mom heading china next week taking suitcase much needed supplies items three year old daughter felt heaviness heart start creep back turned cart around headed pharmacy aisles stared rows generic brand tylenol started conversation god god torture know badly want help people know much ked enjoy blessing people cash going come paid bills last night saw check registry hurts really hurts able give like want give picked bottle generic tylenol squeeze grocery budget looked bottle hand feel like much k get tube lanacane still feel right started really talk god head course people aisle remembered ked said could use date money help people always find free things sounded good grabbed envelope purse started feel better movie dinner need picked kid toothbrush kids toothpaste looked list items mother said three year old daughter needed pajamas winnie pooh possible sandals socks looked purse realized brought one envelope money labeled haircut need haircut wait two weeks longer yeah need let go find winnie pooh pajamas suddenly spirit lifted first time understood sacrificial giving never give something give someone else previously always gave really wanted excess want think starving go one income building business things going managed tightly awhile k really freeing worship wal mart today shopped little girl across globe access needs sandals p j much ked need see movie get haircut still wish could done envelopes money unless wanted eat two weeks electric turned stop right hope god looked saw good side note last minute put generic brand tylenol back thing originally going get got life group tonight another gal brought bottle generic brand tylenol god even small stuff knew need buy bottle knew needed pick wrestle groceries turned less thought would enough ked told another great conversation today guy mentioned yesterday whoever praying ked today could feel helped guy brought ked could sense prayers gone ahead took next level really hope ked eventually blogs point even begin convey awesome talked last night reminded ked rob bell rain video suggested person willing might really help journey understand god really thinks ked took video today person interested said watch weekend seen rain video others series rob put together check urllink www nooma com powerful short videos packed full amazing teaching well produced rob phenomenal teacher website short clips synopsis video well lots thoughts rollin around head save another day'"
            ]
          },
          "metadata": {
            "tags": []
          },
          "execution_count": 119
        }
      ]
    },
    {
      "cell_type": "code",
      "metadata": {
        "id": "Y7z3ioJrWC3d",
        "outputId": "00ecf145-c5de-4925-d5a8-b06b1d681ead",
        "colab": {
          "base_uri": "https://localhost:8080/",
          "height": 35
        }
      },
      "source": [
        "type(X_train_ct)"
      ],
      "execution_count": 120,
      "outputs": [
        {
          "output_type": "execute_result",
          "data": {
            "text/plain": [
              "scipy.sparse.csr.csr_matrix"
            ]
          },
          "metadata": {
            "tags": []
          },
          "execution_count": 120
        }
      ]
    },
    {
      "cell_type": "code",
      "metadata": {
        "id": "6e7CKf_wWC3g",
        "outputId": "9b2f2b9f-7a36-4f39-812a-c217f144ecef",
        "colab": {
          "base_uri": "https://localhost:8080/",
          "height": 924
        }
      },
      "source": [
        "print(X_train_ct[15])"
      ],
      "execution_count": 121,
      "outputs": [
        {
          "output_type": "stream",
          "text": [
            "  (0, 5640)\t1\n",
            "  (0, 5659)\t1\n",
            "  (0, 7817)\t1\n",
            "  (0, 7876)\t1\n",
            "  (0, 46215)\t1\n",
            "  (0, 46410)\t1\n",
            "  (0, 87307)\t1\n",
            "  (0, 87355)\t1\n",
            "  (0, 104526)\t1\n",
            "  (0, 104544)\t1\n",
            "  (0, 113415)\t1\n",
            "  (0, 113422)\t1\n",
            "  (0, 123918)\t1\n",
            "  (0, 123936)\t1\n",
            "  (0, 139905)\t1\n",
            "  (0, 139908)\t1\n",
            "  (0, 140018)\t1\n",
            "  (0, 140201)\t1\n",
            "  (0, 152410)\t1\n",
            "  (0, 163849)\t1\n",
            "  (0, 163852)\t1\n",
            "  (0, 175448)\t1\n",
            "  (0, 175527)\t1\n",
            "  (0, 175608)\t1\n",
            "  (0, 198111)\t1\n",
            "  :\t:\n",
            "  (0, 368412)\t1\n",
            "  (0, 368428)\t1\n",
            "  (0, 368459)\t1\n",
            "  (0, 407062)\t1\n",
            "  (0, 407068)\t1\n",
            "  (0, 409360)\t1\n",
            "  (0, 409361)\t1\n",
            "  (0, 424787)\t1\n",
            "  (0, 424795)\t1\n",
            "  (0, 425348)\t1\n",
            "  (0, 425388)\t1\n",
            "  (0, 425394)\t1\n",
            "  (0, 425403)\t1\n",
            "  (0, 438258)\t1\n",
            "  (0, 438442)\t1\n",
            "  (0, 449837)\t1\n",
            "  (0, 449878)\t1\n",
            "  (0, 489562)\t1\n",
            "  (0, 489563)\t1\n",
            "  (0, 491556)\t1\n",
            "  (0, 491571)\t1\n",
            "  (0, 518862)\t1\n",
            "  (0, 518905)\t1\n",
            "  (0, 527605)\t1\n",
            "  (0, 527994)\t1\n"
          ],
          "name": "stdout"
        }
      ]
    },
    {
      "cell_type": "markdown",
      "metadata": {
        "id": "QBM87uNTWC36"
      },
      "source": [
        "# 8. Choose a classifier - (5 points)\n",
        "In this task, we suggest using the One-vs-Rest approach, which is implemented in\n",
        "OneVsRestClassifier class. In this approach k classifiers (= number of tags) are trained. As a\n",
        "basic classifier, use LogisticRegression. It is one of the simplest methods, but often it\n",
        "performs good enough in text classification tasks. It might take some time because the\n",
        "number of classifiers to train is large.\n",
        "+ Use a linear classifier of your choice, wrap it up in OneVsRestClassifier to train it on\n",
        "every label\n",
        "+ As One-vs-Rest approach might not have been discussed in the sessions, we are\n",
        "providing you the code for that"
      ]
    },
    {
      "cell_type": "code",
      "metadata": {
        "id": "eHH8bqmIWC36"
      },
      "source": [
        "from sklearn.linear_model import LogisticRegression\n",
        "model=LogisticRegression(solver='lbfgs')"
      ],
      "execution_count": 122,
      "outputs": []
    },
    {
      "cell_type": "code",
      "metadata": {
        "id": "9tB6mki5WC39"
      },
      "source": [
        "from sklearn.multiclass import OneVsRestClassifier\n",
        "model=OneVsRestClassifier(model)"
      ],
      "execution_count": 123,
      "outputs": []
    },
    {
      "cell_type": "code",
      "metadata": {
        "id": "daZtIlrDWC4A",
        "outputId": "e6244ba1-bc89-4a45-aa3d-7bd83dbace9e",
        "colab": {
          "base_uri": "https://localhost:8080/",
          "height": 195
        }
      },
      "source": [
        "model.fit(X_train_ct,Ytrain)"
      ],
      "execution_count": 124,
      "outputs": [
        {
          "output_type": "execute_result",
          "data": {
            "text/plain": [
              "OneVsRestClassifier(estimator=LogisticRegression(C=1.0, class_weight=None,\n",
              "                                                 dual=False, fit_intercept=True,\n",
              "                                                 intercept_scaling=1,\n",
              "                                                 l1_ratio=None, max_iter=100,\n",
              "                                                 multi_class='auto',\n",
              "                                                 n_jobs=None, penalty='l2',\n",
              "                                                 random_state=None,\n",
              "                                                 solver='lbfgs', tol=0.0001,\n",
              "                                                 verbose=0, warm_start=False),\n",
              "                    n_jobs=None)"
            ]
          },
          "metadata": {
            "tags": []
          },
          "execution_count": 124
        }
      ]
    },
    {
      "cell_type": "markdown",
      "metadata": {
        "id": "ZUTeDw_5WC4D"
      },
      "source": [
        "# 9. Fit the classifier, make predictions and get the accuracy (5 points)\n",
        "+ a. Print the following\n",
        "+ i. Accuracy score\n",
        "+ ii. F1 score\n",
        "+ iii. Average precision score\n",
        "+ iv. Average recall score + v. Tip: Make sure you are familiar with all of them. How would you expect the things to work for the multi-label scenario? Read about micro/macro/weighted averaging"
      ]
    },
    {
      "cell_type": "code",
      "metadata": {
        "id": "2JlRPC3ZWC4D"
      },
      "source": [
        "Ypred=model.predict(X_test_ct)"
      ],
      "execution_count": 125,
      "outputs": []
    },
    {
      "cell_type": "code",
      "metadata": {
        "id": "BElvR7ziWC4H"
      },
      "source": [
        "Ypred_inversed = mlb.inverse_transform(Ypred)\n",
        "y_test_inversed = mlb.inverse_transform(Ytest)"
      ],
      "execution_count": 126,
      "outputs": []
    },
    {
      "cell_type": "code",
      "metadata": {
        "id": "tkGE_C9tznGP",
        "outputId": "fecf6a7e-e8c0-4d2e-f000-744e5d7a5c85",
        "colab": {
          "base_uri": "https://localhost:8080/",
          "height": 1000
        }
      },
      "source": [
        "Ypred_inversed"
      ],
      "execution_count": 127,
      "outputs": [
        {
          "output_type": "execute_result",
          "data": {
            "text/plain": [
              "[('male',),\n",
              " ('16', 'Cancer', 'male'),\n",
              " ('Aries', 'male'),\n",
              " ('35', 'Aries', 'Technology', 'male'),\n",
              " ('female',),\n",
              " ('15', 'Libra', 'Student', 'female'),\n",
              " ('Aries', 'female'),\n",
              " ('35', 'Aries', 'Technology', 'male'),\n",
              " ('35', 'Aries', 'Technology', 'male'),\n",
              " ('15', 'Libra', 'Student', 'female'),\n",
              " ('Student', 'female'),\n",
              " ('36', 'Aries', 'Fashion', 'male'),\n",
              " ('17', 'male'),\n",
              " ('17', 'Sagittarius', 'female'),\n",
              " ('female',),\n",
              " ('Scorpio', 'female'),\n",
              " ('25', 'female'),\n",
              " ('34', 'Sagittarius', 'female', 'indUnk'),\n",
              " ('male',),\n",
              " ('Capricorn', 'Sports-Recreation', 'male'),\n",
              " ('36', 'Aries', 'Fashion', 'male'),\n",
              " ('35', 'Aries', 'male'),\n",
              " ('female', 'indUnk'),\n",
              " ('35', 'Aries', 'Technology', 'male'),\n",
              " ('35', 'Aries', 'Technology', 'male'),\n",
              " ('36', 'Aries', 'Fashion', 'male'),\n",
              " ('35', 'Aries', 'Technology', 'male'),\n",
              " ('35', 'Aries', 'Technology', 'male'),\n",
              " ('male',),\n",
              " ('35', 'Aries', 'Technology', 'male'),\n",
              " ('Aries', 'male'),\n",
              " ('34', 'Sagittarius', 'female', 'indUnk'),\n",
              " ('male',),\n",
              " ('male',),\n",
              " ('35', 'Aries', 'Technology', 'male'),\n",
              " ('male',),\n",
              " ('35', 'Aries', 'Technology', 'male'),\n",
              " ('35', 'Aries', 'Technology', 'male'),\n",
              " ('Aries', 'male'),\n",
              " ('male',),\n",
              " ('17', 'Student', 'female', 'indUnk'),\n",
              " ('16', 'Education', 'female'),\n",
              " ('35', 'Aries', 'Technology', 'male'),\n",
              " ('female', 'indUnk'),\n",
              " ('Aries', 'male'),\n",
              " ('Aries', 'male'),\n",
              " ('36', 'Aries', 'Fashion', 'male'),\n",
              " ('36', 'Aries', 'Fashion', 'male'),\n",
              " ('34', 'Sagittarius', 'female', 'indUnk'),\n",
              " ('36', 'Aries', 'Fashion', 'male'),\n",
              " ('male',),\n",
              " ('male',),\n",
              " ('male',),\n",
              " ('female', 'indUnk'),\n",
              " ('15', '17', 'Libra', 'Student', 'female'),\n",
              " ('female',),\n",
              " ('female',),\n",
              " ('male',),\n",
              " ('Student', 'male'),\n",
              " ('36', 'Aries', 'Fashion', 'male'),\n",
              " ('male',),\n",
              " ('female',),\n",
              " ('Aries', 'male'),\n",
              " ('female',),\n",
              " ('35', 'Aries', 'Technology', 'male'),\n",
              " ('36', 'Aries', 'Fashion', 'male'),\n",
              " ('35', 'Technology', 'male'),\n",
              " ('female', 'indUnk'),\n",
              " ('34', 'Sagittarius', 'female', 'indUnk'),\n",
              " ('35', 'Aries', 'Technology', 'male'),\n",
              " ('Aries', 'male'),\n",
              " ('male',),\n",
              " ('female',),\n",
              " ('female', 'indUnk'),\n",
              " ('36', 'Fashion', 'male'),\n",
              " ('36', 'Aries', 'Fashion', 'male'),\n",
              " ('34', 'Sagittarius', 'female', 'indUnk'),\n",
              " ('35', 'Aries', 'Technology', 'male'),\n",
              " ('Aries', 'male'),\n",
              " ('female', 'indUnk'),\n",
              " ('male',),\n",
              " ('female', 'indUnk'),\n",
              " ('27', 'Taurus', 'female', 'indUnk'),\n",
              " ('36', 'Aries', 'Fashion', 'male'),\n",
              " ('Technology', 'male'),\n",
              " ('36', 'Aries', 'Fashion', 'male'),\n",
              " ('35', 'Aries', 'Technology', 'male'),\n",
              " ('36', 'Aries', 'Fashion', 'male'),\n",
              " ('Aries', 'Technology', 'male'),\n",
              " ('male',),\n",
              " ('male',),\n",
              " ('Aries', 'Technology', 'male'),\n",
              " ('35', 'Aries', 'Technology', 'male'),\n",
              " ('24', 'BusinessServices', 'Cancer', 'male'),\n",
              " ('female',),\n",
              " ('17', 'female', 'indUnk'),\n",
              " ('female',),\n",
              " ('27', 'Pisces', 'male'),\n",
              " ('Aries', 'male'),\n",
              " ('female', 'indUnk'),\n",
              " ('female',),\n",
              " ('35', 'Aries', 'Technology', 'male'),\n",
              " ('17', '27', 'female', 'indUnk'),\n",
              " ('male',),\n",
              " ('male',),\n",
              " ('female',),\n",
              " ('female',),\n",
              " ('24', 'female'),\n",
              " ('male',),\n",
              " ('17', 'female', 'indUnk'),\n",
              " ('Aries', 'male'),\n",
              " ('female', 'indUnk'),\n",
              " ('35', 'Aries', 'Technology', 'male'),\n",
              " ('female', 'indUnk'),\n",
              " ('35', 'Aries', 'Technology', 'male'),\n",
              " ('17', 'Student', 'male'),\n",
              " ('female',),\n",
              " ('35', 'Technology', 'male'),\n",
              " ('male',),\n",
              " ('Aries', 'male'),\n",
              " ('34', 'Sagittarius', 'female', 'indUnk'),\n",
              " ('female', 'indUnk'),\n",
              " ('male',),\n",
              " ('male',),\n",
              " ('27', 'Pisces', 'Technology', 'male'),\n",
              " ('female',),\n",
              " ('27', 'Taurus', 'female', 'indUnk'),\n",
              " ('34', 'Sagittarius', 'female', 'indUnk'),\n",
              " ('35', 'Aries', 'Technology', 'male'),\n",
              " ('35', 'Aries', 'Technology', 'male'),\n",
              " ('female', 'indUnk'),\n",
              " ('female', 'indUnk'),\n",
              " ('35', 'Aries', 'Technology', 'male'),\n",
              " ('female', 'indUnk'),\n",
              " ('Aries', 'male'),\n",
              " ('36', 'Aries', 'Fashion', 'male'),\n",
              " ('female',),\n",
              " ('36', 'Aries', 'Fashion', 'male'),\n",
              " ('female',),\n",
              " ('36', 'Aries', 'Fashion', 'male'),\n",
              " ('Scorpio', 'female', 'indUnk'),\n",
              " ('male',),\n",
              " ('34', 'Sagittarius', 'female', 'indUnk'),\n",
              " ('female',),\n",
              " ('male',),\n",
              " ('Aries', 'male'),\n",
              " ('35', 'Aries', 'Technology', 'male'),\n",
              " ('Aries', 'male'),\n",
              " ('35', 'Aries', 'Technology', 'male'),\n",
              " ('Aries', 'male'),\n",
              " ('Cancer', 'male'),\n",
              " ('Aries', 'Technology', 'male'),\n",
              " ('Engineering', 'Libra', 'male'),\n",
              " ('female',),\n",
              " ('Aries', 'male'),\n",
              " ('male',),\n",
              " ('Scorpio', 'male'),\n",
              " ('Aries', 'male'),\n",
              " ('Aries', 'male'),\n",
              " ('female',),\n",
              " ('Fashion', 'male'),\n",
              " ('male',),\n",
              " ('Sagittarius', 'Student', 'female', 'indUnk'),\n",
              " ('female',),\n",
              " ('Scorpio', 'Student', 'female'),\n",
              " ('35', 'Aries', 'Technology', 'male'),\n",
              " ('35', 'Aries', 'Technology', 'male'),\n",
              " ('34', 'Sagittarius', 'female', 'indUnk'),\n",
              " ('Virgo', 'male'),\n",
              " ('indUnk', 'male'),\n",
              " ('35', 'Aries', 'Technology', 'male'),\n",
              " ('36', 'Aries', 'Fashion', 'male'),\n",
              " ('35', 'Aries', 'Technology', 'male'),\n",
              " ('36', 'Aries', 'Fashion', 'male'),\n",
              " ('35', 'Aries', 'Technology', 'male'),\n",
              " ('34', 'Sagittarius', 'female', 'indUnk'),\n",
              " ('male',),\n",
              " ('Aries', 'male'),\n",
              " ('female',),\n",
              " ('16', 'Capricorn', 'female', 'indUnk'),\n",
              " ('35', 'Aries', 'Technology', 'male'),\n",
              " ('Aries', 'male'),\n",
              " ('36', 'Aries', 'Fashion', 'male'),\n",
              " ('24', 'Sagittarius', 'female', 'indUnk'),\n",
              " ('female', 'indUnk'),\n",
              " ('female',),\n",
              " ('35', 'Aries', 'male'),\n",
              " ('Aries', 'Technology', 'male'),\n",
              " ('female',),\n",
              " ('male',),\n",
              " ('35', 'Aries', 'Technology', 'male'),\n",
              " ('27', 'female', 'indUnk'),\n",
              " ('male',),\n",
              " ('Aries', 'male'),\n",
              " ('36', 'Aries', 'Fashion', 'male'),\n",
              " ('female', 'indUnk'),\n",
              " ('35', 'Aries', 'Technology', 'male'),\n",
              " ('Aries', 'male'),\n",
              " ('indUnk', 'male'),\n",
              " ('35', 'Aries', 'Technology', 'male'),\n",
              " ('34', 'Sagittarius', 'female', 'indUnk'),\n",
              " ('17', 'female', 'indUnk'),\n",
              " ('female', 'indUnk'),\n",
              " ('male',),\n",
              " ('36', 'Aries', 'Fashion', 'male'),\n",
              " ('male',),\n",
              " ('34', 'Sagittarius', 'female', 'indUnk'),\n",
              " ('36', 'Fashion', 'male'),\n",
              " ('17', 'female'),\n",
              " ('male',),\n",
              " ('35', 'Aries', 'Technology', 'male'),\n",
              " ('female',),\n",
              " ('female', 'indUnk'),\n",
              " ('Aries', 'Fashion', 'male'),\n",
              " ('35', 'Aries', 'Technology', 'male'),\n",
              " ('16', 'Cancer', 'Student', 'indUnk', 'male'),\n",
              " ('male',),\n",
              " ('13', 'Aquarius', 'Student', 'female'),\n",
              " ('36', 'Aries', 'Fashion', 'male'),\n",
              " ('female', 'indUnk'),\n",
              " ('36', 'Aries', 'Fashion', 'male'),\n",
              " ('Aries', 'male'),\n",
              " ('36', 'Aries', 'Fashion', 'male'),\n",
              " ('27', 'female', 'indUnk'),\n",
              " ('Aries', 'male'),\n",
              " ('27', 'Taurus', 'female', 'indUnk'),\n",
              " ('36', 'Aries', 'Fashion', 'male'),\n",
              " ('male',),\n",
              " ('Pisces', 'Technology', 'male'),\n",
              " ('male',),\n",
              " ('17', 'female', 'indUnk'),\n",
              " ('27', 'Taurus', 'female', 'indUnk'),\n",
              " ('Aries', 'male'),\n",
              " ('Aries', 'male'),\n",
              " ('35', 'Aries', 'Technology', 'male'),\n",
              " ('male',),\n",
              " ('female', 'indUnk'),\n",
              " ('Aries', 'male'),\n",
              " ('male',),\n",
              " ('male',),\n",
              " ('female', 'indUnk'),\n",
              " ('Aries', 'male'),\n",
              " ('36', 'Aries', 'Fashion', 'male'),\n",
              " ('male',),\n",
              " ('16', 'Cancer', 'indUnk', 'male'),\n",
              " ('female', 'indUnk'),\n",
              " ('27', 'Pisces', 'female'),\n",
              " ('male',),\n",
              " ('Aries', 'male'),\n",
              " ('Aries', 'male'),\n",
              " ('35', 'Aries', 'Technology', 'male'),\n",
              " ('male',),\n",
              " ('Taurus', 'female', 'indUnk'),\n",
              " ('male',),\n",
              " ('35', 'Aries', 'Technology', 'male'),\n",
              " ('male',),\n",
              " ('35', 'Aries', 'male'),\n",
              " ('35', 'Aries', 'Technology', 'male'),\n",
              " ('17', 'Scorpio', 'female', 'indUnk'),\n",
              " ('Aries', 'male'),\n",
              " ('35', 'Aries', 'Technology', 'male'),\n",
              " ('female',),\n",
              " ('male',),\n",
              " ('27', 'female'),\n",
              " ('female', 'indUnk'),\n",
              " ('17', 'Cancer', 'female', 'indUnk'),\n",
              " ('male',),\n",
              " ('35', 'Aries', 'Technology', 'male'),\n",
              " ('male',),\n",
              " ('17', 'male'),\n",
              " ('female',),\n",
              " ('36', 'Aries', 'Fashion', 'male'),\n",
              " ('35', 'Aries', 'Technology', 'male'),\n",
              " ('Aries', 'female'),\n",
              " ('female', 'indUnk'),\n",
              " ('female',),\n",
              " ('27', 'Taurus', 'female'),\n",
              " ('female', 'indUnk'),\n",
              " ('female', 'indUnk'),\n",
              " ('Cancer', 'male'),\n",
              " ('female', 'indUnk'),\n",
              " ('male',),\n",
              " ('female', 'indUnk'),\n",
              " ('35', 'Aries', 'Technology', 'male'),\n",
              " ('Aquarius', 'female', 'indUnk'),\n",
              " ('17', 'female', 'indUnk'),\n",
              " ('35', 'Aries', 'Technology', 'male'),\n",
              " ('35', 'Technology', 'male'),\n",
              " ('35', 'Aries', 'Technology', 'male'),\n",
              " ('17', 'Cancer', 'female', 'indUnk'),\n",
              " ('female', 'indUnk'),\n",
              " ('16', 'female', 'indUnk'),\n",
              " ('17', 'Scorpio', 'female', 'indUnk'),\n",
              " ('female', 'indUnk'),\n",
              " ('17', 'Scorpio', 'female', 'indUnk'),\n",
              " ('male',),\n",
              " ('male',),\n",
              " ('24', 'female', 'indUnk'),\n",
              " ('male',),\n",
              " ('Aries', 'male'),\n",
              " ('Student', 'female'),\n",
              " ('Aries', 'male'),\n",
              " ('Sagittarius', 'female'),\n",
              " ('36', 'Aries', 'Fashion', 'male'),\n",
              " ('36', 'Aries', 'Fashion', 'male'),\n",
              " ('35', 'Aries', 'Technology', 'male'),\n",
              " ('36', 'Aries', 'Fashion', 'male'),\n",
              " ('Aries', 'male'),\n",
              " ('female', 'indUnk'),\n",
              " ('Aries', 'male'),\n",
              " ('27', 'male'),\n",
              " ('27', 'Taurus', 'female', 'indUnk'),\n",
              " ('male',),\n",
              " ('male',),\n",
              " ('15', 'Student', 'female'),\n",
              " ('female',),\n",
              " ('34', 'Sagittarius', 'female', 'indUnk'),\n",
              " ('male',),\n",
              " ('Scorpio', 'female'),\n",
              " ('17', 'female'),\n",
              " ('female', 'indUnk'),\n",
              " ('27', 'Aries', 'Pisces', 'Technology', 'male'),\n",
              " ('Aries', 'male'),\n",
              " ('15', 'Libra', 'Student', 'female', 'indUnk'),\n",
              " ('36', 'Aries', 'Fashion', 'male'),\n",
              " ('36', 'Aries', 'Fashion', 'male'),\n",
              " ('36', 'Aries', 'Fashion', 'male'),\n",
              " ('35', 'Aries', 'Technology', 'male'),\n",
              " ('female', 'indUnk'),\n",
              " ('female', 'indUnk'),\n",
              " ('Aries', 'male'),\n",
              " ('male',),\n",
              " ('male',),\n",
              " ('Aries', 'Technology', 'male'),\n",
              " ('female', 'indUnk'),\n",
              " ('Aries', 'male'),\n",
              " ('35', 'Aries', 'Technology', 'male'),\n",
              " ('35', 'Aries', 'Technology', 'male'),\n",
              " ('Aries', 'male'),\n",
              " ('35', 'Aries', 'Technology', 'male'),\n",
              " ('35', 'Aries', 'Technology', 'male'),\n",
              " ('male',),\n",
              " ('16', 'Cancer', 'male'),\n",
              " ('35', 'Aries', 'Technology', 'male'),\n",
              " ('female', 'indUnk'),\n",
              " ('35', 'Aries', 'Technology', 'male'),\n",
              " ('34', 'Sagittarius', 'female', 'indUnk'),\n",
              " ('35', 'Aries', 'Technology', 'male'),\n",
              " ('male',),\n",
              " ('Aries', 'Technology', 'male'),\n",
              " ('indUnk', 'male'),\n",
              " ('36', 'Aries', 'Fashion', 'male'),\n",
              " ('36', 'Aries', 'Fashion', 'male'),\n",
              " ('35', 'Aries', 'Technology', 'male'),\n",
              " ('36', 'Aries', 'Fashion', 'male'),\n",
              " ('36', 'Fashion', 'male'),\n",
              " ('Student', 'female', 'indUnk'),\n",
              " ('35', 'Aries', 'male'),\n",
              " ('male',),\n",
              " ('35', 'Aries', 'Technology', 'male'),\n",
              " ('35', 'Aries', 'Technology', 'male'),\n",
              " ('27', 'female'),\n",
              " ('Aries', 'male'),\n",
              " ('17', 'female', 'indUnk'),\n",
              " ('female',),\n",
              " ('Student', 'male'),\n",
              " ('35', 'Aries', 'male'),\n",
              " ('male',),\n",
              " ('Aries', 'male'),\n",
              " ('27', 'Aquarius', 'Marketing', 'female'),\n",
              " ('Aries', 'male'),\n",
              " ('36', 'Aries', 'Fashion', 'male'),\n",
              " ('34', 'Sagittarius', 'female', 'indUnk'),\n",
              " ('female',),\n",
              " ('17', 'female'),\n",
              " ('female', 'indUnk'),\n",
              " ('35', 'Aries', 'Technology', 'male'),\n",
              " ('35', 'Aries', 'Technology', 'male'),\n",
              " ('35', 'Aries', 'Technology', 'male'),\n",
              " ('female',),\n",
              " ('16', 'Cancer', 'indUnk', 'male'),\n",
              " ('female', 'indUnk'),\n",
              " ('male',),\n",
              " ('35', 'Aries', 'Technology', 'male'),\n",
              " ('17', 'Student', 'female'),\n",
              " ('male',),\n",
              " ('female',),\n",
              " ('Aries', 'male'),\n",
              " ('35', 'Aries', 'Technology', 'male'),\n",
              " ('Aries', 'male'),\n",
              " ('female', 'indUnk'),\n",
              " ('35', 'Aries', 'Technology', 'male'),\n",
              " ('female',),\n",
              " ('35', 'Aries', 'Technology', 'male'),\n",
              " ('indUnk', 'male'),\n",
              " ('Aries', 'male'),\n",
              " ('17', 'female', 'indUnk'),\n",
              " ('35', 'Aries', 'male'),\n",
              " ('36', 'Aries', 'Fashion', 'male'),\n",
              " ('Sagittarius', 'female'),\n",
              " ('36', 'Aries', 'Fashion', 'female'),\n",
              " ('Aries', 'male'),\n",
              " ('17', 'female', 'indUnk'),\n",
              " ('34', 'Sagittarius', 'female', 'indUnk'),\n",
              " ('35', 'Aries', 'Technology', 'male'),\n",
              " ('27', 'female', 'indUnk'),\n",
              " ('Student', 'female'),\n",
              " ('female',),\n",
              " ('Aries', 'male'),\n",
              " ('Student', 'male'),\n",
              " ('female',),\n",
              " ('36', 'Aries', 'Fashion', 'male'),\n",
              " ('36', 'Aries', 'Fashion', 'male'),\n",
              " ('male',),\n",
              " ('Libra', 'Student', 'male'),\n",
              " ('female', 'indUnk'),\n",
              " ('35', 'Aries', 'Technology', 'male'),\n",
              " ('male',),\n",
              " ('35', 'Aries', 'Technology', 'male'),\n",
              " ('35', 'Aries', 'Technology', 'male'),\n",
              " ('35', 'Aries', 'Technology', 'male'),\n",
              " ('36', 'Aries', 'Fashion', 'male'),\n",
              " ('36', 'Aries', 'Fashion', 'male'),\n",
              " ('male',),\n",
              " ('female',),\n",
              " ('34', 'Sagittarius', 'female', 'indUnk'),\n",
              " ('male',),\n",
              " ('female', 'indUnk'),\n",
              " ('Aries', 'male'),\n",
              " ('33', 'InvestmentBanking', 'male'),\n",
              " ('female', 'indUnk'),\n",
              " ('female', 'indUnk'),\n",
              " ('35', 'Aries', 'Technology', 'male'),\n",
              " ('male',),\n",
              " ('Aries', 'male'),\n",
              " ('indUnk', 'male'),\n",
              " ('male',),\n",
              " ('17', 'female', 'indUnk'),\n",
              " ('Aries', 'male'),\n",
              " ('female', 'indUnk'),\n",
              " ('female',),\n",
              " ('35', 'Aries', 'Technology', 'male'),\n",
              " ('Aries', 'male'),\n",
              " ('Aries', 'Technology', 'male'),\n",
              " ('34', 'Sagittarius', 'female', 'indUnk'),\n",
              " ('36', 'Fashion', 'male'),\n",
              " ('female',),\n",
              " ('male',),\n",
              " ('Aries', 'Technology', 'male'),\n",
              " ('Aries', 'male'),\n",
              " ('male',),\n",
              " ('27', 'female', 'indUnk'),\n",
              " ('Aries', 'male'),\n",
              " ('male',),\n",
              " ('34', 'Sagittarius', 'female', 'indUnk'),\n",
              " ('female',),\n",
              " ('female',),\n",
              " ('Aries', 'female'),\n",
              " ('female', 'indUnk'),\n",
              " ('female',),\n",
              " ('male',),\n",
              " ('27', 'Taurus', 'female', 'indUnk'),\n",
              " ('female', 'indUnk'),\n",
              " ('male',),\n",
              " ('35', 'Aries', 'Technology', 'male'),\n",
              " ('male',),\n",
              " ('female', 'indUnk'),\n",
              " ('female', 'indUnk'),\n",
              " ('17', 'Cancer', 'female', 'indUnk'),\n",
              " ('Aries', 'male'),\n",
              " ('16', 'female'),\n",
              " ('17', 'male'),\n",
              " ('34', 'Sagittarius', 'female', 'indUnk'),\n",
              " ('34', 'Sagittarius', 'female', 'indUnk'),\n",
              " ('36', 'Aries', 'Fashion', 'male'),\n",
              " ('Aries', 'male'),\n",
              " ('male',),\n",
              " ('male',),\n",
              " ('male',),\n",
              " ('35', 'Aries', 'Technology', 'male'),\n",
              " ('Scorpio', 'female', 'indUnk'),\n",
              " ('male',),\n",
              " ('Aries', 'male'),\n",
              " ('Aries', 'Fashion', 'male'),\n",
              " ('35', 'Aries', 'Technology', 'male'),\n",
              " ('Aries', 'male'),\n",
              " ('Aries', 'male'),\n",
              " ('Aries', 'male'),\n",
              " ('male',),\n",
              " ('35', 'Aries', 'Technology', 'male'),\n",
              " ('34', 'Sagittarius', 'female', 'indUnk'),\n",
              " ('15', '17', 'Pisces', 'Student', 'female'),\n",
              " ('34', 'Sagittarius', 'female'),\n",
              " ('35', 'Aries', 'Technology', 'male'),\n",
              " ('male',),\n",
              " ('male',),\n",
              " ('Aries', 'male'),\n",
              " ('male',),\n",
              " ('female', 'indUnk'),\n",
              " ('male',),\n",
              " ('Technology', 'male'),\n",
              " ('Aries', 'male'),\n",
              " ('36', 'Aries', 'Fashion', 'male'),\n",
              " ('25', 'Sagittarius', 'female'),\n",
              " ('36', 'Aries', 'Fashion', 'male'),\n",
              " ('female',),\n",
              " ('35', 'Aries', 'Technology', 'male'),\n",
              " ('male',),\n",
              " ('36', 'Aries', 'Fashion', 'male'),\n",
              " ('35', 'Aries', 'Technology', 'male'),\n",
              " ('female',),\n",
              " ('35', 'Aries', 'male'),\n",
              " ('female',),\n",
              " ('34', 'Sagittarius', 'female', 'indUnk'),\n",
              " ('35', 'Aries', 'Technology', 'male'),\n",
              " ('female',),\n",
              " ('27', 'Taurus', 'female', 'indUnk'),\n",
              " ('34', 'Sagittarius', 'female', 'indUnk'),\n",
              " ('36', 'Aries', 'Fashion', 'male'),\n",
              " ('female',),\n",
              " ('35', 'Aries', 'Technology', 'male'),\n",
              " ('female',),\n",
              " ('female',),\n",
              " ('Aquarius', 'female', 'indUnk'),\n",
              " ('Aries', 'male'),\n",
              " ('35', 'Aries', 'Technology', 'male'),\n",
              " ('female',),\n",
              " ('male',),\n",
              " ('female',),\n",
              " ('female',),\n",
              " ('27', 'Pisces', 'Technology', 'male'),\n",
              " ('35', 'Aries', 'Technology', 'male'),\n",
              " ('Aries', 'male'),\n",
              " ('35', 'Aries', 'Technology', 'male'),\n",
              " ('Aries', 'male'),\n",
              " ('female', 'indUnk'),\n",
              " ('Aries', 'male'),\n",
              " ('Aries', 'male'),\n",
              " ('35', 'Aries', 'Technology', 'male'),\n",
              " ('male',),\n",
              " ('Aries', 'male'),\n",
              " ('male',),\n",
              " ('15', 'Libra', 'Student', 'female', 'indUnk'),\n",
              " ('35', 'Aries', 'Technology', 'male'),\n",
              " ('34', 'Aries', 'Sagittarius', 'male'),\n",
              " ('Aries', 'female'),\n",
              " ('27', 'female', 'indUnk'),\n",
              " ('female', 'indUnk'),\n",
              " ('Aries', 'male'),\n",
              " ('35', 'Aries', 'Technology', 'male'),\n",
              " ('35', 'Aries', 'Technology', 'male'),\n",
              " ('27', 'male'),\n",
              " ('35', 'Aries', 'Technology', 'male'),\n",
              " ('Aries', 'male'),\n",
              " ('Technology', 'male'),\n",
              " ('female',),\n",
              " ('Technology', 'male'),\n",
              " ('36', 'Aries', 'Fashion', 'male'),\n",
              " ('35', 'Technology', 'male'),\n",
              " ('indUnk', 'male'),\n",
              " ('male',),\n",
              " ('male',),\n",
              " ('female', 'indUnk'),\n",
              " ('35', 'Aries', 'male'),\n",
              " ('male',),\n",
              " ('34', 'Sagittarius', 'female', 'indUnk'),\n",
              " ('female',),\n",
              " ('16', 'Cancer', 'indUnk', 'male'),\n",
              " ('male',),\n",
              " ('female',),\n",
              " ('female', 'indUnk'),\n",
              " ('35', 'Aries', 'Technology', 'male'),\n",
              " ('male',),\n",
              " ('36', 'Aries', 'Fashion', 'male'),\n",
              " ('Aries', 'male'),\n",
              " ('34', 'Sagittarius', 'female', 'indUnk'),\n",
              " ('Aries', 'female'),\n",
              " ('36', 'Aries', 'Fashion', 'male'),\n",
              " ('male',),\n",
              " ('female',),\n",
              " ('male',),\n",
              " ('female', 'indUnk'),\n",
              " ('24', 'BusinessServices', 'Cancer', 'male'),\n",
              " ('35', 'Aries', 'Technology', 'male'),\n",
              " ('17', 'Scorpio', 'Student', 'female', 'indUnk'),\n",
              " ('36', 'Aries', 'Fashion', 'male'),\n",
              " ('indUnk', 'male'),\n",
              " ('Aries', 'male'),\n",
              " ('Aries', 'male'),\n",
              " ('female', 'indUnk'),\n",
              " ('male',),\n",
              " ('35', 'Aries', 'Technology', 'male'),\n",
              " ('35', 'Aries', 'Technology', 'male'),\n",
              " ('27', 'Taurus', 'female', 'indUnk'),\n",
              " ('male',),\n",
              " ('female',),\n",
              " ('male',),\n",
              " ('34', 'Sagittarius', 'female', 'indUnk'),\n",
              " ('Aries', 'male'),\n",
              " ('male',),\n",
              " ('female', 'indUnk'),\n",
              " ('Libra', 'female'),\n",
              " ('35', 'Aries', 'Technology', 'male'),\n",
              " ('male',),\n",
              " ('female',),\n",
              " ('Aries', 'male'),\n",
              " ('27', 'Taurus', 'female', 'indUnk'),\n",
              " ('Aries', 'male'),\n",
              " ('female', 'indUnk'),\n",
              " ('17', 'female', 'indUnk'),\n",
              " ('female',),\n",
              " ('female',),\n",
              " ('female',),\n",
              " ('female',),\n",
              " ('36', 'Aries', 'Fashion', 'male'),\n",
              " ('Aries', 'male'),\n",
              " ('Aries', 'male'),\n",
              " ('34', 'Sagittarius', 'female', 'indUnk'),\n",
              " ('Student', 'female'),\n",
              " ('female', 'indUnk'),\n",
              " ('Aries', 'male'),\n",
              " ('36', 'Aries', 'Fashion', 'male'),\n",
              " ('27', 'Pisces', 'male'),\n",
              " ('34', 'Sagittarius', 'female', 'indUnk'),\n",
              " ('15', 'Libra', 'female', 'indUnk'),\n",
              " ('35', 'Aries', 'Technology', 'male'),\n",
              " ('35', 'Aries', 'Technology', 'male'),\n",
              " ('Aries', 'male'),\n",
              " ('17', 'Scorpio', 'female', 'indUnk'),\n",
              " ('female',),\n",
              " ('35', 'Aries', 'Technology', 'male'),\n",
              " ('16', 'Cancer', 'Education', 'female'),\n",
              " ('36', 'Aries', 'Fashion', 'male'),\n",
              " ('Aries', 'male'),\n",
              " ('Aries', 'Technology', 'male'),\n",
              " ('Aries', 'male'),\n",
              " ('male',),\n",
              " ('male',),\n",
              " ('35', 'Aries', 'Technology', 'male'),\n",
              " ('Scorpio', 'indUnk', 'male'),\n",
              " ('indUnk', 'male'),\n",
              " ('35', 'Aries', 'Technology', 'male'),\n",
              " ('male',),\n",
              " ('26', 'Scorpio', 'male'),\n",
              " ('female',),\n",
              " ('35', 'Aries', 'Technology', 'male'),\n",
              " ('male',),\n",
              " ('27', 'female', 'indUnk'),\n",
              " ('35', 'Aries', 'Technology', 'male'),\n",
              " ('17', 'Cancer', 'female', 'indUnk'),\n",
              " ('35', 'Aries', 'Technology', 'male'),\n",
              " ('male',),\n",
              " ('33', 'InvestmentBanking', 'male'),\n",
              " ('34', 'Sagittarius', 'female', 'indUnk'),\n",
              " ('36', 'Aries', 'Fashion', 'male'),\n",
              " ('35', 'Aries', 'Technology', 'male'),\n",
              " ('Aries', 'male'),\n",
              " ('female',),\n",
              " ('Aries', 'male'),\n",
              " ('35', 'Aries', 'Technology', 'male'),\n",
              " ('male',),\n",
              " ('female',),\n",
              " ('Student', 'female'),\n",
              " ('female',),\n",
              " ('Aries', 'male'),\n",
              " ('34', 'Sagittarius', 'female', 'indUnk'),\n",
              " ('16', 'Cancer', 'male'),\n",
              " ('36', 'Aries', 'Fashion', 'male'),\n",
              " ('female',),\n",
              " ('34', 'Sagittarius', 'female', 'indUnk'),\n",
              " ('Pisces', 'male'),\n",
              " ('male',),\n",
              " ('16', 'Cancer', 'indUnk', 'male'),\n",
              " ('35', 'Aries', 'Technology', 'male'),\n",
              " ('17', 'female'),\n",
              " ('Aries', 'male'),\n",
              " ('Aries', 'male'),\n",
              " ('27', 'Pisces', 'Technology', 'male'),\n",
              " ('35', 'Aries', 'Technology', 'male'),\n",
              " ('female', 'indUnk'),\n",
              " ('male',),\n",
              " ('male',),\n",
              " ('Taurus', 'female', 'indUnk'),\n",
              " ('35', 'Aries', 'Technology', 'male'),\n",
              " ('36', 'Aries', 'Fashion', 'male'),\n",
              " ('Aries', 'male'),\n",
              " ('27', 'Taurus', 'female', 'indUnk'),\n",
              " ('35', 'Aries', 'Technology', 'male'),\n",
              " ('female',),\n",
              " ('Aries', 'male'),\n",
              " ('36', 'Aries', 'Fashion', 'male'),\n",
              " ('female', 'indUnk'),\n",
              " ('35', 'Aries', 'Technology', 'male'),\n",
              " ('female',),\n",
              " ('Aries', 'male'),\n",
              " ('female', 'indUnk'),\n",
              " ('36', 'Aries', 'Fashion', 'male'),\n",
              " ('35', 'Aries', 'Technology', 'male'),\n",
              " ('male',),\n",
              " ('Aries', 'male'),\n",
              " ('female',),\n",
              " ('35', 'Aries', 'Technology', 'male'),\n",
              " ('female',),\n",
              " ('male',),\n",
              " ('36', 'Aries', 'Fashion', 'male'),\n",
              " ('17', 'female', 'indUnk'),\n",
              " ('35', 'Aries', 'Technology', 'male'),\n",
              " ('15', 'Pisces', 'Student', 'female'),\n",
              " ('16', 'male'),\n",
              " ('35', 'Aries', 'Technology', 'male'),\n",
              " ('Student', 'male'),\n",
              " ('Student', 'male'),\n",
              " ('36', 'Aries', 'Fashion', 'male'),\n",
              " ('27', 'Taurus', 'female', 'indUnk'),\n",
              " ('male',),\n",
              " ('35', 'Aries', 'male'),\n",
              " ('Aries', 'male'),\n",
              " ('female',),\n",
              " ('indUnk', 'male'),\n",
              " ('female',),\n",
              " ('indUnk', 'male'),\n",
              " ('Aries', 'male'),\n",
              " ('36', 'Aries', 'Fashion', 'male'),\n",
              " ('Aries', 'male'),\n",
              " ('36', 'Aries', 'Fashion', 'male'),\n",
              " ('34', 'Sagittarius', 'female', 'indUnk'),\n",
              " ('Aries', 'male'),\n",
              " ('Sagittarius', 'indUnk', 'male'),\n",
              " ('Aries', 'male'),\n",
              " ('female', 'indUnk'),\n",
              " ('17', 'Scorpio', 'female'),\n",
              " ('female', 'indUnk'),\n",
              " ('35', 'Aries', 'Technology', 'male'),\n",
              " ('16', 'Cancer', 'indUnk', 'male'),\n",
              " ('female', 'indUnk'),\n",
              " ('Aries', 'Taurus', 'female', 'indUnk'),\n",
              " ('36', 'Aries', 'Fashion', 'male'),\n",
              " ('Aries', 'Technology', 'male'),\n",
              " ('Fashion', 'male'),\n",
              " ('16', 'Cancer', 'indUnk', 'male'),\n",
              " ('female',),\n",
              " ('Aries', 'male'),\n",
              " ('Student', 'female'),\n",
              " ('female',),\n",
              " ('35', 'Aries', 'Technology', 'male'),\n",
              " ('male',),\n",
              " ('36', 'Aries', 'Fashion', 'male'),\n",
              " ('Aries', 'male'),\n",
              " ('35', 'Aries', 'Technology', 'female'),\n",
              " ('male',),\n",
              " ('Aries', 'male'),\n",
              " ('female',),\n",
              " ('female', 'indUnk'),\n",
              " ('Aries', 'male'),\n",
              " ('34', 'Sagittarius', 'female', 'indUnk'),\n",
              " ('Aries', 'male'),\n",
              " ('17', 'Scorpio', 'female'),\n",
              " ('15', 'Libra', 'Student', 'female'),\n",
              " ('16', 'female'),\n",
              " ('35', 'Aries', 'Technology', 'male'),\n",
              " ('34', 'Sagittarius', 'female', 'indUnk'),\n",
              " ('Student', 'female'),\n",
              " ('female', 'indUnk'),\n",
              " ('female',),\n",
              " ('17', 'Student', 'female', 'indUnk'),\n",
              " ('female', 'indUnk'),\n",
              " ('female', 'indUnk'),\n",
              " ('female',),\n",
              " ('35', 'Aries', 'Technology', 'male'),\n",
              " ('27', 'Pisces', 'male'),\n",
              " ('male',),\n",
              " ('27', 'Aries', 'Technology', 'male'),\n",
              " ('Student', 'male'),\n",
              " ('male',),\n",
              " ('35', 'Aries', 'Technology', 'male'),\n",
              " ('Aries', 'male'),\n",
              " ('35', 'Aries', 'Technology', 'male'),\n",
              " ('27', 'female', 'indUnk'),\n",
              " ('Aries', 'male'),\n",
              " ('35', 'Aries', 'Technology', 'male'),\n",
              " ('15', 'Libra', 'Student', 'female', 'indUnk'),\n",
              " ('female', 'indUnk'),\n",
              " ('female', 'indUnk'),\n",
              " ('27', 'Taurus', 'female', 'indUnk'),\n",
              " ('36', 'Aquarius', 'Fashion', 'male'),\n",
              " ('34', 'Sagittarius', 'female', 'indUnk'),\n",
              " ('35', 'Aries', 'Technology', 'male'),\n",
              " ('24', 'Aries', 'male'),\n",
              " ('34', 'Sagittarius', 'female', 'indUnk'),\n",
              " ('24', 'female', 'indUnk'),\n",
              " ('Aries', 'male'),\n",
              " ('34', 'Sagittarius', 'female', 'indUnk'),\n",
              " ('Student', 'Virgo', 'male'),\n",
              " ('female', 'indUnk'),\n",
              " ('Cancer', 'male'),\n",
              " ('male',),\n",
              " ('35', 'Aries', 'Technology', 'male'),\n",
              " ('female', 'indUnk'),\n",
              " ('35', 'Aries', 'Technology', 'male'),\n",
              " ('male',),\n",
              " ('male',),\n",
              " ('female',),\n",
              " ('35', 'Aries', 'Technology', 'male'),\n",
              " ('35', 'Aries', 'Technology', 'male'),\n",
              " ('Aries', 'male'),\n",
              " ('female', 'indUnk'),\n",
              " ('35', 'Aries', 'Technology', 'male'),\n",
              " ('35', 'Aries', 'Technology', 'male'),\n",
              " ('27', 'Taurus', 'female', 'indUnk'),\n",
              " ('Aries', 'male'),\n",
              " ('Aries', 'male'),\n",
              " ('35', 'Aries', 'Technology', 'male'),\n",
              " ('17', 'Cancer', 'Student', 'female', 'indUnk'),\n",
              " ('male',),\n",
              " ('female',),\n",
              " ('35', 'Aries', 'Technology', 'male'),\n",
              " ('17', 'female'),\n",
              " ('36', 'Aries', 'Fashion', 'male'),\n",
              " ('female',),\n",
              " ('35', 'Aries', 'Technology', 'male'),\n",
              " ('34', 'Sagittarius', 'female', 'indUnk'),\n",
              " ('35', 'Aries', 'Technology', 'male'),\n",
              " ('Aries', 'male'),\n",
              " ('female',),\n",
              " ('female',),\n",
              " ('male',),\n",
              " ('male',),\n",
              " ('27', 'Pisces', 'Technology', 'male'),\n",
              " ('female',),\n",
              " ('35', 'Aries', 'Technology', 'male'),\n",
              " ('35', 'Aries', 'Technology', 'male'),\n",
              " ('36', 'Aries', 'Fashion', 'male'),\n",
              " ('Aries', 'male'),\n",
              " ('Taurus', 'indUnk', 'male'),\n",
              " ('indUnk', 'male'),\n",
              " ('35', 'Aries', 'Technology', 'male'),\n",
              " ('Aquarius', 'female'),\n",
              " ('17', 'Student', 'female'),\n",
              " ('male',),\n",
              " ('Student', 'female'),\n",
              " ('36', 'Aries', 'Fashion', 'male'),\n",
              " ('17', 'Student', 'female'),\n",
              " ('Aries', 'female'),\n",
              " ('35', 'Aries', 'Technology', 'male'),\n",
              " ('male',),\n",
              " ('Aquarius', 'female'),\n",
              " ('indUnk', 'male'),\n",
              " ('Student', 'female', 'indUnk'),\n",
              " ('35', 'Aries', 'Technology', 'male'),\n",
              " ('35', 'Aries', 'Technology', 'male'),\n",
              " ('36', 'Aries', 'Fashion', 'male'),\n",
              " ('35', 'Aries', 'Technology', 'male'),\n",
              " ('27', 'Aries', 'male'),\n",
              " ('35', 'Aries', 'Technology', 'male'),\n",
              " ('Student', 'female'),\n",
              " ('35', 'Aries', 'Technology', 'male'),\n",
              " ('17', 'Scorpio', 'female', 'indUnk'),\n",
              " ('female', 'indUnk'),\n",
              " ('34', 'Sagittarius', 'female', 'indUnk'),\n",
              " ('35', 'Aries', 'Technology', 'male'),\n",
              " ('female', 'indUnk'),\n",
              " ('17', 'Scorpio', 'female', 'indUnk'),\n",
              " ('35', 'Aries', 'Technology', 'male'),\n",
              " ('Aries', 'male'),\n",
              " ('35', 'Aries', 'Technology', 'male'),\n",
              " ('female', 'indUnk'),\n",
              " ('female', 'indUnk'),\n",
              " ('36', 'Aries', 'Fashion', 'male'),\n",
              " ('27', 'Taurus', 'female', 'indUnk'),\n",
              " ('35', 'Aries', 'Technology', 'male'),\n",
              " ('male',),\n",
              " ('Aries', 'male'),\n",
              " ('Aries', 'male'),\n",
              " ('35', 'Aries', 'Technology', 'male'),\n",
              " ('female',),\n",
              " ('35', 'Aries', 'Technology', 'male'),\n",
              " ('Aries', 'male'),\n",
              " ('male',),\n",
              " ('female', 'indUnk'),\n",
              " ('36', 'Aries', 'Fashion', 'male'),\n",
              " ('35', 'Aries', 'Technology', 'male'),\n",
              " ('female', 'indUnk'),\n",
              " ('female', 'indUnk'),\n",
              " ('Student', 'female'),\n",
              " ('indUnk', 'male'),\n",
              " ('female', 'indUnk'),\n",
              " ('27', 'Pisces', 'Technology', 'male'),\n",
              " ('Sagittarius', 'female', 'indUnk'),\n",
              " ('Aries', 'male'),\n",
              " ('female', 'indUnk'),\n",
              " ('Aries', 'male'),\n",
              " ('Sports-Recreation', 'male'),\n",
              " ('17', 'Scorpio', 'female', 'indUnk'),\n",
              " ('35', 'Aries', 'Technology', 'male'),\n",
              " ('35', 'Aries', 'Technology', 'male'),\n",
              " ('male',),\n",
              " ('Aries', 'male'),\n",
              " ('25', 'male'),\n",
              " ('35', 'Aries', 'Technology', 'male'),\n",
              " ('36', 'Aries', 'Fashion', 'male'),\n",
              " ('female', 'indUnk'),\n",
              " ('35', 'Aries', 'Technology', 'male'),\n",
              " ('17', 'Student', 'female', 'indUnk'),\n",
              " ('17', 'Scorpio', 'female', 'indUnk'),\n",
              " ('17', 'Scorpio', 'female', 'indUnk'),\n",
              " ('35', 'Aries', 'Technology', 'male'),\n",
              " ('34', 'Sagittarius', 'female'),\n",
              " ('35', 'Aries', 'Technology', 'male'),\n",
              " ('female', 'indUnk'),\n",
              " ('17', 'Scorpio', 'female', 'indUnk'),\n",
              " ('male',),\n",
              " ('17', 'Scorpio', 'female', 'indUnk'),\n",
              " ('35', 'Aries', 'Technology', 'male'),\n",
              " ('female', 'indUnk'),\n",
              " ('35', 'Aries', 'Technology', 'male'),\n",
              " ('35', 'Aries', 'Technology', 'male'),\n",
              " ('Aries', 'male'),\n",
              " ('male',),\n",
              " ('35', 'Aries', 'male'),\n",
              " ('Aries', 'male'),\n",
              " ('34', 'Sagittarius', 'female', 'indUnk'),\n",
              " ('male',),\n",
              " ('female',),\n",
              " ('male',),\n",
              " ('36', 'Aries', 'Fashion', 'male'),\n",
              " ('35', 'Aries', 'Technology', 'male'),\n",
              " ('Student', 'female'),\n",
              " ('35', 'Aries', 'Technology', 'male'),\n",
              " ('35', 'Aries', 'male'),\n",
              " ('27', 'Taurus', 'female', 'indUnk'),\n",
              " ('24', 'Scorpio', 'female', 'indUnk'),\n",
              " ('indUnk', 'male'),\n",
              " ('female', 'indUnk'),\n",
              " ('Aries', 'male'),\n",
              " ('35', 'Aries', 'Technology', 'male'),\n",
              " ('female',),\n",
              " ('Sagittarius', 'female', 'indUnk'),\n",
              " ('Scorpio', 'female', 'indUnk'),\n",
              " ('female', 'indUnk'),\n",
              " ('female', 'indUnk'),\n",
              " ('36', 'Aries', 'Fashion', 'male'),\n",
              " ('35', 'Aries', 'male'),\n",
              " ('34', 'Sagittarius', 'female', 'indUnk'),\n",
              " ('female',),\n",
              " ('indUnk', 'male'),\n",
              " ('35', 'Aries', 'Technology', 'male'),\n",
              " ('17', 'Scorpio', 'female', 'indUnk'),\n",
              " ('Aries', 'Fashion', 'male'),\n",
              " ('34', 'Sagittarius', 'female', 'indUnk'),\n",
              " ('male',),\n",
              " ('female',),\n",
              " ('35', 'Aries', 'Technology', 'male'),\n",
              " ('female',),\n",
              " ('Aries', 'male'),\n",
              " ('Aries', 'male'),\n",
              " ('35', 'Aries', 'Technology', 'female'),\n",
              " ('35', 'Aries', 'Technology', 'male'),\n",
              " ('female',),\n",
              " ('Aries', 'male'),\n",
              " ('indUnk', 'male'),\n",
              " ('16', 'Cancer', 'indUnk', 'male'),\n",
              " ('female', 'indUnk'),\n",
              " ('female',),\n",
              " ('36', 'Aries', 'Fashion', 'male'),\n",
              " ('27', 'female'),\n",
              " ('Aries', 'male'),\n",
              " ('36', 'Aries', 'Fashion', 'male'),\n",
              " ('Aries', 'Technology', 'male'),\n",
              " ('35', 'male'),\n",
              " ('35', 'Aries', 'Technology', 'male'),\n",
              " ('15', 'Student', 'female'),\n",
              " ('Student', 'female'),\n",
              " ('35', 'Aries', 'Technology', 'male'),\n",
              " ('15', '17', 'Student', 'female'),\n",
              " ('36', 'Aries', 'Fashion', 'male'),\n",
              " ('female',),\n",
              " ('Aries', 'Fashion', 'male'),\n",
              " ('15', '17', 'Student', 'female'),\n",
              " ('female', 'indUnk'),\n",
              " ('female', 'indUnk'),\n",
              " ('male',),\n",
              " ('27', 'Pisces', 'Technology', 'male'),\n",
              " ('male',),\n",
              " ('male',),\n",
              " ('34', 'Sagittarius', 'female', 'indUnk'),\n",
              " ('Aries', 'male'),\n",
              " ('35', 'Aries', 'Technology', 'male'),\n",
              " ('Aries', 'male'),\n",
              " ('male',),\n",
              " ('35', 'Aries', 'Technology', 'male'),\n",
              " ('36', 'Aries', 'Fashion', 'male'),\n",
              " ('male',),\n",
              " ('35', 'Aries', 'Technology', 'male'),\n",
              " ('Aries', 'male'),\n",
              " ('36', 'Aries', 'Fashion', 'male'),\n",
              " ('34', 'Sagittarius', 'female', 'indUnk'),\n",
              " ('36', 'Aries', 'Fashion', 'male'),\n",
              " ('35', 'Aries', 'Technology', 'male'),\n",
              " ('27', 'Taurus', 'female', 'indUnk'),\n",
              " ('35', 'Aries', 'Technology', 'male'),\n",
              " ...]"
            ]
          },
          "metadata": {
            "tags": []
          },
          "execution_count": 127
        }
      ]
    },
    {
      "cell_type": "code",
      "metadata": {
        "id": "YWZXrrYVWC4K"
      },
      "source": [
        "from sklearn.metrics import accuracy_score\n",
        "from sklearn.metrics import f1_score\n",
        "from sklearn.metrics import average_precision_score\n",
        "from sklearn.metrics import recall_score\n",
        "\n",
        "def print_evaluation_scores(Ytest, Ypred):\n",
        "    print('Accuracy score: ', accuracy_score(Ytest, Ypred))\n",
        "    print('F1 score: ', f1_score(Ytest, Ypred, average='micro'))\n",
        "    print('Average precision score: ', average_precision_score(Ytest, Ypred, average='micro'))\n",
        "    print('Average recall score: ', recall_score(Ytest, Ypred, average='micro'))"
      ],
      "execution_count": 137,
      "outputs": []
    },
    {
      "cell_type": "code",
      "metadata": {
        "id": "4fAGyd5UWC4Q",
        "outputId": "bef03bbf-84a6-4601-ec9f-9f52c1f9f018",
        "colab": {
          "base_uri": "https://localhost:8080/",
          "height": 88
        }
      },
      "source": [
        "print_evaluation_scores(Ytest, Ypred)"
      ],
      "execution_count": 138,
      "outputs": [
        {
          "output_type": "stream",
          "text": [
            "Accuracy score:  0.309\n",
            "F1 score:  0.6341500302480338\n",
            "Average precision score:  0.4504267443529862\n",
            "Average recall score:  0.524125\n"
          ],
          "name": "stdout"
        }
      ]
    }
  ]
}