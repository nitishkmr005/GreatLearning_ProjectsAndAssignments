{
 "cells": [
  {
   "cell_type": "markdown",
   "metadata": {
    "colab_type": "text",
    "id": "YYk8NG3yOIT9"
   },
   "source": [
    "### A MNIST-like fashion product database\n",
    "\n",
    "In this, we classify the images into respective classes given in the dataset. We use a Neural Net and a Deep Neural Net in Keras to solve this and check the accuracy scores."
   ]
  },
  {
   "cell_type": "markdown",
   "metadata": {
    "colab_type": "text",
    "id": "tFO6PuxzOIT_",
    "slideshow": {
     "slide_type": "slide"
    }
   },
   "source": [
    "### Load tensorflow"
   ]
  },
  {
   "cell_type": "code",
   "execution_count": 1,
   "metadata": {
    "colab": {},
    "colab_type": "code",
    "id": "efNjNImfOIUC"
   },
   "outputs": [],
   "source": [
    "import tensorflow as tf"
   ]
  },
  {
   "cell_type": "code",
   "execution_count": 2,
   "metadata": {
    "colab": {},
    "colab_type": "code",
    "id": "l9C4aAIGOIUH",
    "outputId": "5ef9aff6-a7bd-4b26-cba6-8750955f6ca3"
   },
   "outputs": [
    {
     "data": {
      "text/plain": [
       "'2.0.0'"
      ]
     },
     "execution_count": 2,
     "metadata": {},
     "output_type": "execute_result"
    }
   ],
   "source": [
    "tf.__version__"
   ]
  },
  {
   "cell_type": "markdown",
   "metadata": {
    "colab_type": "text",
    "id": "HcoZBStrOIUQ",
    "slideshow": {
     "slide_type": "slide"
    }
   },
   "source": [
    "### Collect Data"
   ]
  },
  {
   "cell_type": "code",
   "execution_count": 3,
   "metadata": {},
   "outputs": [],
   "source": [
    "#!pip install Keras"
   ]
  },
  {
   "cell_type": "code",
   "execution_count": 4,
   "metadata": {
    "colab": {},
    "colab_type": "code",
    "id": "XA1WsFSeOIUS"
   },
   "outputs": [],
   "source": [
    "import numpy as np\n",
    "import pandas as pd\n",
    "from sklearn import metrics\n",
    "import matplotlib.pyplot as plt\n",
    "%matplotlib inline\n",
    "\n",
    "# Using Tensorflow Keras instead of the original Keras\n",
    "\n",
    "from tensorflow.keras.datasets import mnist\n",
    "from tensorflow.keras import Sequential\n",
    "from tensorflow.keras.layers import Dense\n",
    "from tensorflow import keras"
   ]
  },
  {
   "cell_type": "code",
   "execution_count": 5,
   "metadata": {},
   "outputs": [
    {
     "name": "stderr",
     "output_type": "stream",
     "text": [
      "Using TensorFlow backend.\n"
     ]
    }
   ],
   "source": [
    "import keras"
   ]
  },
  {
   "cell_type": "code",
   "execution_count": 6,
   "metadata": {
    "colab": {},
    "colab_type": "code",
    "id": "qnbx7TyQOIUY"
   },
   "outputs": [],
   "source": [
    "(xtrain,ytrain),(xtest,ytest)=keras.datasets.fashion_mnist.load_data()"
   ]
  },
  {
   "cell_type": "code",
   "execution_count": 7,
   "metadata": {
    "colab": {},
    "colab_type": "code",
    "id": "UbiHj5YPOIUc",
    "outputId": "87e1b9cd-07f0-45cb-e706-0d51ad742d72",
    "slideshow": {
     "slide_type": "fragment"
    }
   },
   "outputs": [
    {
     "name": "stdout",
     "output_type": "stream",
     "text": [
      "[9 2 1 1 6]\n"
     ]
    }
   ],
   "source": [
    "print(ytest[0:5])"
   ]
  },
  {
   "cell_type": "markdown",
   "metadata": {
    "colab_type": "text",
    "id": "lDAYzkwyOIUj",
    "slideshow": {
     "slide_type": "slide"
    }
   },
   "source": [
    "### Convert both training and testing labels into one-hot vectors.\n",
    "\n",
    "**Hint:** check **tf.keras.utils.to_categorical()**"
   ]
  },
  {
   "cell_type": "code",
   "execution_count": 8,
   "metadata": {
    "colab": {},
    "colab_type": "code",
    "id": "vBlfYlANOIUk"
   },
   "outputs": [],
   "source": [
    "y_train = keras.utils.to_categorical(ytrain, 10)\n",
    "y_test = keras.utils.to_categorical(ytest, 10)"
   ]
  },
  {
   "cell_type": "code",
   "execution_count": 9,
   "metadata": {
    "colab": {},
    "colab_type": "code",
    "id": "RHV3b9mzOIUq",
    "outputId": "27bdfe58-91ee-4677-fe49-e742ad306c70",
    "scrolled": true,
    "slideshow": {
     "slide_type": "fragment"
    }
   },
   "outputs": [
    {
     "name": "stdout",
     "output_type": "stream",
     "text": [
      "(60000, 10)\n",
      "First 5 examples now are:  [[0. 0. 0. 0. 0. 0. 0. 0. 0. 1.]\n",
      " [1. 0. 0. 0. 0. 0. 0. 0. 0. 0.]\n",
      " [1. 0. 0. 0. 0. 0. 0. 0. 0. 0.]\n",
      " [0. 0. 0. 1. 0. 0. 0. 0. 0. 0.]\n",
      " [1. 0. 0. 0. 0. 0. 0. 0. 0. 0.]]\n"
     ]
    }
   ],
   "source": [
    "print(y_train.shape)\n",
    "print('First 5 examples now are: ', y_train[0:5])"
   ]
  },
  {
   "cell_type": "markdown",
   "metadata": {
    "colab_type": "text",
    "id": "FwhQ8e7VOIUw"
   },
   "source": [
    "### Visualize the data\n",
    "\n",
    "Plot first 10 images in the triaining set and their labels."
   ]
  },
  {
   "cell_type": "code",
   "execution_count": 10,
   "metadata": {},
   "outputs": [],
   "source": [
    "class_names = ['T-shirt/top', 'Trouser', 'Pullover', 'Dress', 'Coat',\n",
    "               'Sandal', 'Shirt', 'Sneaker', 'Bag', 'Ankle boot']"
   ]
  },
  {
   "cell_type": "code",
   "execution_count": 11,
   "metadata": {
    "colab": {},
    "colab_type": "code",
    "id": "AvDML2OoOIUx",
    "outputId": "9dafc94e-61a8-4089-be03-d143163d68aa"
   },
   "outputs": [
    {
     "data": {
      "image/png": "[encoded data removed]",
      "text/plain": [
       "<Figure size 720x720 with 10 Axes>"
      ]
     },
     "metadata": {},
     "output_type": "display_data"
    }
   ],
   "source": [
    "plt.figure(figsize=(10,10))\n",
    "for i in range(10):\n",
    "    plt.subplot(1,10,i+1)\n",
    "    plt.xticks([])\n",
    "    plt.yticks([])\n",
    "    plt.grid(False)\n",
    "    plt.imshow(xtrain[i], cmap='gray')\n",
    "    plt.xlabel(class_names[ytrain[i]])\n",
    "plt.show()"
   ]
  },
  {
   "cell_type": "code",
   "execution_count": 12,
   "metadata": {},
   "outputs": [
    {
     "data": {
      "text/plain": [
       "(28, 28)"
      ]
     },
     "execution_count": 12,
     "metadata": {},
     "output_type": "execute_result"
    }
   ],
   "source": [
    "xtrain[0].shape"
   ]
  },
  {
   "cell_type": "code",
   "execution_count": 13,
   "metadata": {},
   "outputs": [
    {
     "data": {
      "text/plain": [
       "9    6000\n",
       "8    6000\n",
       "7    6000\n",
       "6    6000\n",
       "5    6000\n",
       "4    6000\n",
       "3    6000\n",
       "2    6000\n",
       "1    6000\n",
       "0    6000\n",
       "Name: 0, dtype: int64"
      ]
     },
     "execution_count": 13,
     "metadata": {},
     "output_type": "execute_result"
    }
   ],
   "source": [
    "L=pd.DataFrame(ytrain)\n",
    "L[0].value_counts()"
   ]
  },
  {
   "cell_type": "code",
   "execution_count": 14,
   "metadata": {},
   "outputs": [
    {
     "data": {
      "text/plain": [
       "(10000, 28, 28)"
      ]
     },
     "execution_count": 14,
     "metadata": {},
     "output_type": "execute_result"
    }
   ],
   "source": [
    "xtest.shape"
   ]
  },
  {
   "cell_type": "code",
   "execution_count": 15,
   "metadata": {},
   "outputs": [],
   "source": [
    "#Represent Training & Testing samples suitable for #tensorflow backend\n",
    "#x_train=xtrain.reshape(xtrain.shape[0],784).astype('float32')\n",
    "#x_test=xtest.reshape(xtest.shape[0],784).astype('float32')"
   ]
  },
  {
   "cell_type": "code",
   "execution_count": 16,
   "metadata": {},
   "outputs": [],
   "source": [
    "# convert from integers to floats\n",
    "xtrain = xtrain.astype('float32')\n",
    "xtest = xtest.astype('float32')"
   ]
  },
  {
   "cell_type": "code",
   "execution_count": 17,
   "metadata": {},
   "outputs": [],
   "source": [
    "xtrain = xtrain / 255.0\n",
    "xtest = xtest / 255.0"
   ]
  },
  {
   "cell_type": "code",
   "execution_count": 18,
   "metadata": {},
   "outputs": [
    {
     "data": {
      "text/plain": [
       "(28, 28)"
      ]
     },
     "execution_count": 18,
     "metadata": {},
     "output_type": "execute_result"
    }
   ],
   "source": [
    "xtest[0].shape"
   ]
  },
  {
   "cell_type": "markdown",
   "metadata": {
    "colab_type": "text",
    "id": "l4TbJGeSOIU4",
    "slideshow": {
     "slide_type": "slide"
    }
   },
   "source": [
    "### Build a neural Network with a cross entropy loss function and sgd optimizer in Keras. The output layer with 10 neurons as we have 10 classes."
   ]
  },
  {
   "cell_type": "code",
   "execution_count": 19,
   "metadata": {
    "colab": {},
    "colab_type": "code",
    "id": "Ac06XZZTOIU6"
   },
   "outputs": [],
   "source": [
    "from tensorflow.keras.layers import Flatten\n",
    "# Initialize the constructor\n",
    "\n",
    "model = Sequential()\n",
    "\n",
    "# Define model architecture\n",
    "\n",
    "model.add(Flatten(input_shape=(28, 28)))\n",
    "model.add(Dense(150, activation ='relu'))\n",
    "model.add(Dense(10,activation='softmax'))"
   ]
  },
  {
   "cell_type": "code",
   "execution_count": 20,
   "metadata": {},
   "outputs": [],
   "source": [
    "model.compile(loss='categorical_crossentropy',optimizer='sgd',metrics=['accuracy'])"
   ]
  },
  {
   "cell_type": "code",
   "execution_count": 21,
   "metadata": {},
   "outputs": [
    {
     "data": {
      "text/plain": [
       "((60000, 28, 28), (10000, 28, 28))"
      ]
     },
     "execution_count": 21,
     "metadata": {},
     "output_type": "execute_result"
    }
   ],
   "source": [
    "xtrain.shape,xtest.shape"
   ]
  },
  {
   "cell_type": "code",
   "execution_count": 22,
   "metadata": {},
   "outputs": [
    {
     "data": {
      "text/plain": [
       "47040000"
      ]
     },
     "execution_count": 22,
     "metadata": {},
     "output_type": "execute_result"
    }
   ],
   "source": [
    "xtrain.size"
   ]
  },
  {
   "cell_type": "markdown",
   "metadata": {
    "colab_type": "text",
    "id": "3hQpLv3aOIU_",
    "slideshow": {
     "slide_type": "slide"
    }
   },
   "source": [
    "### Execute the model using model.fit()"
   ]
  },
  {
   "cell_type": "code",
   "execution_count": 23,
   "metadata": {
    "colab": {},
    "colab_type": "code",
    "id": "O59C_-IgOIVB"
   },
   "outputs": [
    {
     "name": "stdout",
     "output_type": "stream",
     "text": [
      "Train on 54000 samples, validate on 6000 samples\n",
      "Epoch 1/10\n",
      "54000/54000 [==============================] - 12s 216us/sample - loss: 0.7650 - accuracy: 0.7501 - val_loss: 0.5973 - val_accuracy: 0.7895\n",
      "Epoch 2/10\n",
      "54000/54000 [==============================] - 10s 179us/sample - loss: 0.5227 - accuracy: 0.8224 - val_loss: 0.4971 - val_accuracy: 0.8250\n",
      "Epoch 3/10\n",
      "54000/54000 [==============================] - 10s 186us/sample - loss: 0.4747 - accuracy: 0.8361 - val_loss: 0.4707 - val_accuracy: 0.8322\n",
      "Epoch 4/10\n",
      "54000/54000 [==============================] - 8s 155us/sample - loss: 0.4496 - accuracy: 0.8437 - val_loss: 0.4356 - val_accuracy: 0.8437\n",
      "Epoch 5/10\n",
      "54000/54000 [==============================] - 7s 123us/sample - loss: 0.4301 - accuracy: 0.8506 - val_loss: 0.4258 - val_accuracy: 0.8513\n",
      "Epoch 6/10\n",
      "54000/54000 [==============================] - 6s 119us/sample - loss: 0.4171 - accuracy: 0.8547 - val_loss: 0.4330 - val_accuracy: 0.8447\n",
      "Epoch 7/10\n",
      "54000/54000 [==============================] - 10s 190us/sample - loss: 0.4043 - accuracy: 0.8589 - val_loss: 0.4181 - val_accuracy: 0.8518\n",
      "Epoch 8/10\n",
      "54000/54000 [==============================] - 10s 181us/sample - loss: 0.3936 - accuracy: 0.8634 - val_loss: 0.3944 - val_accuracy: 0.8618\n",
      "Epoch 9/10\n",
      "54000/54000 [==============================] - 10s 189us/sample - loss: 0.3849 - accuracy: 0.8667 - val_loss: 0.4030 - val_accuracy: 0.8538\n",
      "Epoch 10/10\n",
      "54000/54000 [==============================] - 12s 220us/sample - loss: 0.3765 - accuracy: 0.8694 - val_loss: 0.3897 - val_accuracy: 0.8615\n"
     ]
    }
   ],
   "source": [
    "epochs = 10\n",
    "batch_size = 32 \n",
    "\n",
    "history = model.fit(xtrain, y_train, batch_size=batch_size, epochs=epochs, validation_split=.1, verbose=True)\n",
    "loss,accuracy  = model.evaluate(xtest, y_test, verbose=False)"
   ]
  },
  {
   "cell_type": "markdown",
   "metadata": {
    "colab_type": "text",
    "id": "JdzDtGwDOIVF",
    "slideshow": {
     "slide_type": "slide"
    }
   },
   "source": [
    "### In the above Neural Network model add Batch Normalization layer after the input layer and repeat the steps."
   ]
  },
  {
   "cell_type": "code",
   "execution_count": 25,
   "metadata": {
    "colab": {},
    "colab_type": "code",
    "id": "kndfpdidOIVI"
   },
   "outputs": [],
   "source": [
    "from tensorflow.keras.layers import BatchNormalization"
   ]
  },
  {
   "cell_type": "code",
   "execution_count": 33,
   "metadata": {},
   "outputs": [],
   "source": [
    "model_n = Sequential()\n",
    "\n",
    "# Define model architecture\n",
    "\n",
    "model_n.add(Flatten(input_shape=(28, 28)))\n",
    "model_n.add(Dense(100, activation ='relu'))\n",
    "model_n.add(BatchNormalization())\n",
    "model_n.add(Dense(10,activation='softmax'))"
   ]
  },
  {
   "cell_type": "code",
   "execution_count": 34,
   "metadata": {},
   "outputs": [],
   "source": [
    "model_n.compile(loss='categorical_crossentropy',optimizer='sgd',metrics=['accuracy'])"
   ]
  },
  {
   "cell_type": "code",
   "execution_count": 35,
   "metadata": {},
   "outputs": [
    {
     "name": "stdout",
     "output_type": "stream",
     "text": [
      "Train on 54000 samples, validate on 6000 samples\n",
      "Epoch 1/20\n",
      "54000/54000 [==============================] - 13s 237us/sample - loss: 0.5691 - accuracy: 0.8030 - val_loss: 0.4445 - val_accuracy: 0.8385\n",
      "Epoch 2/20\n",
      "54000/54000 [==============================] - 11s 201us/sample - loss: 0.4359 - accuracy: 0.8462 - val_loss: 0.4227 - val_accuracy: 0.8485\n",
      "Epoch 3/20\n",
      "54000/54000 [==============================] - 9s 167us/sample - loss: 0.4000 - accuracy: 0.8595 - val_loss: 0.3876 - val_accuracy: 0.8615\n",
      "Epoch 4/20\n",
      "54000/54000 [==============================] - 7s 131us/sample - loss: 0.3771 - accuracy: 0.8671 - val_loss: 0.4076 - val_accuracy: 0.8483\n",
      "Epoch 5/20\n",
      "54000/54000 [==============================] - 7s 131us/sample - loss: 0.3577 - accuracy: 0.8719 - val_loss: 0.3665 - val_accuracy: 0.8687\n",
      "Epoch 6/20\n",
      "54000/54000 [==============================] - 10s 187us/sample - loss: 0.3468 - accuracy: 0.8772 - val_loss: 0.3751 - val_accuracy: 0.8650\n",
      "Epoch 7/20\n",
      "54000/54000 [==============================] - 7s 132us/sample - loss: 0.3331 - accuracy: 0.8795 - val_loss: 0.3891 - val_accuracy: 0.8608\n",
      "Epoch 8/20\n",
      "54000/54000 [==============================] - 8s 142us/sample - loss: 0.3238 - accuracy: 0.8828 - val_loss: 0.3532 - val_accuracy: 0.8697\n",
      "Epoch 9/20\n",
      "54000/54000 [==============================] - 7s 133us/sample - loss: 0.3141 - accuracy: 0.8862 - val_loss: 0.3875 - val_accuracy: 0.8612\n",
      "Epoch 10/20\n",
      "54000/54000 [==============================] - 11s 207us/sample - loss: 0.3078 - accuracy: 0.8883 - val_loss: 0.3477 - val_accuracy: 0.8777\n",
      "Epoch 11/20\n",
      "54000/54000 [==============================] - 9s 173us/sample - loss: 0.2987 - accuracy: 0.8931 - val_loss: 0.3631 - val_accuracy: 0.8687\n",
      "Epoch 12/20\n",
      "54000/54000 [==============================] - 7s 132us/sample - loss: 0.2938 - accuracy: 0.8936 - val_loss: 0.3676 - val_accuracy: 0.8622\n",
      "Epoch 13/20\n",
      "54000/54000 [==============================] - 7s 134us/sample - loss: 0.2850 - accuracy: 0.8978 - val_loss: 0.3584 - val_accuracy: 0.8703\n",
      "Epoch 14/20\n",
      "54000/54000 [==============================] - 7s 132us/sample - loss: 0.2792 - accuracy: 0.8997 - val_loss: 0.3369 - val_accuracy: 0.8790\n",
      "Epoch 15/20\n",
      "54000/54000 [==============================] - 10s 184us/sample - loss: 0.2746 - accuracy: 0.9006 - val_loss: 0.3444 - val_accuracy: 0.8740\n",
      "Epoch 16/20\n",
      "54000/54000 [==============================] - 7s 138us/sample - loss: 0.2701 - accuracy: 0.9032 - val_loss: 0.3593 - val_accuracy: 0.8758\n",
      "Epoch 17/20\n",
      "54000/54000 [==============================] - 10s 178us/sample - loss: 0.2663 - accuracy: 0.9038 - val_loss: 0.3555 - val_accuracy: 0.8748\n",
      "Epoch 18/20\n",
      "54000/54000 [==============================] - 13s 246us/sample - loss: 0.2598 - accuracy: 0.9054 - val_loss: 0.3511 - val_accuracy: 0.8713\n",
      "Epoch 19/20\n",
      "54000/54000 [==============================] - 13s 233us/sample - loss: 0.2568 - accuracy: 0.9061 - val_loss: 0.3549 - val_accuracy: 0.8732\n",
      "Epoch 20/20\n",
      "54000/54000 [==============================] - 11s 208us/sample - loss: 0.2492 - accuracy: 0.9097 - val_loss: 0.3379 - val_accuracy: 0.8770\n"
     ]
    }
   ],
   "source": [
    "epochs = 20\n",
    "batch_size = 32 \n",
    "\n",
    "history = model_n.fit(xtrain, y_train, batch_size=batch_size, epochs=epochs, validation_split=.1, verbose=True)\n",
    "loss,accuracy  = model_n.evaluate(xtest, y_test, verbose=False)"
   ]
  },
  {
   "cell_type": "markdown",
   "metadata": {
    "colab_type": "text",
    "id": "mwk3T5LJOIVN",
    "slideshow": {
     "slide_type": "slide"
    }
   },
   "source": [
    "### Execute the model"
   ]
  },
  {
   "cell_type": "code",
   "execution_count": 36,
   "metadata": {
    "colab": {},
    "colab_type": "code",
    "id": "JNLR8tcBOIVP"
   },
   "outputs": [
    {
     "name": "stdout",
     "output_type": "stream",
     "text": [
      "[0.8385, 0.8485, 0.8615, 0.84833336, 0.86866665, 0.865, 0.86083335, 0.8696667, 0.86116666, 0.87766665, 0.86866665, 0.86216664, 0.8703333, 0.879, 0.874, 0.87583333, 0.87483335, 0.87133336, 0.8731667, 0.877]\n",
      "[0.8030185, 0.8462222, 0.85948145, 0.8670741, 0.87192595, 0.8772407, 0.87953705, 0.88283336, 0.8862037, 0.88831484, 0.8930926, 0.89364815, 0.89775926, 0.8996852, 0.9006111, 0.9032222, 0.9038148, 0.9053889, 0.90605557, 0.90966666]\n"
     ]
    },
    {
     "data": {
      "text/plain": [
       "<matplotlib.axes._subplots.AxesSubplot at 0x1bf4e40fdc8>"
      ]
     },
     "execution_count": 36,
     "metadata": {},
     "output_type": "execute_result"
    },
    {
     "data": {
      "image/png": "[encoded data removed]",
      "text/plain": [
       "<Figure size 432x288 with 1 Axes>"
      ]
     },
     "metadata": {
      "needs_background": "light"
     },
     "output_type": "display_data"
    }
   ],
   "source": [
    "print(history.history['val_accuracy'])\n",
    "print(history.history['accuracy'])\n",
    "\n",
    "ta = pd.DataFrame(history.history['accuracy'])\n",
    "va = pd.DataFrame(history.history['val_accuracy'])\n",
    "\n",
    "tva = pd.concat([ta,va] , axis=1)\n",
    "\n",
    "tva.boxplot()"
   ]
  },
  {
   "cell_type": "code",
   "execution_count": 37,
   "metadata": {},
   "outputs": [
    {
     "name": "stdout",
     "output_type": "stream",
     "text": [
      "Accuracy: 0.874\n",
      "Loss: 0.357\n"
     ]
    }
   ],
   "source": [
    "loss, acc = model_n.evaluate(xtest, y_test, verbose=0)\n",
    "print('Accuracy: %.3f'  % acc)\n",
    "print('Loss: %.3f' % loss)"
   ]
  },
  {
   "cell_type": "markdown",
   "metadata": {
    "colab_type": "text",
    "id": "Py-KwkmjOIVU"
   },
   "source": [
    "### Customize the learning rate to 0.001 in sgd optimizer and run the model"
   ]
  },
  {
   "cell_type": "code",
   "execution_count": 38,
   "metadata": {
    "colab": {},
    "colab_type": "code",
    "id": "yLXUE9jWOIVV"
   },
   "outputs": [],
   "source": [
    "# Initialize the constructor\n",
    "\n",
    "model_lr = Sequential()\n",
    "\n",
    "# Define model architecture\n",
    "model_lr.add(Flatten(input_shape=(28, 28)))\n",
    "model_lr.add(Dense(100, activation ='relu'))\n",
    "model_lr.add(Dense(10,activation='softmax'))"
   ]
  },
  {
   "cell_type": "code",
   "execution_count": 39,
   "metadata": {},
   "outputs": [],
   "source": [
    "from tensorflow.keras.optimizers import SGD\n",
    "opt = SGD(lr=0.001)"
   ]
  },
  {
   "cell_type": "code",
   "execution_count": 40,
   "metadata": {
    "colab": {},
    "colab_type": "code",
    "id": "pJUqA5T4OIVc"
   },
   "outputs": [],
   "source": [
    "model_lr.compile(loss='categorical_crossentropy', optimizer=opt, metrics=['accuracy'])"
   ]
  },
  {
   "cell_type": "code",
   "execution_count": 41,
   "metadata": {},
   "outputs": [
    {
     "name": "stdout",
     "output_type": "stream",
     "text": [
      "Train on 54000 samples, validate on 6000 samples\n",
      "Epoch 1/10\n",
      "54000/54000 [==============================] - 10s 187us/sample - loss: 1.5417 - accuracy: 0.5668 - val_loss: 1.0788 - val_accuracy: 0.6952\n",
      "Epoch 2/10\n",
      "54000/54000 [==============================] - 9s 165us/sample - loss: 0.9470 - accuracy: 0.7061 - val_loss: 0.8353 - val_accuracy: 0.7345\n",
      "Epoch 3/10\n",
      "54000/54000 [==============================] - 9s 171us/sample - loss: 0.7964 - accuracy: 0.7411 - val_loss: 0.7392 - val_accuracy: 0.7567\n",
      "Epoch 4/10\n",
      "54000/54000 [==============================] - 9s 170us/sample - loss: 0.7238 - accuracy: 0.7635 - val_loss: 0.6853 - val_accuracy: 0.7760\n",
      "Epoch 5/10\n",
      "54000/54000 [==============================] - 9s 162us/sample - loss: 0.6776 - accuracy: 0.7796 - val_loss: 0.6485 - val_accuracy: 0.7817\n",
      "Epoch 6/10\n",
      "54000/54000 [==============================] - 8s 141us/sample - loss: 0.6440 - accuracy: 0.7890 - val_loss: 0.6214 - val_accuracy: 0.7935\n",
      "Epoch 7/10\n",
      "54000/54000 [==============================] - 8s 149us/sample - loss: 0.6176 - accuracy: 0.7979 - val_loss: 0.5983 - val_accuracy: 0.7973\n",
      "Epoch 8/10\n",
      "54000/54000 [==============================] - 8s 142us/sample - loss: 0.5969 - accuracy: 0.8037 - val_loss: 0.5802 - val_accuracy: 0.8018\n",
      "Epoch 9/10\n",
      "54000/54000 [==============================] - 8s 144us/sample - loss: 0.5799 - accuracy: 0.8084 - val_loss: 0.5651 - val_accuracy: 0.8078\n",
      "Epoch 10/10\n",
      "54000/54000 [==============================] - 8s 145us/sample - loss: 0.5653 - accuracy: 0.8130 - val_loss: 0.5539 - val_accuracy: 0.8098\n"
     ]
    }
   ],
   "source": [
    "epochs = 10\n",
    "batch_size = 32\n",
    "\n",
    "\n",
    "history_lr = model_lr.fit(xtrain, y_train, batch_size=batch_size, epochs=epochs, validation_split=.1, verbose=True)\n",
    "loss,accuracy  = model_lr.evaluate(xtest, y_test, verbose=False)"
   ]
  },
  {
   "cell_type": "markdown",
   "metadata": {
    "colab_type": "text",
    "id": "j9CSqKvpOIVk",
    "slideshow": {
     "slide_type": "slide"
    }
   },
   "source": [
    "### Build the Neural Network model with 3 Dense layers with 100,100,10 neurons respectively in each layer. Use cross entropy loss function and singmoid as activation in the hidden layers and softmax as activation function in the output layer. Use sgd optimizer with learning rate 0.03."
   ]
  },
  {
   "cell_type": "code",
   "execution_count": 42,
   "metadata": {
    "colab": {},
    "colab_type": "code",
    "id": "GGAad54JOIVm"
   },
   "outputs": [],
   "source": [
    "# Initialize the constructor\n",
    "\n",
    "model_lr1 = Sequential()\n",
    "\n",
    "# Define model architecture\n",
    "\n",
    "model_lr1.add(Flatten(input_shape=(28, 28)))\n",
    "model_lr1.add(Dense(100, activation ='sigmoid'))\n",
    "model_lr1.add(Dense(100, activation ='sigmoid'))\n",
    "model_lr1.add(Dense(10,activation='softmax'))"
   ]
  },
  {
   "cell_type": "markdown",
   "metadata": {},
   "source": [
    "# Review model"
   ]
  },
  {
   "cell_type": "code",
   "execution_count": 43,
   "metadata": {
    "colab": {},
    "colab_type": "code",
    "id": "MQ7oIymROIVp"
   },
   "outputs": [],
   "source": [
    "from tensorflow.keras.optimizers import SGD\n",
    "opt = SGD(lr=0.03)\n",
    "model_lr1.compile(loss='categorical_crossentropy', optimizer=opt, metrics=['accuracy'])"
   ]
  },
  {
   "cell_type": "markdown",
   "metadata": {},
   "source": [
    "# Run the model"
   ]
  },
  {
   "cell_type": "code",
   "execution_count": 44,
   "metadata": {
    "colab": {},
    "colab_type": "code",
    "id": "X-O-fFxnOIVt"
   },
   "outputs": [
    {
     "name": "stdout",
     "output_type": "stream",
     "text": [
      "Train on 54000 samples, validate on 6000 samples\n",
      "Epoch 1/10\n",
      "54000/54000 [==============================] - 9s 170us/sample - loss: 1.5295 - accuracy: 0.5315 - val_loss: 0.9755 - val_accuracy: 0.6967\n",
      "Epoch 2/10\n",
      "54000/54000 [==============================] - 8s 152us/sample - loss: 0.8137 - accuracy: 0.7204 - val_loss: 0.6943 - val_accuracy: 0.7497\n",
      "Epoch 3/10\n",
      "54000/54000 [==============================] - 8s 155us/sample - loss: 0.6510 - accuracy: 0.7613 - val_loss: 0.6069 - val_accuracy: 0.7728\n",
      "Epoch 4/10\n",
      "54000/54000 [==============================] - 8s 149us/sample - loss: 0.5829 - accuracy: 0.7879 - val_loss: 0.5555 - val_accuracy: 0.7983\n",
      "Epoch 5/10\n",
      "54000/54000 [==============================] - 9s 161us/sample - loss: 0.5391 - accuracy: 0.8068 - val_loss: 0.5206 - val_accuracy: 0.8135\n",
      "Epoch 6/10\n",
      "54000/54000 [==============================] - 9s 173us/sample - loss: 0.5073 - accuracy: 0.8193 - val_loss: 0.4970 - val_accuracy: 0.8263\n",
      "Epoch 7/10\n",
      "54000/54000 [==============================] - 8s 156us/sample - loss: 0.4836 - accuracy: 0.8276 - val_loss: 0.4729 - val_accuracy: 0.8292\n",
      "Epoch 8/10\n",
      "54000/54000 [==============================] - 8s 157us/sample - loss: 0.4653 - accuracy: 0.8339 - val_loss: 0.4555 - val_accuracy: 0.8342\n",
      "Epoch 9/10\n",
      "54000/54000 [==============================] - 8s 149us/sample - loss: 0.4505 - accuracy: 0.8400 - val_loss: 0.4494 - val_accuracy: 0.8397\n",
      "Epoch 10/10\n",
      "54000/54000 [==============================] - 8s 152us/sample - loss: 0.4383 - accuracy: 0.8441 - val_loss: 0.4373 - val_accuracy: 0.8415\n"
     ]
    }
   ],
   "source": [
    "epochs = 10\n",
    "batch_size = 32\n",
    "\n",
    "history_lr1 = model_lr1.fit(xtrain, y_train, batch_size=batch_size, epochs=epochs, validation_split=.1, verbose=True)\n",
    "loss,accuracy  = model_lr1.evaluate(xtest, y_test, verbose=False)"
   ]
  },
  {
   "cell_type": "code",
   "execution_count": 45,
   "metadata": {
    "colab": {},
    "colab_type": "code",
    "id": "BiP7IL52OIVw"
   },
   "outputs": [],
   "source": [
    "predictions = model_n.predict(xtest)"
   ]
  },
  {
   "cell_type": "code",
   "execution_count": 46,
   "metadata": {
    "colab": {},
    "colab_type": "code",
    "id": "h4ojW6-oOIV2"
   },
   "outputs": [
    {
     "data": {
      "text/plain": [
       "array([1.82410313e-05, 7.75863955e-05, 2.60119559e-04, 1.23554055e-05,\n",
       "       2.79741544e-05, 1.37713710e-02, 1.92216794e-05, 5.16990619e-03,\n",
       "       2.48138706e-04, 9.80395019e-01], dtype=float32)"
      ]
     },
     "execution_count": 46,
     "metadata": {},
     "output_type": "execute_result"
    }
   ],
   "source": [
    "predictions[0]"
   ]
  },
  {
   "cell_type": "code",
   "execution_count": 47,
   "metadata": {
    "colab": {},
    "colab_type": "code",
    "id": "bIkbMEN5OIV7"
   },
   "outputs": [
    {
     "data": {
      "text/plain": [
       "9"
      ]
     },
     "execution_count": 47,
     "metadata": {},
     "output_type": "execute_result"
    }
   ],
   "source": [
    "np.argmax(predictions[0])"
   ]
  },
  {
   "cell_type": "code",
   "execution_count": 48,
   "metadata": {},
   "outputs": [
    {
     "data": {
      "text/plain": [
       "9"
      ]
     },
     "execution_count": 48,
     "metadata": {},
     "output_type": "execute_result"
    }
   ],
   "source": [
    "ytest[0]"
   ]
  },
  {
   "cell_type": "code",
   "execution_count": 49,
   "metadata": {},
   "outputs": [
    {
     "name": "stdout",
     "output_type": "stream",
     "text": [
      "[[781   2  15  21   8   1 165   0   7   0]\n",
      " [  4 971   2  18   2   0   2   0   1   0]\n",
      " [ 15   2 795  11 101   0  70   0   6   0]\n",
      " [ 25  10  13 855  55   0  36   1   5   0]\n",
      " [  1   1 101  20 801   0  71   0   5   0]\n",
      " [  0   0   0   1   0 957   0  19   2  21]\n",
      " [ 96   0  81  17  77   0 716   0  13   0]\n",
      " [  0   0   0   0   0  29   0 936   0  35]\n",
      " [  4   0   3   5   5   5   9   4 965   0]\n",
      " [  0   0   0   0   0   6   1  32   0 961]]\n"
     ]
    }
   ],
   "source": [
    "y_pred = []\n",
    "for val in predictions:\n",
    "    y_pred.append(np.argmax(val))\n",
    "cm = metrics.confusion_matrix(ytest,y_pred)\n",
    "print(cm)"
   ]
  },
  {
   "cell_type": "code",
   "execution_count": 50,
   "metadata": {},
   "outputs": [
    {
     "name": "stdout",
     "output_type": "stream",
     "text": [
      "              precision    recall  f1-score   support\n",
      "\n",
      "           0       0.84      0.78      0.81      1000\n",
      "           1       0.98      0.97      0.98      1000\n",
      "           2       0.79      0.80      0.79      1000\n",
      "           3       0.90      0.85      0.88      1000\n",
      "           4       0.76      0.80      0.78      1000\n",
      "           5       0.96      0.96      0.96      1000\n",
      "           6       0.67      0.72      0.69      1000\n",
      "           7       0.94      0.94      0.94      1000\n",
      "           8       0.96      0.96      0.96      1000\n",
      "           9       0.94      0.96      0.95      1000\n",
      "\n",
      "    accuracy                           0.87     10000\n",
      "   macro avg       0.88      0.87      0.87     10000\n",
      "weighted avg       0.88      0.87      0.87     10000\n",
      "\n"
     ]
    }
   ],
   "source": [
    "cr=metrics.classification_report(ytest,y_pred)\n",
    "print(cr)"
   ]
  }
 ],
 "metadata": {
  "colab": {
   "name": "R6_ExternalLab_AIML.ipynb",
   "provenance": [],
   "version": "0.3.2"
  },
  "kernelspec": {
   "display_name": "Python 3",
   "language": "python",
   "name": "python3"
  },
  "language_info": {
   "codemirror_mode": {
    "name": "ipython",
    "version": 3
   },
   "file_extension": ".py",
   "mimetype": "text/x-python",
   "name": "python",
   "nbconvert_exporter": "python",
   "pygments_lexer": "ipython3",
   "version": "3.7.4"
  }
 },
 "nbformat": 4,
 "nbformat_minor": 1
}
